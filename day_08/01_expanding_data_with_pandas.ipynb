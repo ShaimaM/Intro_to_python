{
  "nbformat": 4,
  "nbformat_minor": 0,
  "metadata": {
    "kernelspec": {
      "display_name": "Python 3",
      "language": "python",
      "name": "python3"
    },
    "language_info": {
      "codemirror_mode": {
        "name": "ipython",
        "version": 3
      },
      "file_extension": ".py",
      "mimetype": "text/x-python",
      "name": "python",
      "nbconvert_exporter": "python",
      "pygments_lexer": "ipython3",
      "version": "3.8.6"
    },
    "colab": {
      "name": "01_expanding_data_with_pandas.ipynb",
      "provenance": [],
      "include_colab_link": true
    }
  },
  "cells": [
    {
      "cell_type": "markdown",
      "metadata": {
        "id": "view-in-github",
        "colab_type": "text"
      },
      "source": [
        "<a href=\"https://colab.research.google.com/github/gumdropsteve/intro_to_python/blob/main/day_08/01_expanding_data_with_pandas.ipynb\" target=\"_parent\"><img src=\"https://colab.research.google.com/assets/colab-badge.svg\" alt=\"Open In Colab\"/></a>"
      ]
    },
    {
      "cell_type": "markdown",
      "metadata": {
        "id": "wbl9EBLZJJ2J"
      },
      "source": [
        "# Going from 8 Columns to 33 Columns and then Joining the Datas Together with Pandas\n",
        "\n",
        "#### Where we are\n",
        "How data collected then looks..."
      ]
    },
    {
      "cell_type": "code",
      "metadata": {
        "id": "UBkM8d1nJJ22",
        "colab": {
          "base_uri": "https://localhost:8080/",
          "height": 141
        },
        "outputId": "62fc7371-f14a-4f20-e8a8-a1f799d46547"
      },
      "source": [
        "import pandas as pd\n",
        "\n",
        "pd.read_csv('https://github.com/gumdropsteve/intro_to_python/raw/main/day_08/data/las_vegas_2020-12-26.csv').sample(3)"
      ],
      "execution_count": 1,
      "outputs": [
        {
          "output_type": "execute_result",
          "data": {
            "text/html": [
              "<div>\n",
              "<style scoped>\n",
              "    .dataframe tbody tr th:only-of-type {\n",
              "        vertical-align: middle;\n",
              "    }\n",
              "\n",
              "    .dataframe tbody tr th {\n",
              "        vertical-align: top;\n",
              "    }\n",
              "\n",
              "    .dataframe thead th {\n",
              "        text-align: right;\n",
              "    }\n",
              "</style>\n",
              "<table border=\"1\" class=\"dataframe\">\n",
              "  <thead>\n",
              "    <tr style=\"text-align: right;\">\n",
              "      <th></th>\n",
              "      <th>a</th>\n",
              "      <th>b</th>\n",
              "      <th>c</th>\n",
              "      <th>d</th>\n",
              "      <th>e</th>\n",
              "      <th>f</th>\n",
              "      <th>g</th>\n",
              "      <th>h</th>\n",
              "    </tr>\n",
              "  </thead>\n",
              "  <tbody>\n",
              "    <tr>\n",
              "      <th>112</th>\n",
              "      <td>https://airbnb.com/rooms/45503705</td>\n",
              "      <td>Family Home to relax in near to strip and all ...</td>\n",
              "      <td>Entire house in Las Vegas</td>\n",
              "      <td>6 guests · 2 bedrooms · 3 beds · 1.5 baths</td>\n",
              "      <td>$ 61 / night</td>\n",
              "      <td>Breakfast·Wifi·Selfcheck-in·Airconditioning</td>\n",
              "      <td>NaN</td>\n",
              "      <td>NaN</td>\n",
              "    </tr>\n",
              "    <tr>\n",
              "      <th>149</th>\n",
              "      <td>https://airbnb.com/rooms/45303440</td>\n",
              "      <td>Las Vegas Studio for Convention or Pleasure - ...</td>\n",
              "      <td>Resort room in Las Vegas</td>\n",
              "      <td>2 guests · Studio · 0 beds · 1 shared bath</td>\n",
              "      <td>$90 / night</td>\n",
              "      <td>Wifi·Airconditioning·Pool·Kitchen</td>\n",
              "      <td>NaN</td>\n",
              "      <td>NaN</td>\n",
              "    </tr>\n",
              "    <tr>\n",
              "      <th>225</th>\n",
              "      <td>https://airbnb.com/rooms/46329778</td>\n",
              "      <td>A place of your own | Studio in Las Vegas - nu...</td>\n",
              "      <td>Entire serviced apartment in Las Vegas</td>\n",
              "      <td>1 guest · Studio · 1 bed · 1 bath</td>\n",
              "      <td>$83 / night</td>\n",
              "      <td>Pool·Wifi</td>\n",
              "      <td>NaN</td>\n",
              "      <td>NaN</td>\n",
              "    </tr>\n",
              "  </tbody>\n",
              "</table>\n",
              "</div>"
            ],
            "text/plain": [
              "                                     a  ...    h\n",
              "112  https://airbnb.com/rooms/45503705  ...  NaN\n",
              "149  https://airbnb.com/rooms/45303440  ...  NaN\n",
              "225  https://airbnb.com/rooms/46329778  ...  NaN\n",
              "\n",
              "[3 rows x 8 columns]"
            ]
          },
          "metadata": {
            "tags": []
          },
          "execution_count": 1
        }
      ]
    },
    {
      "cell_type": "markdown",
      "metadata": {
        "id": "e3U8-epfJJ3C"
      },
      "source": [
        "#### Where we want to go\r\n",
        "How data collected now looks..."
      ]
    },
    {
      "cell_type": "code",
      "metadata": {
        "id": "UPZiiucXJJ3D",
        "colab": {
          "base_uri": "https://localhost:8080/",
          "height": 334
        },
        "outputId": "0d0e1396-d096-4e48-eb50-ae7931329ccf"
      },
      "source": [
        "pd.read_csv('https://github.com/gumdropsteve/intro_to_python/raw/main/day_08/data/las_vegas_2021-01-11.csv').sample(3)"
      ],
      "execution_count": 2,
      "outputs": [
        {
          "output_type": "execute_result",
          "data": {
            "text/html": [
              "<div>\n",
              "<style scoped>\n",
              "    .dataframe tbody tr th:only-of-type {\n",
              "        vertical-align: middle;\n",
              "    }\n",
              "\n",
              "    .dataframe tbody tr th {\n",
              "        vertical-align: top;\n",
              "    }\n",
              "\n",
              "    .dataframe thead th {\n",
              "        text-align: right;\n",
              "    }\n",
              "</style>\n",
              "<table border=\"1\" class=\"dataframe\">\n",
              "  <thead>\n",
              "    <tr style=\"text-align: right;\">\n",
              "      <th></th>\n",
              "      <th>url</th>\n",
              "      <th>title</th>\n",
              "      <th>type</th>\n",
              "      <th>location</th>\n",
              "      <th>guests</th>\n",
              "      <th>bedrooms</th>\n",
              "      <th>beds</th>\n",
              "      <th>is_studio</th>\n",
              "      <th>baths</th>\n",
              "      <th>half_baths</th>\n",
              "      <th>shared_baths</th>\n",
              "      <th>price</th>\n",
              "      <th>avg_rating</th>\n",
              "      <th>n_reviews</th>\n",
              "      <th>gym_bool</th>\n",
              "      <th>wifi_bool</th>\n",
              "      <th>self_check_in_bool</th>\n",
              "      <th>air_conditioning_bool</th>\n",
              "      <th>pets_allowed_bool</th>\n",
              "      <th>indoor_fireplace_bool</th>\n",
              "      <th>hot_tub_bool</th>\n",
              "      <th>free_parking_bool</th>\n",
              "      <th>pool_bool</th>\n",
              "      <th>kitchen_bool</th>\n",
              "      <th>breakfast_bool</th>\n",
              "      <th>elevator_bool</th>\n",
              "      <th>washer_bool</th>\n",
              "      <th>dryer_bool</th>\n",
              "      <th>heating_bool</th>\n",
              "      <th>waterfront_bool</th>\n",
              "      <th>dishwasher_bool</th>\n",
              "      <th>beachfront_bool</th>\n",
              "      <th>ski_in_ski_out_bool</th>\n",
              "    </tr>\n",
              "  </thead>\n",
              "  <tbody>\n",
              "    <tr>\n",
              "      <th>206</th>\n",
              "      <td>https://airbnb.com/rooms/6328454</td>\n",
              "      <td>Single bed inside 8 Bed Mixed Dormitory</td>\n",
              "      <td>Hotel room</td>\n",
              "      <td>Las Vegas</td>\n",
              "      <td>8.0</td>\n",
              "      <td>1</td>\n",
              "      <td>8.0</td>\n",
              "      <td>False</td>\n",
              "      <td>1.0</td>\n",
              "      <td>NaN</td>\n",
              "      <td>NaN</td>\n",
              "      <td>25.0</td>\n",
              "      <td>4.76</td>\n",
              "      <td>300.0</td>\n",
              "      <td>NaN</td>\n",
              "      <td>True</td>\n",
              "      <td>NaN</td>\n",
              "      <td>NaN</td>\n",
              "      <td>NaN</td>\n",
              "      <td>NaN</td>\n",
              "      <td>NaN</td>\n",
              "      <td>NaN</td>\n",
              "      <td>NaN</td>\n",
              "      <td>NaN</td>\n",
              "      <td>NaN</td>\n",
              "      <td>NaN</td>\n",
              "      <td>NaN</td>\n",
              "      <td>NaN</td>\n",
              "      <td>NaN</td>\n",
              "      <td>NaN</td>\n",
              "      <td>NaN</td>\n",
              "      <td>NaN</td>\n",
              "      <td>NaN</td>\n",
              "    </tr>\n",
              "    <tr>\n",
              "      <th>75</th>\n",
              "      <td>https://airbnb.com/rooms/47239287</td>\n",
              "      <td>Pool view westside cozy apartment</td>\n",
              "      <td>Entire condominium</td>\n",
              "      <td>Las Vegas</td>\n",
              "      <td>2.0</td>\n",
              "      <td>1</td>\n",
              "      <td>2.0</td>\n",
              "      <td>False</td>\n",
              "      <td>1.0</td>\n",
              "      <td>NaN</td>\n",
              "      <td>NaN</td>\n",
              "      <td>70.0</td>\n",
              "      <td>NaN</td>\n",
              "      <td>NaN</td>\n",
              "      <td>NaN</td>\n",
              "      <td>True</td>\n",
              "      <td>NaN</td>\n",
              "      <td>NaN</td>\n",
              "      <td>NaN</td>\n",
              "      <td>NaN</td>\n",
              "      <td>NaN</td>\n",
              "      <td>True</td>\n",
              "      <td>True</td>\n",
              "      <td>NaN</td>\n",
              "      <td>NaN</td>\n",
              "      <td>NaN</td>\n",
              "      <td>NaN</td>\n",
              "      <td>NaN</td>\n",
              "      <td>NaN</td>\n",
              "      <td>NaN</td>\n",
              "      <td>NaN</td>\n",
              "      <td>NaN</td>\n",
              "      <td>NaN</td>\n",
              "    </tr>\n",
              "    <tr>\n",
              "      <th>141</th>\n",
              "      <td>https://airbnb.com/rooms/40331445</td>\n",
              "      <td>#2 cozy room near strip</td>\n",
              "      <td>Private room</td>\n",
              "      <td>Las Vegas</td>\n",
              "      <td>NaN</td>\n",
              "      <td>0</td>\n",
              "      <td>NaN</td>\n",
              "      <td>True</td>\n",
              "      <td>NaN</td>\n",
              "      <td>NaN</td>\n",
              "      <td>NaN</td>\n",
              "      <td>20.0</td>\n",
              "      <td>NaN</td>\n",
              "      <td>NaN</td>\n",
              "      <td>NaN</td>\n",
              "      <td>True</td>\n",
              "      <td>NaN</td>\n",
              "      <td>NaN</td>\n",
              "      <td>NaN</td>\n",
              "      <td>NaN</td>\n",
              "      <td>True</td>\n",
              "      <td>True</td>\n",
              "      <td>NaN</td>\n",
              "      <td>NaN</td>\n",
              "      <td>NaN</td>\n",
              "      <td>NaN</td>\n",
              "      <td>NaN</td>\n",
              "      <td>NaN</td>\n",
              "      <td>NaN</td>\n",
              "      <td>NaN</td>\n",
              "      <td>NaN</td>\n",
              "      <td>NaN</td>\n",
              "      <td>NaN</td>\n",
              "    </tr>\n",
              "  </tbody>\n",
              "</table>\n",
              "</div>"
            ],
            "text/plain": [
              "                                   url  ... ski_in_ski_out_bool\n",
              "206   https://airbnb.com/rooms/6328454  ...                 NaN\n",
              "75   https://airbnb.com/rooms/47239287  ...                 NaN\n",
              "141  https://airbnb.com/rooms/40331445  ...                 NaN\n",
              "\n",
              "[3 rows x 33 columns]"
            ]
          },
          "metadata": {
            "tags": []
          },
          "execution_count": 2
        }
      ]
    },
    {
      "cell_type": "code",
      "metadata": {
        "id": "fsH4FH0YJJ3F",
        "colab": {
          "base_uri": "https://localhost:8080/"
        },
        "outputId": "831d0162-c06a-4739-bc51-3cb5aeed77a8"
      },
      "source": [
        "pd.read_csv('https://github.com/gumdropsteve/intro_to_python/raw/main/day_08/data/las_vegas_2021-01-11.csv').columns"
      ],
      "execution_count": 3,
      "outputs": [
        {
          "output_type": "execute_result",
          "data": {
            "text/plain": [
              "Index(['url', 'title', 'type', 'location', 'guests', 'bedrooms', 'beds',\n",
              "       'is_studio', 'baths', 'half_baths', 'shared_baths', 'price',\n",
              "       'avg_rating', 'n_reviews', 'gym_bool', 'wifi_bool',\n",
              "       'self_check_in_bool', 'air_conditioning_bool', 'pets_allowed_bool',\n",
              "       'indoor_fireplace_bool', 'hot_tub_bool', 'free_parking_bool',\n",
              "       'pool_bool', 'kitchen_bool', 'breakfast_bool', 'elevator_bool',\n",
              "       'washer_bool', 'dryer_bool', 'heating_bool', 'waterfront_bool',\n",
              "       'dishwasher_bool', 'beachfront_bool', 'ski_in_ski_out_bool'],\n",
              "      dtype='object')"
            ]
          },
          "metadata": {
            "tags": []
          },
          "execution_count": 3
        }
      ]
    },
    {
      "cell_type": "code",
      "metadata": {
        "id": "6DFtfCw8JJ3G",
        "colab": {
          "base_uri": "https://localhost:8080/"
        },
        "outputId": "6f68c6b5-8d53-486f-952e-faf498ac10f3"
      },
      "source": [
        "pd.read_csv('https://github.com/gumdropsteve/intro_to_python/raw/main/day_08/data/las_vegas_2021-01-11.csv').n_reviews"
      ],
      "execution_count": 4,
      "outputs": [
        {
          "output_type": "execute_result",
          "data": {
            "text/plain": [
              "0       NaN\n",
              "1      46.0\n",
              "2       NaN\n",
              "3       NaN\n",
              "4      19.0\n",
              "       ... \n",
              "295     6.0\n",
              "296     4.0\n",
              "297     NaN\n",
              "298    70.0\n",
              "299    12.0\n",
              "Name: n_reviews, Length: 300, dtype: float64"
            ]
          },
          "metadata": {
            "tags": []
          },
          "execution_count": 4
        }
      ]
    },
    {
      "cell_type": "markdown",
      "metadata": {
        "id": "b3cLH40OJJ3H"
      },
      "source": [
        "## Let's get started\n",
        "https://pandas.pydata.org/pandas-docs/stable/reference/api/pandas.Series.str.split.html"
      ]
    },
    {
      "cell_type": "code",
      "metadata": {
        "id": "gRFzExkKJJ3H",
        "colab": {
          "base_uri": "https://localhost:8080/",
          "height": 110
        },
        "outputId": "6cf86905-5ba5-4b03-a4f2-d5d1f3e7b749"
      },
      "source": [
        "df = pd.read_csv('https://github.com/gumdropsteve/intro_to_python/raw/main/day_08/data/las_vegas_2020-12-26.csv')\n",
        "\n",
        "df.tail(2)"
      ],
      "execution_count": 5,
      "outputs": [
        {
          "output_type": "execute_result",
          "data": {
            "text/html": [
              "<div>\n",
              "<style scoped>\n",
              "    .dataframe tbody tr th:only-of-type {\n",
              "        vertical-align: middle;\n",
              "    }\n",
              "\n",
              "    .dataframe tbody tr th {\n",
              "        vertical-align: top;\n",
              "    }\n",
              "\n",
              "    .dataframe thead th {\n",
              "        text-align: right;\n",
              "    }\n",
              "</style>\n",
              "<table border=\"1\" class=\"dataframe\">\n",
              "  <thead>\n",
              "    <tr style=\"text-align: right;\">\n",
              "      <th></th>\n",
              "      <th>a</th>\n",
              "      <th>b</th>\n",
              "      <th>c</th>\n",
              "      <th>d</th>\n",
              "      <th>e</th>\n",
              "      <th>f</th>\n",
              "      <th>g</th>\n",
              "      <th>h</th>\n",
              "    </tr>\n",
              "  </thead>\n",
              "  <tbody>\n",
              "    <tr>\n",
              "      <th>298</th>\n",
              "      <td>https://airbnb.com/rooms/40331445</td>\n",
              "      <td>#2 cozy room near strip - null - Las Vegas</td>\n",
              "      <td>Private room in Las Vegas</td>\n",
              "      <td>2 guests · Studio · 1 bed · 1 shared bath</td>\n",
              "      <td>$20 / night</td>\n",
              "      <td>Wifi·Airconditioning·Kitchen·Freeparking</td>\n",
              "      <td>NaN</td>\n",
              "      <td>NaN</td>\n",
              "    </tr>\n",
              "    <tr>\n",
              "      <th>299</th>\n",
              "      <td>https://airbnb.com/rooms/16479650</td>\n",
              "      <td>P 58 Penthouse w/Jacuzzi on Balcony | Sleeps 6...</td>\n",
              "      <td>Entire serviced apartment in Las Vegas</td>\n",
              "      <td>6 guests · 1 bedroom · 3 beds · 1.5 baths</td>\n",
              "      <td>$586 / night</td>\n",
              "      <td>Gym·Elevator·Wifi·Selfcheck-in</td>\n",
              "      <td>Rating 4.76 out of 5;4.76103 reviews (103)</td>\n",
              "      <td>103 reviews</td>\n",
              "    </tr>\n",
              "  </tbody>\n",
              "</table>\n",
              "</div>"
            ],
            "text/plain": [
              "                                     a  ...            h\n",
              "298  https://airbnb.com/rooms/40331445  ...          NaN\n",
              "299  https://airbnb.com/rooms/16479650  ...  103 reviews\n",
              "\n",
              "[2 rows x 8 columns]"
            ]
          },
          "metadata": {
            "tags": []
          },
          "execution_count": 5
        }
      ]
    },
    {
      "cell_type": "markdown",
      "metadata": {
        "id": "iQRECbUXJJ3I"
      },
      "source": [
        "#### Turning c into type & location"
      ]
    },
    {
      "cell_type": "code",
      "metadata": {
        "id": "n52R2XdNJJ3I",
        "colab": {
          "base_uri": "https://localhost:8080/"
        },
        "outputId": "d53ff484-515d-4d61-e2b6-25a25f8c0c1e"
      },
      "source": [
        "df['c'].str.split()"
      ],
      "execution_count": 6,
      "outputs": [
        {
          "output_type": "execute_result",
          "data": {
            "text/plain": [
              "0                    [Private, room, in, Las, Vegas]\n",
              "1                    [Entire, house, in, Las, Vegas]\n",
              "2                    [Private, room, in, Las, Vegas]\n",
              "3              [Entire, condominium, in, Las, Vegas]\n",
              "4                [Entire, apartment, in, Las, Vegas]\n",
              "                           ...                      \n",
              "295              [Entire, townhouse, in, Las, Vegas]\n",
              "296              [Entire, apartment, in, Las, Vegas]\n",
              "297           [Entire, guest, suite, in, Las, Vegas]\n",
              "298                  [Private, room, in, Las, Vegas]\n",
              "299    [Entire, serviced, apartment, in, Las, Vegas]\n",
              "Name: c, Length: 300, dtype: object"
            ]
          },
          "metadata": {
            "tags": []
          },
          "execution_count": 6
        }
      ]
    },
    {
      "cell_type": "code",
      "metadata": {
        "id": "1flrOdqIJJ3J",
        "colab": {
          "base_uri": "https://localhost:8080/"
        },
        "outputId": "9bd1fafa-06df-4718-9372-84f4dd2d5e7b"
      },
      "source": [
        "# I only wanted 2 things\n",
        "df['c'].str.split(' in ')"
      ],
      "execution_count": 7,
      "outputs": [
        {
          "output_type": "execute_result",
          "data": {
            "text/plain": [
              "0                   [Private room, Las Vegas]\n",
              "1                   [Entire house, Las Vegas]\n",
              "2                   [Private room, Las Vegas]\n",
              "3             [Entire condominium, Las Vegas]\n",
              "4               [Entire apartment, Las Vegas]\n",
              "                        ...                  \n",
              "295             [Entire townhouse, Las Vegas]\n",
              "296             [Entire apartment, Las Vegas]\n",
              "297           [Entire guest suite, Las Vegas]\n",
              "298                [Private room, Las Vegas ]\n",
              "299    [Entire serviced apartment, Las Vegas]\n",
              "Name: c, Length: 300, dtype: object"
            ]
          },
          "metadata": {
            "tags": []
          },
          "execution_count": 7
        }
      ]
    },
    {
      "cell_type": "code",
      "metadata": {
        "id": "gPsk_JvlJJ3J",
        "colab": {
          "base_uri": "https://localhost:8080/"
        },
        "outputId": "2d04566b-a66b-4ec6-a360-8343632aa967"
      },
      "source": [
        "df['c'].str.split(' in ')[0]"
      ],
      "execution_count": 8,
      "outputs": [
        {
          "output_type": "execute_result",
          "data": {
            "text/plain": [
              "['Private room', 'Las Vegas']"
            ]
          },
          "metadata": {
            "tags": []
          },
          "execution_count": 8
        }
      ]
    },
    {
      "cell_type": "code",
      "metadata": {
        "id": "LcXwel1jJJ3K",
        "colab": {
          "base_uri": "https://localhost:8080/"
        },
        "outputId": "ad6fe5dd-1935-49d5-d111-0b5a962beb46"
      },
      "source": [
        "# But I wanted 2 columns\n",
        "# https://pandas.pydata.org/pandas-docs/stable/reference/api/pandas.Series.str.split.html#pandas.Series.str.split\n",
        "df['c'].str.split(' in ', expand=True)[0]"
      ],
      "execution_count": 9,
      "outputs": [
        {
          "output_type": "execute_result",
          "data": {
            "text/plain": [
              "0                   Private room\n",
              "1                   Entire house\n",
              "2                   Private room\n",
              "3             Entire condominium\n",
              "4               Entire apartment\n",
              "                 ...            \n",
              "295             Entire townhouse\n",
              "296             Entire apartment\n",
              "297           Entire guest suite\n",
              "298                 Private room\n",
              "299    Entire serviced apartment\n",
              "Name: 0, Length: 300, dtype: object"
            ]
          },
          "metadata": {
            "tags": []
          },
          "execution_count": 9
        }
      ]
    },
    {
      "cell_type": "code",
      "metadata": {
        "id": "DNP5PCHgJJ3L",
        "colab": {
          "base_uri": "https://localhost:8080/",
          "height": 416
        },
        "outputId": "e2c03598-7e5a-448f-b46b-9bd00b66ae3a"
      },
      "source": [
        "df['c'].str.split(' in ', expand=True)"
      ],
      "execution_count": 10,
      "outputs": [
        {
          "output_type": "execute_result",
          "data": {
            "text/html": [
              "<div>\n",
              "<style scoped>\n",
              "    .dataframe tbody tr th:only-of-type {\n",
              "        vertical-align: middle;\n",
              "    }\n",
              "\n",
              "    .dataframe tbody tr th {\n",
              "        vertical-align: top;\n",
              "    }\n",
              "\n",
              "    .dataframe thead th {\n",
              "        text-align: right;\n",
              "    }\n",
              "</style>\n",
              "<table border=\"1\" class=\"dataframe\">\n",
              "  <thead>\n",
              "    <tr style=\"text-align: right;\">\n",
              "      <th></th>\n",
              "      <th>0</th>\n",
              "      <th>1</th>\n",
              "      <th>2</th>\n",
              "    </tr>\n",
              "  </thead>\n",
              "  <tbody>\n",
              "    <tr>\n",
              "      <th>0</th>\n",
              "      <td>Private room</td>\n",
              "      <td>Las Vegas</td>\n",
              "      <td>None</td>\n",
              "    </tr>\n",
              "    <tr>\n",
              "      <th>1</th>\n",
              "      <td>Entire house</td>\n",
              "      <td>Las Vegas</td>\n",
              "      <td>None</td>\n",
              "    </tr>\n",
              "    <tr>\n",
              "      <th>2</th>\n",
              "      <td>Private room</td>\n",
              "      <td>Las Vegas</td>\n",
              "      <td>None</td>\n",
              "    </tr>\n",
              "    <tr>\n",
              "      <th>3</th>\n",
              "      <td>Entire condominium</td>\n",
              "      <td>Las Vegas</td>\n",
              "      <td>None</td>\n",
              "    </tr>\n",
              "    <tr>\n",
              "      <th>4</th>\n",
              "      <td>Entire apartment</td>\n",
              "      <td>Las Vegas</td>\n",
              "      <td>None</td>\n",
              "    </tr>\n",
              "    <tr>\n",
              "      <th>...</th>\n",
              "      <td>...</td>\n",
              "      <td>...</td>\n",
              "      <td>...</td>\n",
              "    </tr>\n",
              "    <tr>\n",
              "      <th>295</th>\n",
              "      <td>Entire townhouse</td>\n",
              "      <td>Las Vegas</td>\n",
              "      <td>None</td>\n",
              "    </tr>\n",
              "    <tr>\n",
              "      <th>296</th>\n",
              "      <td>Entire apartment</td>\n",
              "      <td>Las Vegas</td>\n",
              "      <td>None</td>\n",
              "    </tr>\n",
              "    <tr>\n",
              "      <th>297</th>\n",
              "      <td>Entire guest suite</td>\n",
              "      <td>Las Vegas</td>\n",
              "      <td>None</td>\n",
              "    </tr>\n",
              "    <tr>\n",
              "      <th>298</th>\n",
              "      <td>Private room</td>\n",
              "      <td>Las Vegas</td>\n",
              "      <td>None</td>\n",
              "    </tr>\n",
              "    <tr>\n",
              "      <th>299</th>\n",
              "      <td>Entire serviced apartment</td>\n",
              "      <td>Las Vegas</td>\n",
              "      <td>None</td>\n",
              "    </tr>\n",
              "  </tbody>\n",
              "</table>\n",
              "<p>300 rows × 3 columns</p>\n",
              "</div>"
            ],
            "text/plain": [
              "                             0           1     2\n",
              "0                 Private room   Las Vegas  None\n",
              "1                 Entire house   Las Vegas  None\n",
              "2                 Private room   Las Vegas  None\n",
              "3           Entire condominium   Las Vegas  None\n",
              "4             Entire apartment   Las Vegas  None\n",
              "..                         ...         ...   ...\n",
              "295           Entire townhouse   Las Vegas  None\n",
              "296           Entire apartment   Las Vegas  None\n",
              "297         Entire guest suite   Las Vegas  None\n",
              "298               Private room  Las Vegas   None\n",
              "299  Entire serviced apartment   Las Vegas  None\n",
              "\n",
              "[300 rows x 3 columns]"
            ]
          },
          "metadata": {
            "tags": []
          },
          "execution_count": 10
        }
      ]
    },
    {
      "cell_type": "code",
      "metadata": {
        "id": "y6PWk6spJJ3L",
        "colab": {
          "base_uri": "https://localhost:8080/"
        },
        "outputId": "0dd1c335-aade-45cd-9cea-5423aac2ac12"
      },
      "source": [
        "df['c'].str.split(' in ', expand=True)[1]"
      ],
      "execution_count": 11,
      "outputs": [
        {
          "output_type": "execute_result",
          "data": {
            "text/plain": [
              "0       Las Vegas\n",
              "1       Las Vegas\n",
              "2       Las Vegas\n",
              "3       Las Vegas\n",
              "4       Las Vegas\n",
              "          ...    \n",
              "295     Las Vegas\n",
              "296     Las Vegas\n",
              "297     Las Vegas\n",
              "298    Las Vegas \n",
              "299     Las Vegas\n",
              "Name: 1, Length: 300, dtype: object"
            ]
          },
          "metadata": {
            "tags": []
          },
          "execution_count": 11
        }
      ]
    },
    {
      "cell_type": "code",
      "metadata": {
        "id": "22Xqvn1oJJ3M",
        "colab": {
          "base_uri": "https://localhost:8080/",
          "height": 416
        },
        "outputId": "af093d62-7767-4010-d555-3d5e205dc6a6"
      },
      "source": [
        "type_location_values = df['c'].str.split(' in ', expand=True)\n",
        "\n",
        "df['type'] = type_location_values[0]\n",
        "df['location'] = type_location_values[1]\n",
        "\n",
        "df"
      ],
      "execution_count": 12,
      "outputs": [
        {
          "output_type": "execute_result",
          "data": {
            "text/html": [
              "<div>\n",
              "<style scoped>\n",
              "    .dataframe tbody tr th:only-of-type {\n",
              "        vertical-align: middle;\n",
              "    }\n",
              "\n",
              "    .dataframe tbody tr th {\n",
              "        vertical-align: top;\n",
              "    }\n",
              "\n",
              "    .dataframe thead th {\n",
              "        text-align: right;\n",
              "    }\n",
              "</style>\n",
              "<table border=\"1\" class=\"dataframe\">\n",
              "  <thead>\n",
              "    <tr style=\"text-align: right;\">\n",
              "      <th></th>\n",
              "      <th>a</th>\n",
              "      <th>b</th>\n",
              "      <th>c</th>\n",
              "      <th>d</th>\n",
              "      <th>e</th>\n",
              "      <th>f</th>\n",
              "      <th>g</th>\n",
              "      <th>h</th>\n",
              "      <th>type</th>\n",
              "      <th>location</th>\n",
              "    </tr>\n",
              "  </thead>\n",
              "  <tbody>\n",
              "    <tr>\n",
              "      <th>0</th>\n",
              "      <td>https://airbnb.com/rooms/45827691</td>\n",
              "      <td>Great Room in a House close to the strip - nul...</td>\n",
              "      <td>Private room in Las Vegas</td>\n",
              "      <td>2 guests · 1 bedroom · 1 bed · 1 shared bath</td>\n",
              "      <td>$21 / night</td>\n",
              "      <td>Wifi·Airconditioning·Pool·Kitchen</td>\n",
              "      <td>Rating 4.80 out of 5;4.805 reviews (5)</td>\n",
              "      <td>5 reviews</td>\n",
              "      <td>Private room</td>\n",
              "      <td>Las Vegas</td>\n",
              "    </tr>\n",
              "    <tr>\n",
              "      <th>1</th>\n",
              "      <td>https://airbnb.com/rooms/44685536</td>\n",
              "      <td>Cozy Studio with Private Entrance - null - Las...</td>\n",
              "      <td>Entire house in Las Vegas</td>\n",
              "      <td>2 guests · Studio · 1 bed · 1 bath</td>\n",
              "      <td>$46 / night</td>\n",
              "      <td>Wifi·Airconditioning·Kitchen·Freeparking</td>\n",
              "      <td>Rating 4.91 out of 5;4.9145 reviews (45)</td>\n",
              "      <td>45 reviews</td>\n",
              "      <td>Entire house</td>\n",
              "      <td>Las Vegas</td>\n",
              "    </tr>\n",
              "    <tr>\n",
              "      <th>2</th>\n",
              "      <td>https://airbnb.com/rooms/45269857</td>\n",
              "      <td>Upstairs bedroom and private bath in Large Hou...</td>\n",
              "      <td>Private room in Las Vegas</td>\n",
              "      <td>2 guests · 1 bedroom · 1 bed · 2 shared baths</td>\n",
              "      <td>$31 / night</td>\n",
              "      <td>Wifi·Airconditioning·Kitchen·Freeparking</td>\n",
              "      <td>Rating 4.90 out of 5;4.9010 reviews (10)</td>\n",
              "      <td>10 reviews</td>\n",
              "      <td>Private room</td>\n",
              "      <td>Las Vegas</td>\n",
              "    </tr>\n",
              "    <tr>\n",
              "      <th>3</th>\n",
              "      <td>https://airbnb.com/rooms/44416011</td>\n",
              "      <td>Eggeman 8 - null - Las Vegas</td>\n",
              "      <td>Entire condominium in Las Vegas</td>\n",
              "      <td>4 guests · 2 bedrooms · 3 beds · 1.5 baths</td>\n",
              "      <td>$51 / night</td>\n",
              "      <td>Wifi·Airconditioning·Pool·Kitchen</td>\n",
              "      <td>Rating 4.92 out of 5;4.9237 reviews (37)</td>\n",
              "      <td>37 reviews</td>\n",
              "      <td>Entire condominium</td>\n",
              "      <td>Las Vegas</td>\n",
              "    </tr>\n",
              "    <tr>\n",
              "      <th>4</th>\n",
              "      <td>https://airbnb.com/rooms/40022023</td>\n",
              "      <td>19H#Safe,Gated,Apt,W/Kitchn&amp;Bath,StdioFor2,Old...</td>\n",
              "      <td>Entire apartment in Las Vegas</td>\n",
              "      <td>2 guests · Studio · 2 beds · 1 bath</td>\n",
              "      <td>$42 / night</td>\n",
              "      <td>Wifi·Airconditioning·Pool·Kitchen</td>\n",
              "      <td>Rating 4.75 out of 5;4.75103 reviews (103)</td>\n",
              "      <td>103 reviews</td>\n",
              "      <td>Entire apartment</td>\n",
              "      <td>Las Vegas</td>\n",
              "    </tr>\n",
              "    <tr>\n",
              "      <th>...</th>\n",
              "      <td>...</td>\n",
              "      <td>...</td>\n",
              "      <td>...</td>\n",
              "      <td>...</td>\n",
              "      <td>...</td>\n",
              "      <td>...</td>\n",
              "      <td>...</td>\n",
              "      <td>...</td>\n",
              "      <td>...</td>\n",
              "      <td>...</td>\n",
              "    </tr>\n",
              "    <tr>\n",
              "      <th>295</th>\n",
              "      <td>https://airbnb.com/rooms/10660070</td>\n",
              "      <td>Comfort done with style,  $1799 per month - nu...</td>\n",
              "      <td>Entire townhouse in Las Vegas</td>\n",
              "      <td>6 guests · 2 bedrooms · 2 beds · 2 baths</td>\n",
              "      <td>$59 / night</td>\n",
              "      <td>Wifi·Selfcheck-in·Airconditioning·Pool</td>\n",
              "      <td>Rating 4.73 out of 5;4.7311 reviews (11)</td>\n",
              "      <td>11 reviews</td>\n",
              "      <td>Entire townhouse</td>\n",
              "      <td>Las Vegas</td>\n",
              "    </tr>\n",
              "    <tr>\n",
              "      <th>296</th>\n",
              "      <td>https://airbnb.com/rooms/20969733</td>\n",
              "      <td>Corner 1bdrm  Posh  Luxury Condo Palms Kitchen...</td>\n",
              "      <td>Entire apartment in Las Vegas</td>\n",
              "      <td>6 guests · 1 bedroom · 2 beds · 1.5 baths</td>\n",
              "      <td>$142 / night</td>\n",
              "      <td>Gym·Elevator·Wifi·Selfcheck-in</td>\n",
              "      <td>Rating 4.56 out of 5;4.56227 reviews (227)</td>\n",
              "      <td>227 reviews</td>\n",
              "      <td>Entire apartment</td>\n",
              "      <td>Las Vegas</td>\n",
              "    </tr>\n",
              "    <tr>\n",
              "      <th>297</th>\n",
              "      <td>https://airbnb.com/rooms/37427473</td>\n",
              "      <td>Paradise in Las Vegas (near  to the airport) -...</td>\n",
              "      <td>Entire guest suite in Las Vegas</td>\n",
              "      <td>3 guests · 1 bedroom · 3 beds · 1 bath</td>\n",
              "      <td>$66 / night</td>\n",
              "      <td>Breakfast·Wifi·Airconditioning·Kitchen</td>\n",
              "      <td>Rating 4.81 out of 5;4.8197 reviews (97)</td>\n",
              "      <td>97 reviews</td>\n",
              "      <td>Entire guest suite</td>\n",
              "      <td>Las Vegas</td>\n",
              "    </tr>\n",
              "    <tr>\n",
              "      <th>298</th>\n",
              "      <td>https://airbnb.com/rooms/40331445</td>\n",
              "      <td>#2 cozy room near strip - null - Las Vegas</td>\n",
              "      <td>Private room in Las Vegas</td>\n",
              "      <td>2 guests · Studio · 1 bed · 1 shared bath</td>\n",
              "      <td>$20 / night</td>\n",
              "      <td>Wifi·Airconditioning·Kitchen·Freeparking</td>\n",
              "      <td>NaN</td>\n",
              "      <td>NaN</td>\n",
              "      <td>Private room</td>\n",
              "      <td>Las Vegas</td>\n",
              "    </tr>\n",
              "    <tr>\n",
              "      <th>299</th>\n",
              "      <td>https://airbnb.com/rooms/16479650</td>\n",
              "      <td>P 58 Penthouse w/Jacuzzi on Balcony | Sleeps 6...</td>\n",
              "      <td>Entire serviced apartment in Las Vegas</td>\n",
              "      <td>6 guests · 1 bedroom · 3 beds · 1.5 baths</td>\n",
              "      <td>$586 / night</td>\n",
              "      <td>Gym·Elevator·Wifi·Selfcheck-in</td>\n",
              "      <td>Rating 4.76 out of 5;4.76103 reviews (103)</td>\n",
              "      <td>103 reviews</td>\n",
              "      <td>Entire serviced apartment</td>\n",
              "      <td>Las Vegas</td>\n",
              "    </tr>\n",
              "  </tbody>\n",
              "</table>\n",
              "<p>300 rows × 10 columns</p>\n",
              "</div>"
            ],
            "text/plain": [
              "                                     a  ...    location\n",
              "0    https://airbnb.com/rooms/45827691  ...   Las Vegas\n",
              "1    https://airbnb.com/rooms/44685536  ...   Las Vegas\n",
              "2    https://airbnb.com/rooms/45269857  ...   Las Vegas\n",
              "3    https://airbnb.com/rooms/44416011  ...   Las Vegas\n",
              "4    https://airbnb.com/rooms/40022023  ...   Las Vegas\n",
              "..                                 ...  ...         ...\n",
              "295  https://airbnb.com/rooms/10660070  ...   Las Vegas\n",
              "296  https://airbnb.com/rooms/20969733  ...   Las Vegas\n",
              "297  https://airbnb.com/rooms/37427473  ...   Las Vegas\n",
              "298  https://airbnb.com/rooms/40331445  ...  Las Vegas \n",
              "299  https://airbnb.com/rooms/16479650  ...   Las Vegas\n",
              "\n",
              "[300 rows x 10 columns]"
            ]
          },
          "metadata": {
            "tags": []
          },
          "execution_count": 12
        }
      ]
    },
    {
      "cell_type": "code",
      "metadata": {
        "id": "Wkm1JvWfJJ3U",
        "colab": {
          "base_uri": "https://localhost:8080/",
          "height": 110
        },
        "outputId": "a9f73205-f477-4c24-a22d-bb71d8f4830e"
      },
      "source": [
        "# we no longer need the c column\n",
        "df.drop('c', inplace=True, axis=1)  # inplace for in place (updates the og dataframe), axis=1 for columns\n",
        "\n",
        "df.sample(2)"
      ],
      "execution_count": 13,
      "outputs": [
        {
          "output_type": "execute_result",
          "data": {
            "text/html": [
              "<div>\n",
              "<style scoped>\n",
              "    .dataframe tbody tr th:only-of-type {\n",
              "        vertical-align: middle;\n",
              "    }\n",
              "\n",
              "    .dataframe tbody tr th {\n",
              "        vertical-align: top;\n",
              "    }\n",
              "\n",
              "    .dataframe thead th {\n",
              "        text-align: right;\n",
              "    }\n",
              "</style>\n",
              "<table border=\"1\" class=\"dataframe\">\n",
              "  <thead>\n",
              "    <tr style=\"text-align: right;\">\n",
              "      <th></th>\n",
              "      <th>a</th>\n",
              "      <th>b</th>\n",
              "      <th>d</th>\n",
              "      <th>e</th>\n",
              "      <th>f</th>\n",
              "      <th>g</th>\n",
              "      <th>h</th>\n",
              "      <th>type</th>\n",
              "      <th>location</th>\n",
              "    </tr>\n",
              "  </thead>\n",
              "  <tbody>\n",
              "    <tr>\n",
              "      <th>214</th>\n",
              "      <td>https://airbnb.com/rooms/44450374</td>\n",
              "      <td>Executive Suite - null - Las Vegas</td>\n",
              "      <td>2 guests · 1 bedroom · 1 bed · 1 bath</td>\n",
              "      <td>$50 / night</td>\n",
              "      <td>Gym·Breakfast·Wifi·Airconditioning</td>\n",
              "      <td>Rating 4.90 out of 5;4.9020 reviews (20)</td>\n",
              "      <td>20 reviews</td>\n",
              "      <td>Entire condominium</td>\n",
              "      <td>Las Vegas</td>\n",
              "    </tr>\n",
              "    <tr>\n",
              "      <th>165</th>\n",
              "      <td>https://airbnb.com/rooms/46035634</td>\n",
              "      <td>spacious private room &amp; bath in clean bright c...</td>\n",
              "      <td>2 guests · 1 bedroom · 1 bed · 1 private bath</td>\n",
              "      <td>$28 / night</td>\n",
              "      <td>Wifi·Selfcheck-in·Airconditioning·Petsallowed</td>\n",
              "      <td>Rating 4.63 out of 5;4.6316 reviews (16)</td>\n",
              "      <td>16 reviews</td>\n",
              "      <td>Private room</td>\n",
              "      <td>Las Vegas</td>\n",
              "    </tr>\n",
              "  </tbody>\n",
              "</table>\n",
              "</div>"
            ],
            "text/plain": [
              "                                     a  ...   location\n",
              "214  https://airbnb.com/rooms/44450374  ...  Las Vegas\n",
              "165  https://airbnb.com/rooms/46035634  ...  Las Vegas\n",
              "\n",
              "[2 rows x 9 columns]"
            ]
          },
          "metadata": {
            "tags": []
          },
          "execution_count": 13
        }
      ]
    },
    {
      "cell_type": "markdown",
      "metadata": {
        "id": "E63rgUAsJJ3X"
      },
      "source": [
        "#### Turning h into n_reviews"
      ]
    },
    {
      "cell_type": "code",
      "metadata": {
        "id": "aubnChXOJJ3X",
        "colab": {
          "base_uri": "https://localhost:8080/"
        },
        "outputId": "54b4038e-aeb7-4009-d866-771dc7de62ab"
      },
      "source": [
        "df.h"
      ],
      "execution_count": 14,
      "outputs": [
        {
          "output_type": "execute_result",
          "data": {
            "text/plain": [
              "0        5 reviews\n",
              "1       45 reviews\n",
              "2       10 reviews\n",
              "3       37 reviews\n",
              "4      103 reviews\n",
              "          ...     \n",
              "295     11 reviews\n",
              "296    227 reviews\n",
              "297     97 reviews\n",
              "298            NaN\n",
              "299    103 reviews\n",
              "Name: h, Length: 300, dtype: object"
            ]
          },
          "metadata": {
            "tags": []
          },
          "execution_count": 14
        }
      ]
    },
    {
      "cell_type": "code",
      "metadata": {
        "id": "5szL6mpuJJ3Y",
        "colab": {
          "base_uri": "https://localhost:8080/",
          "height": 416
        },
        "outputId": "0e02551b-78ae-4c65-ed8d-2ac3f95412ab"
      },
      "source": [
        "df.h.str.split(expand=True)"
      ],
      "execution_count": 15,
      "outputs": [
        {
          "output_type": "execute_result",
          "data": {
            "text/html": [
              "<div>\n",
              "<style scoped>\n",
              "    .dataframe tbody tr th:only-of-type {\n",
              "        vertical-align: middle;\n",
              "    }\n",
              "\n",
              "    .dataframe tbody tr th {\n",
              "        vertical-align: top;\n",
              "    }\n",
              "\n",
              "    .dataframe thead th {\n",
              "        text-align: right;\n",
              "    }\n",
              "</style>\n",
              "<table border=\"1\" class=\"dataframe\">\n",
              "  <thead>\n",
              "    <tr style=\"text-align: right;\">\n",
              "      <th></th>\n",
              "      <th>0</th>\n",
              "      <th>1</th>\n",
              "    </tr>\n",
              "  </thead>\n",
              "  <tbody>\n",
              "    <tr>\n",
              "      <th>0</th>\n",
              "      <td>5</td>\n",
              "      <td>reviews</td>\n",
              "    </tr>\n",
              "    <tr>\n",
              "      <th>1</th>\n",
              "      <td>45</td>\n",
              "      <td>reviews</td>\n",
              "    </tr>\n",
              "    <tr>\n",
              "      <th>2</th>\n",
              "      <td>10</td>\n",
              "      <td>reviews</td>\n",
              "    </tr>\n",
              "    <tr>\n",
              "      <th>3</th>\n",
              "      <td>37</td>\n",
              "      <td>reviews</td>\n",
              "    </tr>\n",
              "    <tr>\n",
              "      <th>4</th>\n",
              "      <td>103</td>\n",
              "      <td>reviews</td>\n",
              "    </tr>\n",
              "    <tr>\n",
              "      <th>...</th>\n",
              "      <td>...</td>\n",
              "      <td>...</td>\n",
              "    </tr>\n",
              "    <tr>\n",
              "      <th>295</th>\n",
              "      <td>11</td>\n",
              "      <td>reviews</td>\n",
              "    </tr>\n",
              "    <tr>\n",
              "      <th>296</th>\n",
              "      <td>227</td>\n",
              "      <td>reviews</td>\n",
              "    </tr>\n",
              "    <tr>\n",
              "      <th>297</th>\n",
              "      <td>97</td>\n",
              "      <td>reviews</td>\n",
              "    </tr>\n",
              "    <tr>\n",
              "      <th>298</th>\n",
              "      <td>NaN</td>\n",
              "      <td>NaN</td>\n",
              "    </tr>\n",
              "    <tr>\n",
              "      <th>299</th>\n",
              "      <td>103</td>\n",
              "      <td>reviews</td>\n",
              "    </tr>\n",
              "  </tbody>\n",
              "</table>\n",
              "<p>300 rows × 2 columns</p>\n",
              "</div>"
            ],
            "text/plain": [
              "       0        1\n",
              "0      5  reviews\n",
              "1     45  reviews\n",
              "2     10  reviews\n",
              "3     37  reviews\n",
              "4    103  reviews\n",
              "..   ...      ...\n",
              "295   11  reviews\n",
              "296  227  reviews\n",
              "297   97  reviews\n",
              "298  NaN      NaN\n",
              "299  103  reviews\n",
              "\n",
              "[300 rows x 2 columns]"
            ]
          },
          "metadata": {
            "tags": []
          },
          "execution_count": 15
        }
      ]
    },
    {
      "cell_type": "code",
      "metadata": {
        "id": "4mCtMfOBJJ3Z",
        "colab": {
          "base_uri": "https://localhost:8080/"
        },
        "outputId": "b32bc1c3-56c3-4de7-8e28-dc27d99d03e5"
      },
      "source": [
        "# take just the number of reviews\n",
        "df.h.str.split(expand=True)[0]"
      ],
      "execution_count": 16,
      "outputs": [
        {
          "output_type": "execute_result",
          "data": {
            "text/plain": [
              "0        5\n",
              "1       45\n",
              "2       10\n",
              "3       37\n",
              "4      103\n",
              "      ... \n",
              "295     11\n",
              "296    227\n",
              "297     97\n",
              "298    NaN\n",
              "299    103\n",
              "Name: 0, Length: 300, dtype: object"
            ]
          },
          "metadata": {
            "tags": []
          },
          "execution_count": 16
        }
      ]
    },
    {
      "cell_type": "code",
      "metadata": {
        "id": "ufJawCZvJJ3a",
        "colab": {
          "base_uri": "https://localhost:8080/"
        },
        "outputId": "3d4b663a-ff5c-4bad-fefa-9c995d627e7b"
      },
      "source": [
        "import numpy as np\n",
        "\n",
        "# use numpy to make them float values\n",
        "df.h.str.split(expand=True)[0].astype(np.float)"
      ],
      "execution_count": 17,
      "outputs": [
        {
          "output_type": "execute_result",
          "data": {
            "text/plain": [
              "0        5.0\n",
              "1       45.0\n",
              "2       10.0\n",
              "3       37.0\n",
              "4      103.0\n",
              "       ...  \n",
              "295     11.0\n",
              "296    227.0\n",
              "297     97.0\n",
              "298      NaN\n",
              "299    103.0\n",
              "Name: 0, Length: 300, dtype: float64"
            ]
          },
          "metadata": {
            "tags": []
          },
          "execution_count": 17
        }
      ]
    },
    {
      "cell_type": "code",
      "metadata": {
        "id": "ocMsHzUoJJ3f",
        "colab": {
          "base_uri": "https://localhost:8080/",
          "height": 141
        },
        "outputId": "5f93dc79-2e97-404f-af8e-6762ffdc12b2"
      },
      "source": [
        "df['n_reviews'] = df.h.str.split(expand=True)[0].astype(np.float)\n",
        "\n",
        "# drop without inplace returns a dataframe, so overwrite the og\n",
        "df = df.drop('h', axis=1)\n",
        "\n",
        "df.sample(3)"
      ],
      "execution_count": 18,
      "outputs": [
        {
          "output_type": "execute_result",
          "data": {
            "text/html": [
              "<div>\n",
              "<style scoped>\n",
              "    .dataframe tbody tr th:only-of-type {\n",
              "        vertical-align: middle;\n",
              "    }\n",
              "\n",
              "    .dataframe tbody tr th {\n",
              "        vertical-align: top;\n",
              "    }\n",
              "\n",
              "    .dataframe thead th {\n",
              "        text-align: right;\n",
              "    }\n",
              "</style>\n",
              "<table border=\"1\" class=\"dataframe\">\n",
              "  <thead>\n",
              "    <tr style=\"text-align: right;\">\n",
              "      <th></th>\n",
              "      <th>a</th>\n",
              "      <th>b</th>\n",
              "      <th>d</th>\n",
              "      <th>e</th>\n",
              "      <th>f</th>\n",
              "      <th>g</th>\n",
              "      <th>type</th>\n",
              "      <th>location</th>\n",
              "      <th>n_reviews</th>\n",
              "    </tr>\n",
              "  </thead>\n",
              "  <tbody>\n",
              "    <tr>\n",
              "      <th>148</th>\n",
              "      <td>https://airbnb.com/rooms/38387115</td>\n",
              "      <td>Luxury House Private Bedroom #1 Comfort and Qu...</td>\n",
              "      <td>1 guest · 1 bedroom · 1 bed · 1 shared bath</td>\n",
              "      <td>$38 / night</td>\n",
              "      <td>Wifi·Airconditioning·Kitchen·Washer</td>\n",
              "      <td>Rating 4.79 out of 5;4.7929 reviews (29)</td>\n",
              "      <td>Private room</td>\n",
              "      <td>Las Vegas</td>\n",
              "      <td>29.0</td>\n",
              "    </tr>\n",
              "    <tr>\n",
              "      <th>132</th>\n",
              "      <td>https://airbnb.com/rooms/42764574</td>\n",
              "      <td>Upscale Modern Bedroom with Mountain Views - n...</td>\n",
              "      <td>1 guest · 1 bedroom · 1 bed · 1.5 baths</td>\n",
              "      <td>$33 / night</td>\n",
              "      <td>Wifi·Airconditioning·Kitchen·Dryer</td>\n",
              "      <td>NaN</td>\n",
              "      <td>Private room</td>\n",
              "      <td>Las Vegas</td>\n",
              "      <td>NaN</td>\n",
              "    </tr>\n",
              "    <tr>\n",
              "      <th>264</th>\n",
              "      <td>https://airbnb.com/rooms/46608165</td>\n",
              "      <td>②LasVegas B&amp;B.familyhotel.save. economy.save m...</td>\n",
              "      <td>1 guest · 1 bedroom · 1 bed · 2 shared baths</td>\n",
              "      <td>$20 / night</td>\n",
              "      <td>Hottub·Wifi·Freeparking</td>\n",
              "      <td>NaN</td>\n",
              "      <td>Shared room</td>\n",
              "      <td>Las Vegas</td>\n",
              "      <td>NaN</td>\n",
              "    </tr>\n",
              "  </tbody>\n",
              "</table>\n",
              "</div>"
            ],
            "text/plain": [
              "                                     a  ... n_reviews\n",
              "148  https://airbnb.com/rooms/38387115  ...      29.0\n",
              "132  https://airbnb.com/rooms/42764574  ...       NaN\n",
              "264  https://airbnb.com/rooms/46608165  ...       NaN\n",
              "\n",
              "[3 rows x 9 columns]"
            ]
          },
          "metadata": {
            "tags": []
          },
          "execution_count": 18
        }
      ]
    },
    {
      "cell_type": "markdown",
      "metadata": {
        "id": "ELWydknEJJ3l"
      },
      "source": [
        "#### Turn g into avg_rating"
      ]
    },
    {
      "cell_type": "code",
      "metadata": {
        "id": "eJ9Ml55eJJ3n",
        "colab": {
          "base_uri": "https://localhost:8080/"
        },
        "outputId": "1b8d890f-0fd3-4114-dd79-6cf7f43267e6"
      },
      "source": [
        "df['g']"
      ],
      "execution_count": 19,
      "outputs": [
        {
          "output_type": "execute_result",
          "data": {
            "text/plain": [
              "0          Rating 4.80 out of 5;4.805 reviews (5)\n",
              "1        Rating 4.91 out of 5;4.9145 reviews (45)\n",
              "2        Rating 4.90 out of 5;4.9010 reviews (10)\n",
              "3        Rating 4.92 out of 5;4.9237 reviews (37)\n",
              "4      Rating 4.75 out of 5;4.75103 reviews (103)\n",
              "                          ...                    \n",
              "295      Rating 4.73 out of 5;4.7311 reviews (11)\n",
              "296    Rating 4.56 out of 5;4.56227 reviews (227)\n",
              "297      Rating 4.81 out of 5;4.8197 reviews (97)\n",
              "298                                           NaN\n",
              "299    Rating 4.76 out of 5;4.76103 reviews (103)\n",
              "Name: g, Length: 300, dtype: object"
            ]
          },
          "metadata": {
            "tags": []
          },
          "execution_count": 19
        }
      ]
    },
    {
      "cell_type": "code",
      "metadata": {
        "id": "B-cVn2avJJ3t",
        "colab": {
          "base_uri": "https://localhost:8080/",
          "height": 416
        },
        "outputId": "0303d7e1-c615-4bab-cefb-af4073e01428"
      },
      "source": [
        "df['g'].str.split(';', expand=True)"
      ],
      "execution_count": 20,
      "outputs": [
        {
          "output_type": "execute_result",
          "data": {
            "text/html": [
              "<div>\n",
              "<style scoped>\n",
              "    .dataframe tbody tr th:only-of-type {\n",
              "        vertical-align: middle;\n",
              "    }\n",
              "\n",
              "    .dataframe tbody tr th {\n",
              "        vertical-align: top;\n",
              "    }\n",
              "\n",
              "    .dataframe thead th {\n",
              "        text-align: right;\n",
              "    }\n",
              "</style>\n",
              "<table border=\"1\" class=\"dataframe\">\n",
              "  <thead>\n",
              "    <tr style=\"text-align: right;\">\n",
              "      <th></th>\n",
              "      <th>0</th>\n",
              "      <th>1</th>\n",
              "    </tr>\n",
              "  </thead>\n",
              "  <tbody>\n",
              "    <tr>\n",
              "      <th>0</th>\n",
              "      <td>Rating 4.80 out of 5</td>\n",
              "      <td>4.805 reviews (5)</td>\n",
              "    </tr>\n",
              "    <tr>\n",
              "      <th>1</th>\n",
              "      <td>Rating 4.91 out of 5</td>\n",
              "      <td>4.9145 reviews (45)</td>\n",
              "    </tr>\n",
              "    <tr>\n",
              "      <th>2</th>\n",
              "      <td>Rating 4.90 out of 5</td>\n",
              "      <td>4.9010 reviews (10)</td>\n",
              "    </tr>\n",
              "    <tr>\n",
              "      <th>3</th>\n",
              "      <td>Rating 4.92 out of 5</td>\n",
              "      <td>4.9237 reviews (37)</td>\n",
              "    </tr>\n",
              "    <tr>\n",
              "      <th>4</th>\n",
              "      <td>Rating 4.75 out of 5</td>\n",
              "      <td>4.75103 reviews (103)</td>\n",
              "    </tr>\n",
              "    <tr>\n",
              "      <th>...</th>\n",
              "      <td>...</td>\n",
              "      <td>...</td>\n",
              "    </tr>\n",
              "    <tr>\n",
              "      <th>295</th>\n",
              "      <td>Rating 4.73 out of 5</td>\n",
              "      <td>4.7311 reviews (11)</td>\n",
              "    </tr>\n",
              "    <tr>\n",
              "      <th>296</th>\n",
              "      <td>Rating 4.56 out of 5</td>\n",
              "      <td>4.56227 reviews (227)</td>\n",
              "    </tr>\n",
              "    <tr>\n",
              "      <th>297</th>\n",
              "      <td>Rating 4.81 out of 5</td>\n",
              "      <td>4.8197 reviews (97)</td>\n",
              "    </tr>\n",
              "    <tr>\n",
              "      <th>298</th>\n",
              "      <td>NaN</td>\n",
              "      <td>NaN</td>\n",
              "    </tr>\n",
              "    <tr>\n",
              "      <th>299</th>\n",
              "      <td>Rating 4.76 out of 5</td>\n",
              "      <td>4.76103 reviews (103)</td>\n",
              "    </tr>\n",
              "  </tbody>\n",
              "</table>\n",
              "<p>300 rows × 2 columns</p>\n",
              "</div>"
            ],
            "text/plain": [
              "                        0                      1\n",
              "0    Rating 4.80 out of 5      4.805 reviews (5)\n",
              "1    Rating 4.91 out of 5    4.9145 reviews (45)\n",
              "2    Rating 4.90 out of 5    4.9010 reviews (10)\n",
              "3    Rating 4.92 out of 5    4.9237 reviews (37)\n",
              "4    Rating 4.75 out of 5  4.75103 reviews (103)\n",
              "..                    ...                    ...\n",
              "295  Rating 4.73 out of 5    4.7311 reviews (11)\n",
              "296  Rating 4.56 out of 5  4.56227 reviews (227)\n",
              "297  Rating 4.81 out of 5    4.8197 reviews (97)\n",
              "298                   NaN                    NaN\n",
              "299  Rating 4.76 out of 5  4.76103 reviews (103)\n",
              "\n",
              "[300 rows x 2 columns]"
            ]
          },
          "metadata": {
            "tags": []
          },
          "execution_count": 20
        }
      ]
    },
    {
      "cell_type": "code",
      "metadata": {
        "id": "jKsYWVF2JJ3w",
        "colab": {
          "base_uri": "https://localhost:8080/"
        },
        "outputId": "8c873b61-c1ab-4d01-a94e-d9029dedf420"
      },
      "source": [
        "# take the right side because the number is longer\n",
        "df['g'].str.split(';', expand=True)[1]"
      ],
      "execution_count": 21,
      "outputs": [
        {
          "output_type": "execute_result",
          "data": {
            "text/plain": [
              "0          4.805 reviews (5)\n",
              "1        4.9145 reviews (45)\n",
              "2        4.9010 reviews (10)\n",
              "3        4.9237 reviews (37)\n",
              "4      4.75103 reviews (103)\n",
              "               ...          \n",
              "295      4.7311 reviews (11)\n",
              "296    4.56227 reviews (227)\n",
              "297      4.8197 reviews (97)\n",
              "298                      NaN\n",
              "299    4.76103 reviews (103)\n",
              "Name: 1, Length: 300, dtype: object"
            ]
          },
          "metadata": {
            "tags": []
          },
          "execution_count": 21
        }
      ]
    },
    {
      "cell_type": "code",
      "metadata": {
        "id": "38Hs4hovJJ30",
        "colab": {
          "base_uri": "https://localhost:8080/",
          "height": 416
        },
        "outputId": "2bafbb91-327f-43ec-816e-56b0066b78ef"
      },
      "source": [
        "df['g'].str.split(';', expand=True)[1].str.split(expand=True)"
      ],
      "execution_count": 22,
      "outputs": [
        {
          "output_type": "execute_result",
          "data": {
            "text/html": [
              "<div>\n",
              "<style scoped>\n",
              "    .dataframe tbody tr th:only-of-type {\n",
              "        vertical-align: middle;\n",
              "    }\n",
              "\n",
              "    .dataframe tbody tr th {\n",
              "        vertical-align: top;\n",
              "    }\n",
              "\n",
              "    .dataframe thead th {\n",
              "        text-align: right;\n",
              "    }\n",
              "</style>\n",
              "<table border=\"1\" class=\"dataframe\">\n",
              "  <thead>\n",
              "    <tr style=\"text-align: right;\">\n",
              "      <th></th>\n",
              "      <th>0</th>\n",
              "      <th>1</th>\n",
              "      <th>2</th>\n",
              "    </tr>\n",
              "  </thead>\n",
              "  <tbody>\n",
              "    <tr>\n",
              "      <th>0</th>\n",
              "      <td>4.805</td>\n",
              "      <td>reviews</td>\n",
              "      <td>(5)</td>\n",
              "    </tr>\n",
              "    <tr>\n",
              "      <th>1</th>\n",
              "      <td>4.9145</td>\n",
              "      <td>reviews</td>\n",
              "      <td>(45)</td>\n",
              "    </tr>\n",
              "    <tr>\n",
              "      <th>2</th>\n",
              "      <td>4.9010</td>\n",
              "      <td>reviews</td>\n",
              "      <td>(10)</td>\n",
              "    </tr>\n",
              "    <tr>\n",
              "      <th>3</th>\n",
              "      <td>4.9237</td>\n",
              "      <td>reviews</td>\n",
              "      <td>(37)</td>\n",
              "    </tr>\n",
              "    <tr>\n",
              "      <th>4</th>\n",
              "      <td>4.75103</td>\n",
              "      <td>reviews</td>\n",
              "      <td>(103)</td>\n",
              "    </tr>\n",
              "    <tr>\n",
              "      <th>...</th>\n",
              "      <td>...</td>\n",
              "      <td>...</td>\n",
              "      <td>...</td>\n",
              "    </tr>\n",
              "    <tr>\n",
              "      <th>295</th>\n",
              "      <td>4.7311</td>\n",
              "      <td>reviews</td>\n",
              "      <td>(11)</td>\n",
              "    </tr>\n",
              "    <tr>\n",
              "      <th>296</th>\n",
              "      <td>4.56227</td>\n",
              "      <td>reviews</td>\n",
              "      <td>(227)</td>\n",
              "    </tr>\n",
              "    <tr>\n",
              "      <th>297</th>\n",
              "      <td>4.8197</td>\n",
              "      <td>reviews</td>\n",
              "      <td>(97)</td>\n",
              "    </tr>\n",
              "    <tr>\n",
              "      <th>298</th>\n",
              "      <td>NaN</td>\n",
              "      <td>NaN</td>\n",
              "      <td>NaN</td>\n",
              "    </tr>\n",
              "    <tr>\n",
              "      <th>299</th>\n",
              "      <td>4.76103</td>\n",
              "      <td>reviews</td>\n",
              "      <td>(103)</td>\n",
              "    </tr>\n",
              "  </tbody>\n",
              "</table>\n",
              "<p>300 rows × 3 columns</p>\n",
              "</div>"
            ],
            "text/plain": [
              "           0        1      2\n",
              "0      4.805  reviews    (5)\n",
              "1     4.9145  reviews   (45)\n",
              "2     4.9010  reviews   (10)\n",
              "3     4.9237  reviews   (37)\n",
              "4    4.75103  reviews  (103)\n",
              "..       ...      ...    ...\n",
              "295   4.7311  reviews   (11)\n",
              "296  4.56227  reviews  (227)\n",
              "297   4.8197  reviews   (97)\n",
              "298      NaN      NaN    NaN\n",
              "299  4.76103  reviews  (103)\n",
              "\n",
              "[300 rows x 3 columns]"
            ]
          },
          "metadata": {
            "tags": []
          },
          "execution_count": 22
        }
      ]
    },
    {
      "cell_type": "code",
      "metadata": {
        "id": "ZHmzJjzkJJ33",
        "colab": {
          "base_uri": "https://localhost:8080/"
        },
        "outputId": "6d3fa16a-bd9b-4db1-ae0b-db2a7c8bd5cc"
      },
      "source": [
        "df['g'].str.split(';', expand=True)[1].str.split(expand=True)[0]"
      ],
      "execution_count": 23,
      "outputs": [
        {
          "output_type": "execute_result",
          "data": {
            "text/plain": [
              "0        4.805\n",
              "1       4.9145\n",
              "2       4.9010\n",
              "3       4.9237\n",
              "4      4.75103\n",
              "        ...   \n",
              "295     4.7311\n",
              "296    4.56227\n",
              "297     4.8197\n",
              "298        NaN\n",
              "299    4.76103\n",
              "Name: 0, Length: 300, dtype: object"
            ]
          },
          "metadata": {
            "tags": []
          },
          "execution_count": 23
        }
      ]
    },
    {
      "cell_type": "code",
      "metadata": {
        "id": "01M2i-HvJJ34",
        "colab": {
          "base_uri": "https://localhost:8080/"
        },
        "outputId": "dd9e1fdf-7970-48f0-bf34-145a7e7bbd43"
      },
      "source": [
        "df['g'].str.split(';', expand=True)[1].str.split(expand=True)[0].astype(np.float32)"
      ],
      "execution_count": 24,
      "outputs": [
        {
          "output_type": "execute_result",
          "data": {
            "text/plain": [
              "0      4.80500\n",
              "1      4.91450\n",
              "2      4.90100\n",
              "3      4.92370\n",
              "4      4.75103\n",
              "        ...   \n",
              "295    4.73110\n",
              "296    4.56227\n",
              "297    4.81970\n",
              "298        NaN\n",
              "299    4.76103\n",
              "Name: 0, Length: 300, dtype: float32"
            ]
          },
          "metadata": {
            "tags": []
          },
          "execution_count": 24
        }
      ]
    },
    {
      "cell_type": "code",
      "metadata": {
        "id": "MERU1iOwJJ35",
        "colab": {
          "base_uri": "https://localhost:8080/",
          "height": 141
        },
        "outputId": "e64c887a-f289-4e1e-c0c5-b52b5a67c47e"
      },
      "source": [
        "# make the avg_rating\n",
        "df['avg_rating'] = df['g'].str.split(';', expand=True)[1].str.split(expand=True)[0].astype(np.float32)\n",
        "\n",
        "# forget the column it came from\n",
        "df.drop('g', axis=1, inplace=True)\n",
        "\n",
        "# show me a bit of the data\n",
        "df.sample(3)"
      ],
      "execution_count": 25,
      "outputs": [
        {
          "output_type": "execute_result",
          "data": {
            "text/html": [
              "<div>\n",
              "<style scoped>\n",
              "    .dataframe tbody tr th:only-of-type {\n",
              "        vertical-align: middle;\n",
              "    }\n",
              "\n",
              "    .dataframe tbody tr th {\n",
              "        vertical-align: top;\n",
              "    }\n",
              "\n",
              "    .dataframe thead th {\n",
              "        text-align: right;\n",
              "    }\n",
              "</style>\n",
              "<table border=\"1\" class=\"dataframe\">\n",
              "  <thead>\n",
              "    <tr style=\"text-align: right;\">\n",
              "      <th></th>\n",
              "      <th>a</th>\n",
              "      <th>b</th>\n",
              "      <th>d</th>\n",
              "      <th>e</th>\n",
              "      <th>f</th>\n",
              "      <th>type</th>\n",
              "      <th>location</th>\n",
              "      <th>n_reviews</th>\n",
              "      <th>avg_rating</th>\n",
              "    </tr>\n",
              "  </thead>\n",
              "  <tbody>\n",
              "    <tr>\n",
              "      <th>44</th>\n",
              "      <td>https://airbnb.com/rooms/21056828</td>\n",
              "      <td>ON THE STRIP - null - Las Vegas</td>\n",
              "      <td>3 guests · Studio · 2 beds · 1 bath</td>\n",
              "      <td>$66 / night</td>\n",
              "      <td>Wifi·Freeparking</td>\n",
              "      <td>Entire apartment</td>\n",
              "      <td>Las Vegas</td>\n",
              "      <td>399.0</td>\n",
              "      <td>4.80399</td>\n",
              "    </tr>\n",
              "    <tr>\n",
              "      <th>205</th>\n",
              "      <td>https://airbnb.com/rooms/47174700</td>\n",
              "      <td>Tuscany Casino &amp; Hotel Strip Suite Stay - null...</td>\n",
              "      <td>4 guests · 1 bedroom · 1 bed · 1 private bath</td>\n",
              "      <td>$69 / night</td>\n",
              "      <td>Gym·Wifi·Airconditioning·Pool</td>\n",
              "      <td>Hotel room</td>\n",
              "      <td>Las Vegas</td>\n",
              "      <td>NaN</td>\n",
              "      <td>NaN</td>\n",
              "    </tr>\n",
              "    <tr>\n",
              "      <th>60</th>\n",
              "      <td>https://airbnb.com/rooms/46815482</td>\n",
              "      <td>Unique Boutique Hotel 2 Bed - null - Las Vegas</td>\n",
              "      <td>4 guests · 1 bedroom · 2 beds · 1 private bath</td>\n",
              "      <td>$58 / night</td>\n",
              "      <td>Pool·Wifi·Freeparking</td>\n",
              "      <td>Room</td>\n",
              "      <td>boutique hotel</td>\n",
              "      <td>NaN</td>\n",
              "      <td>NaN</td>\n",
              "    </tr>\n",
              "  </tbody>\n",
              "</table>\n",
              "</div>"
            ],
            "text/plain": [
              "                                     a  ... avg_rating\n",
              "44   https://airbnb.com/rooms/21056828  ...    4.80399\n",
              "205  https://airbnb.com/rooms/47174700  ...        NaN\n",
              "60   https://airbnb.com/rooms/46815482  ...        NaN\n",
              "\n",
              "[3 rows x 9 columns]"
            ]
          },
          "metadata": {
            "tags": []
          },
          "execution_count": 25
        }
      ]
    },
    {
      "cell_type": "code",
      "metadata": {
        "id": "gLs10A6oJJ39",
        "colab": {
          "base_uri": "https://localhost:8080/"
        },
        "outputId": "66d76309-b4e0-4138-a9ad-6a7cf92cdcfc"
      },
      "source": [
        "# are they all 4.902? \n",
        "df.avg_rating.unique()"
      ],
      "execution_count": 26,
      "outputs": [
        {
          "output_type": "execute_result",
          "data": {
            "text/plain": [
              "array([4.805  , 4.9145 , 4.901  , 4.9237 , 4.75103, 5.04   , 4.93176,\n",
              "       4.7431 , 4.74152, 4.9416 , 4.9626 , 4.8513 , 5.019  , 5.07   ,\n",
              "       4.9111 ,     nan, 4.8733 , 4.5522 , 4.81409, 4.94172, 4.89164,\n",
              "       4.90183, 4.852  , 4.8457 , 4.8271 , 4.867  , 4.4992 , 4.6316 ,\n",
              "       4.7246 , 4.82103, 4.96104, 4.70183, 4.33168, 5.011  , 4.80399,\n",
              "       5.03   , 4.91363, 4.6488 , 4.676  , 4.03   , 4.9455 , 5.09   ,\n",
              "       4.5538 , 4.9155 , 4.4896 , 5.029  , 4.8962 , 4.801  , 4.9522 ,\n",
              "       3.336  , 5.05   , 4.95113, 4.836  , 4.8928 , 4.4821 , 4.86392,\n",
              "       4.577  , 4.9213 , 4.388  , 4.6713 , 4.63165, 4.72177, 4.56546,\n",
              "       4.5549 , 4.673  , 4.9272 , 4.5413 , 4.8313 , 4.9166 , 4.333  ,\n",
              "       4.77146, 4.8244 , 4.73146, 4.437  , 4.015  , 4.8148 , 4.72286,\n",
              "       4.83162, 4.7929 , 4.18182, 5.024  , 4.8348 , 4.63209, 4.9135 ,\n",
              "       4.54198, 4.1119 , 4.902  , 4.6496 , 4.7879 , 4.7754 , 5.06   ,\n",
              "       4.90101, 4.605  , 5.016  , 4.3271 , 4.6365 , 4.96328, 5.031  ,\n",
              "       4.8015 , 4.82247, 4.9251 , 4.9327 , 4.8238 , 4.701  , 3.805  ,\n",
              "       4.3165 , 4.53244, 4.8312 , 4.7649 , 4.504  , 4.51285, 4.254  ,\n",
              "       4.3938 , 4.74123, 5.041  , 4.7294 , 4.3711 , 4.75106, 4.4717 ,\n",
              "       4.62218, 4.71173, 4.508  , 4.7311 , 4.5018 , 4.88437, 4.603  ,\n",
              "       4.9526 , 4.2917 , 5.013  , 4.9541 , 4.899  , 4.7713 , 4.55144,\n",
              "       4.9031 , 4.55104, 4.56227, 4.8197 , 4.76103], dtype=float32)"
            ]
          },
          "metadata": {
            "tags": []
          },
          "execution_count": 26
        }
      ]
    },
    {
      "cell_type": "markdown",
      "metadata": {
        "id": "dytCOZsIJJ3-"
      },
      "source": [
        "#### Turn a into url"
      ]
    },
    {
      "cell_type": "code",
      "metadata": {
        "id": "NiFyM2giJJ4A",
        "colab": {
          "base_uri": "https://localhost:8080/",
          "height": 141
        },
        "outputId": "8ad8f2f1-32c9-49f0-a0c3-668129cf6205"
      },
      "source": [
        "df['url'] = df['a']\n",
        "\n",
        "df.sample(3)"
      ],
      "execution_count": 27,
      "outputs": [
        {
          "output_type": "execute_result",
          "data": {
            "text/html": [
              "<div>\n",
              "<style scoped>\n",
              "    .dataframe tbody tr th:only-of-type {\n",
              "        vertical-align: middle;\n",
              "    }\n",
              "\n",
              "    .dataframe tbody tr th {\n",
              "        vertical-align: top;\n",
              "    }\n",
              "\n",
              "    .dataframe thead th {\n",
              "        text-align: right;\n",
              "    }\n",
              "</style>\n",
              "<table border=\"1\" class=\"dataframe\">\n",
              "  <thead>\n",
              "    <tr style=\"text-align: right;\">\n",
              "      <th></th>\n",
              "      <th>a</th>\n",
              "      <th>b</th>\n",
              "      <th>d</th>\n",
              "      <th>e</th>\n",
              "      <th>f</th>\n",
              "      <th>type</th>\n",
              "      <th>location</th>\n",
              "      <th>n_reviews</th>\n",
              "      <th>avg_rating</th>\n",
              "      <th>url</th>\n",
              "    </tr>\n",
              "  </thead>\n",
              "  <tbody>\n",
              "    <tr>\n",
              "      <th>131</th>\n",
              "      <td>https://airbnb.com/rooms/47076196</td>\n",
              "      <td>*5 MINUTES FROM STRIP....just about - null - L...</td>\n",
              "      <td>2 guests · 1 bedroom · 2 beds · 1 bath</td>\n",
              "      <td>$49 / night</td>\n",
              "      <td>Wifi·Airconditioning·Kitchen·Freeparking</td>\n",
              "      <td>Entire apartment</td>\n",
              "      <td>Las Vegas</td>\n",
              "      <td>NaN</td>\n",
              "      <td>NaN</td>\n",
              "      <td>https://airbnb.com/rooms/47076196</td>\n",
              "    </tr>\n",
              "    <tr>\n",
              "      <th>59</th>\n",
              "      <td>https://airbnb.com/rooms/44472030</td>\n",
              "      <td>Tahiti Village Moorea 1 BR Suite FRIDAY Check-...</td>\n",
              "      <td>4 guests · 1 bedroom · 2 beds · 1 bath</td>\n",
              "      <td>$62 / night</td>\n",
              "      <td>Hottub·Pool·Wifi·Freeparking</td>\n",
              "      <td>Entire condominium</td>\n",
              "      <td>Las Vegas</td>\n",
              "      <td>11.0</td>\n",
              "      <td>4.9111</td>\n",
              "      <td>https://airbnb.com/rooms/44472030</td>\n",
              "    </tr>\n",
              "    <tr>\n",
              "      <th>64</th>\n",
              "      <td>https://airbnb.com/rooms/42761884</td>\n",
              "      <td>Pool house summerlin area  3 bed 2 bath - null...</td>\n",
              "      <td>6 guests · 3 bedrooms · 4 beds · 2 baths</td>\n",
              "      <td>$119 / night</td>\n",
              "      <td>Pool·Wifi·Freeparking</td>\n",
              "      <td>Entire bungalow</td>\n",
              "      <td>Las Vegas</td>\n",
              "      <td>NaN</td>\n",
              "      <td>NaN</td>\n",
              "      <td>https://airbnb.com/rooms/42761884</td>\n",
              "    </tr>\n",
              "  </tbody>\n",
              "</table>\n",
              "</div>"
            ],
            "text/plain": [
              "                                     a  ...                                url\n",
              "131  https://airbnb.com/rooms/47076196  ...  https://airbnb.com/rooms/47076196\n",
              "59   https://airbnb.com/rooms/44472030  ...  https://airbnb.com/rooms/44472030\n",
              "64   https://airbnb.com/rooms/42761884  ...  https://airbnb.com/rooms/42761884\n",
              "\n",
              "[3 rows x 10 columns]"
            ]
          },
          "metadata": {
            "tags": []
          },
          "execution_count": 27
        }
      ]
    },
    {
      "cell_type": "code",
      "metadata": {
        "id": "DyKkexEbJJ4B"
      },
      "source": [
        "df.drop('url', axis=1, inplace=True)"
      ],
      "execution_count": 28,
      "outputs": []
    },
    {
      "cell_type": "markdown",
      "metadata": {
        "id": "9QURtmNUJJ4E"
      },
      "source": [
        "Or try [.rename()](https://pandas.pydata.org/pandas-docs/stable/reference/api/pandas.DataFrame.rename.html)"
      ]
    },
    {
      "cell_type": "code",
      "metadata": {
        "id": "OlLuW-r1JJ4G",
        "colab": {
          "base_uri": "https://localhost:8080/",
          "height": 141
        },
        "outputId": "d6860b79-9039-4b6c-97d0-1738ba030068"
      },
      "source": [
        "# first argument of .rename() is mapper which should be a dict\n",
        "df = df.rename({'a':'url'}, axis=1)  # you could turn on inplace=True for this\n",
        "\n",
        "df.sample(3)"
      ],
      "execution_count": 29,
      "outputs": [
        {
          "output_type": "execute_result",
          "data": {
            "text/html": [
              "<div>\n",
              "<style scoped>\n",
              "    .dataframe tbody tr th:only-of-type {\n",
              "        vertical-align: middle;\n",
              "    }\n",
              "\n",
              "    .dataframe tbody tr th {\n",
              "        vertical-align: top;\n",
              "    }\n",
              "\n",
              "    .dataframe thead th {\n",
              "        text-align: right;\n",
              "    }\n",
              "</style>\n",
              "<table border=\"1\" class=\"dataframe\">\n",
              "  <thead>\n",
              "    <tr style=\"text-align: right;\">\n",
              "      <th></th>\n",
              "      <th>url</th>\n",
              "      <th>b</th>\n",
              "      <th>d</th>\n",
              "      <th>e</th>\n",
              "      <th>f</th>\n",
              "      <th>type</th>\n",
              "      <th>location</th>\n",
              "      <th>n_reviews</th>\n",
              "      <th>avg_rating</th>\n",
              "    </tr>\n",
              "  </thead>\n",
              "  <tbody>\n",
              "    <tr>\n",
              "      <th>54</th>\n",
              "      <td>https://airbnb.com/rooms/46646295</td>\n",
              "      <td>Amazing Penthouse with Strip Views (5CXXD) - n...</td>\n",
              "      <td>6 guests · 2 bedrooms · 3 beds · 2 baths</td>\n",
              "      <td>$123 / night</td>\n",
              "      <td>Hottub·Pool·Wifi·Freeparking</td>\n",
              "      <td>Entire apartment</td>\n",
              "      <td>Las Vegas</td>\n",
              "      <td>3.0</td>\n",
              "      <td>4.0300</td>\n",
              "    </tr>\n",
              "    <tr>\n",
              "      <th>269</th>\n",
              "      <td>https://airbnb.com/rooms/6987603</td>\n",
              "      <td>King Solomons Court One Bedroom Apt - null - L...</td>\n",
              "      <td>4 guests · 1 bedroom · 2 beds · 1 bath</td>\n",
              "      <td>$48 / night</td>\n",
              "      <td>Wifi·Freeparking</td>\n",
              "      <td>Entire guest suite</td>\n",
              "      <td>Las Vegas</td>\n",
              "      <td>72.0</td>\n",
              "      <td>4.9272</td>\n",
              "    </tr>\n",
              "    <tr>\n",
              "      <th>64</th>\n",
              "      <td>https://airbnb.com/rooms/42761884</td>\n",
              "      <td>Pool house summerlin area  3 bed 2 bath - null...</td>\n",
              "      <td>6 guests · 3 bedrooms · 4 beds · 2 baths</td>\n",
              "      <td>$119 / night</td>\n",
              "      <td>Pool·Wifi·Freeparking</td>\n",
              "      <td>Entire bungalow</td>\n",
              "      <td>Las Vegas</td>\n",
              "      <td>NaN</td>\n",
              "      <td>NaN</td>\n",
              "    </tr>\n",
              "  </tbody>\n",
              "</table>\n",
              "</div>"
            ],
            "text/plain": [
              "                                   url  ... avg_rating\n",
              "54   https://airbnb.com/rooms/46646295  ...     4.0300\n",
              "269   https://airbnb.com/rooms/6987603  ...     4.9272\n",
              "64   https://airbnb.com/rooms/42761884  ...        NaN\n",
              "\n",
              "[3 rows x 9 columns]"
            ]
          },
          "metadata": {
            "tags": []
          },
          "execution_count": 29
        }
      ]
    },
    {
      "cell_type": "markdown",
      "metadata": {
        "id": "Peb-z-REJJ4H"
      },
      "source": [
        "#### Turning b into title"
      ]
    },
    {
      "cell_type": "code",
      "metadata": {
        "id": "3yfj7PqYJJ4I",
        "colab": {
          "base_uri": "https://localhost:8080/"
        },
        "outputId": "d001b742-0790-4141-d56d-9501bd68c5d8"
      },
      "source": [
        "df.b"
      ],
      "execution_count": 30,
      "outputs": [
        {
          "output_type": "execute_result",
          "data": {
            "text/plain": [
              "0      Great Room in a House close to the strip - nul...\n",
              "1      Cozy Studio with Private Entrance - null - Las...\n",
              "2      Upstairs bedroom and private bath in Large Hou...\n",
              "3                           Eggeman 8 - null - Las Vegas\n",
              "4      19H#Safe,Gated,Apt,W/Kitchn&Bath,StdioFor2,Old...\n",
              "                             ...                        \n",
              "295    Comfort done with style,  $1799 per month - nu...\n",
              "296    Corner 1bdrm  Posh  Luxury Condo Palms Kitchen...\n",
              "297    Paradise in Las Vegas (near  to the airport) -...\n",
              "298          #2 cozy room near strip - null - Las Vegas \n",
              "299    P 58 Penthouse w/Jacuzzi on Balcony | Sleeps 6...\n",
              "Name: b, Length: 300, dtype: object"
            ]
          },
          "metadata": {
            "tags": []
          },
          "execution_count": 30
        }
      ]
    },
    {
      "cell_type": "code",
      "metadata": {
        "id": "3VwEcIupJJ4b",
        "colab": {
          "base_uri": "https://localhost:8080/"
        },
        "outputId": "9951399d-c23d-47d5-8c78-6bc628b1abca"
      },
      "source": [
        "# split of the - null - \n",
        "df.b.str.split(' - null - ')"
      ],
      "execution_count": 31,
      "outputs": [
        {
          "output_type": "execute_result",
          "data": {
            "text/plain": [
              "0      [Great Room in a House close to the strip, Las...\n",
              "1         [Cozy Studio with Private Entrance, Las Vegas]\n",
              "2      [Upstairs bedroom and private bath in Large Ho...\n",
              "3                                 [Eggeman 8, Las Vegas]\n",
              "4      [19H#Safe,Gated,Apt,W/Kitchn&Bath,StdioFor2,Ol...\n",
              "                             ...                        \n",
              "295    [Comfort done with style,  $1799 per month, La...\n",
              "296    [Corner 1bdrm  Posh  Luxury Condo Palms Kitche...\n",
              "297    [Paradise in Las Vegas (near  to the airport),...\n",
              "298                [#2 cozy room near strip, Las Vegas ]\n",
              "299    [P 58 Penthouse w/Jacuzzi on Balcony | Sleeps ...\n",
              "Name: b, Length: 300, dtype: object"
            ]
          },
          "metadata": {
            "tags": []
          },
          "execution_count": 31
        }
      ]
    },
    {
      "cell_type": "code",
      "metadata": {
        "id": "RiEUEMIjJJ4d",
        "colab": {
          "base_uri": "https://localhost:8080/",
          "height": 416
        },
        "outputId": "1acf76d0-c772-4ad5-b2b3-41f720ea83ee"
      },
      "source": [
        "df.b.str.split(' - null - ', expand=True)"
      ],
      "execution_count": 32,
      "outputs": [
        {
          "output_type": "execute_result",
          "data": {
            "text/html": [
              "<div>\n",
              "<style scoped>\n",
              "    .dataframe tbody tr th:only-of-type {\n",
              "        vertical-align: middle;\n",
              "    }\n",
              "\n",
              "    .dataframe tbody tr th {\n",
              "        vertical-align: top;\n",
              "    }\n",
              "\n",
              "    .dataframe thead th {\n",
              "        text-align: right;\n",
              "    }\n",
              "</style>\n",
              "<table border=\"1\" class=\"dataframe\">\n",
              "  <thead>\n",
              "    <tr style=\"text-align: right;\">\n",
              "      <th></th>\n",
              "      <th>0</th>\n",
              "      <th>1</th>\n",
              "    </tr>\n",
              "  </thead>\n",
              "  <tbody>\n",
              "    <tr>\n",
              "      <th>0</th>\n",
              "      <td>Great Room in a House close to the strip</td>\n",
              "      <td>Las Vegas</td>\n",
              "    </tr>\n",
              "    <tr>\n",
              "      <th>1</th>\n",
              "      <td>Cozy Studio with Private Entrance</td>\n",
              "      <td>Las Vegas</td>\n",
              "    </tr>\n",
              "    <tr>\n",
              "      <th>2</th>\n",
              "      <td>Upstairs bedroom and private bath in Large House</td>\n",
              "      <td>Las Vegas</td>\n",
              "    </tr>\n",
              "    <tr>\n",
              "      <th>3</th>\n",
              "      <td>Eggeman 8</td>\n",
              "      <td>Las Vegas</td>\n",
              "    </tr>\n",
              "    <tr>\n",
              "      <th>4</th>\n",
              "      <td>19H#Safe,Gated,Apt,W/Kitchn&amp;Bath,StdioFor2,Old...</td>\n",
              "      <td>Las Vegas</td>\n",
              "    </tr>\n",
              "    <tr>\n",
              "      <th>...</th>\n",
              "      <td>...</td>\n",
              "      <td>...</td>\n",
              "    </tr>\n",
              "    <tr>\n",
              "      <th>295</th>\n",
              "      <td>Comfort done with style,  $1799 per month</td>\n",
              "      <td>Las Vegas</td>\n",
              "    </tr>\n",
              "    <tr>\n",
              "      <th>296</th>\n",
              "      <td>Corner 1bdrm  Posh  Luxury Condo Palms Kitchen U</td>\n",
              "      <td>Las Vegas</td>\n",
              "    </tr>\n",
              "    <tr>\n",
              "      <th>297</th>\n",
              "      <td>Paradise in Las Vegas (near  to the airport)</td>\n",
              "      <td>Las Vegas</td>\n",
              "    </tr>\n",
              "    <tr>\n",
              "      <th>298</th>\n",
              "      <td>#2 cozy room near strip</td>\n",
              "      <td>Las Vegas</td>\n",
              "    </tr>\n",
              "    <tr>\n",
              "      <th>299</th>\n",
              "      <td>P 58 Penthouse w/Jacuzzi on Balcony | Sleeps 6</td>\n",
              "      <td>Las Vegas</td>\n",
              "    </tr>\n",
              "  </tbody>\n",
              "</table>\n",
              "<p>300 rows × 2 columns</p>\n",
              "</div>"
            ],
            "text/plain": [
              "                                                     0           1\n",
              "0             Great Room in a House close to the strip   Las Vegas\n",
              "1                    Cozy Studio with Private Entrance   Las Vegas\n",
              "2     Upstairs bedroom and private bath in Large House   Las Vegas\n",
              "3                                            Eggeman 8   Las Vegas\n",
              "4    19H#Safe,Gated,Apt,W/Kitchn&Bath,StdioFor2,Old...   Las Vegas\n",
              "..                                                 ...         ...\n",
              "295          Comfort done with style,  $1799 per month   Las Vegas\n",
              "296   Corner 1bdrm  Posh  Luxury Condo Palms Kitchen U   Las Vegas\n",
              "297       Paradise in Las Vegas (near  to the airport)   Las Vegas\n",
              "298                            #2 cozy room near strip  Las Vegas \n",
              "299     P 58 Penthouse w/Jacuzzi on Balcony | Sleeps 6   Las Vegas\n",
              "\n",
              "[300 rows x 2 columns]"
            ]
          },
          "metadata": {
            "tags": []
          },
          "execution_count": 32
        }
      ]
    },
    {
      "cell_type": "code",
      "metadata": {
        "id": "NTypFQDzJJ4e",
        "colab": {
          "base_uri": "https://localhost:8080/",
          "height": 416
        },
        "outputId": "fabb9986-a2a1-4a09-bbf7-7e510e72289f"
      },
      "source": [
        "# another way to rename columns\n",
        "thing = df.b.str.split(' - null - ', expand=True)\n",
        "\n",
        "thing.columns = ['title', 'location']\n",
        "\n",
        "thing"
      ],
      "execution_count": 33,
      "outputs": [
        {
          "output_type": "execute_result",
          "data": {
            "text/html": [
              "<div>\n",
              "<style scoped>\n",
              "    .dataframe tbody tr th:only-of-type {\n",
              "        vertical-align: middle;\n",
              "    }\n",
              "\n",
              "    .dataframe tbody tr th {\n",
              "        vertical-align: top;\n",
              "    }\n",
              "\n",
              "    .dataframe thead th {\n",
              "        text-align: right;\n",
              "    }\n",
              "</style>\n",
              "<table border=\"1\" class=\"dataframe\">\n",
              "  <thead>\n",
              "    <tr style=\"text-align: right;\">\n",
              "      <th></th>\n",
              "      <th>title</th>\n",
              "      <th>location</th>\n",
              "    </tr>\n",
              "  </thead>\n",
              "  <tbody>\n",
              "    <tr>\n",
              "      <th>0</th>\n",
              "      <td>Great Room in a House close to the strip</td>\n",
              "      <td>Las Vegas</td>\n",
              "    </tr>\n",
              "    <tr>\n",
              "      <th>1</th>\n",
              "      <td>Cozy Studio with Private Entrance</td>\n",
              "      <td>Las Vegas</td>\n",
              "    </tr>\n",
              "    <tr>\n",
              "      <th>2</th>\n",
              "      <td>Upstairs bedroom and private bath in Large House</td>\n",
              "      <td>Las Vegas</td>\n",
              "    </tr>\n",
              "    <tr>\n",
              "      <th>3</th>\n",
              "      <td>Eggeman 8</td>\n",
              "      <td>Las Vegas</td>\n",
              "    </tr>\n",
              "    <tr>\n",
              "      <th>4</th>\n",
              "      <td>19H#Safe,Gated,Apt,W/Kitchn&amp;Bath,StdioFor2,Old...</td>\n",
              "      <td>Las Vegas</td>\n",
              "    </tr>\n",
              "    <tr>\n",
              "      <th>...</th>\n",
              "      <td>...</td>\n",
              "      <td>...</td>\n",
              "    </tr>\n",
              "    <tr>\n",
              "      <th>295</th>\n",
              "      <td>Comfort done with style,  $1799 per month</td>\n",
              "      <td>Las Vegas</td>\n",
              "    </tr>\n",
              "    <tr>\n",
              "      <th>296</th>\n",
              "      <td>Corner 1bdrm  Posh  Luxury Condo Palms Kitchen U</td>\n",
              "      <td>Las Vegas</td>\n",
              "    </tr>\n",
              "    <tr>\n",
              "      <th>297</th>\n",
              "      <td>Paradise in Las Vegas (near  to the airport)</td>\n",
              "      <td>Las Vegas</td>\n",
              "    </tr>\n",
              "    <tr>\n",
              "      <th>298</th>\n",
              "      <td>#2 cozy room near strip</td>\n",
              "      <td>Las Vegas</td>\n",
              "    </tr>\n",
              "    <tr>\n",
              "      <th>299</th>\n",
              "      <td>P 58 Penthouse w/Jacuzzi on Balcony | Sleeps 6</td>\n",
              "      <td>Las Vegas</td>\n",
              "    </tr>\n",
              "  </tbody>\n",
              "</table>\n",
              "<p>300 rows × 2 columns</p>\n",
              "</div>"
            ],
            "text/plain": [
              "                                                 title    location\n",
              "0             Great Room in a House close to the strip   Las Vegas\n",
              "1                    Cozy Studio with Private Entrance   Las Vegas\n",
              "2     Upstairs bedroom and private bath in Large House   Las Vegas\n",
              "3                                            Eggeman 8   Las Vegas\n",
              "4    19H#Safe,Gated,Apt,W/Kitchn&Bath,StdioFor2,Old...   Las Vegas\n",
              "..                                                 ...         ...\n",
              "295          Comfort done with style,  $1799 per month   Las Vegas\n",
              "296   Corner 1bdrm  Posh  Luxury Condo Palms Kitchen U   Las Vegas\n",
              "297       Paradise in Las Vegas (near  to the airport)   Las Vegas\n",
              "298                            #2 cozy room near strip  Las Vegas \n",
              "299     P 58 Penthouse w/Jacuzzi on Balcony | Sleeps 6   Las Vegas\n",
              "\n",
              "[300 rows x 2 columns]"
            ]
          },
          "metadata": {
            "tags": []
          },
          "execution_count": 33
        }
      ]
    },
    {
      "cell_type": "code",
      "metadata": {
        "id": "gri8x_CLJJ4i",
        "colab": {
          "base_uri": "https://localhost:8080/"
        },
        "outputId": "6f8ae021-15fb-4be0-8941-adde14ef9de1"
      },
      "source": [
        "# how you'd do it in 1 line\n",
        "df['obnoxious_title'] = df.b.str.split(' - null - ', expand=True).rename({0:'title', 1:'location'}, axis=1)['title']\n",
        "\n",
        "df['obnoxious_title']"
      ],
      "execution_count": 34,
      "outputs": [
        {
          "output_type": "execute_result",
          "data": {
            "text/plain": [
              "0               Great Room in a House close to the strip\n",
              "1                      Cozy Studio with Private Entrance\n",
              "2       Upstairs bedroom and private bath in Large House\n",
              "3                                              Eggeman 8\n",
              "4      19H#Safe,Gated,Apt,W/Kitchn&Bath,StdioFor2,Old...\n",
              "                             ...                        \n",
              "295            Comfort done with style,  $1799 per month\n",
              "296     Corner 1bdrm  Posh  Luxury Condo Palms Kitchen U\n",
              "297         Paradise in Las Vegas (near  to the airport)\n",
              "298                              #2 cozy room near strip\n",
              "299       P 58 Penthouse w/Jacuzzi on Balcony | Sleeps 6\n",
              "Name: obnoxious_title, Length: 300, dtype: object"
            ]
          },
          "metadata": {
            "tags": []
          },
          "execution_count": 34
        }
      ]
    },
    {
      "cell_type": "code",
      "metadata": {
        "id": "7XDmJE_iJh4b"
      },
      "source": [
        "df.drop('obnoxious_title', axis=1, inplace=True)"
      ],
      "execution_count": 35,
      "outputs": []
    },
    {
      "cell_type": "code",
      "metadata": {
        "id": "A7B_aRcFJJ4n",
        "colab": {
          "base_uri": "https://localhost:8080/",
          "height": 110
        },
        "outputId": "ee4e0758-a634-4bc9-bde6-78760b979346"
      },
      "source": [
        "# a more readable way to do it\n",
        "thing = df.b.str.split(' - null - ', expand=True)\n",
        "\n",
        "thing.columns = ['title', 'location']\n",
        "\n",
        "df['b'] = thing['title']\n",
        "\n",
        "df.rename({'b':'title'}, axis=1, inplace=True)\n",
        "\n",
        "df.sample(2)"
      ],
      "execution_count": 36,
      "outputs": [
        {
          "output_type": "execute_result",
          "data": {
            "text/html": [
              "<div>\n",
              "<style scoped>\n",
              "    .dataframe tbody tr th:only-of-type {\n",
              "        vertical-align: middle;\n",
              "    }\n",
              "\n",
              "    .dataframe tbody tr th {\n",
              "        vertical-align: top;\n",
              "    }\n",
              "\n",
              "    .dataframe thead th {\n",
              "        text-align: right;\n",
              "    }\n",
              "</style>\n",
              "<table border=\"1\" class=\"dataframe\">\n",
              "  <thead>\n",
              "    <tr style=\"text-align: right;\">\n",
              "      <th></th>\n",
              "      <th>url</th>\n",
              "      <th>title</th>\n",
              "      <th>d</th>\n",
              "      <th>e</th>\n",
              "      <th>f</th>\n",
              "      <th>type</th>\n",
              "      <th>location</th>\n",
              "      <th>n_reviews</th>\n",
              "      <th>avg_rating</th>\n",
              "    </tr>\n",
              "  </thead>\n",
              "  <tbody>\n",
              "    <tr>\n",
              "      <th>209</th>\n",
              "      <td>https://airbnb.com/rooms/16964577</td>\n",
              "      <td>Entire Townhouse 2BR yours 7 min from The Stri...</td>\n",
              "      <td>4 guests · 2 bedrooms · 2 beds · 1.5 baths</td>\n",
              "      <td>$55 / night</td>\n",
              "      <td>Wifi·Selfcheck-in·Airconditioning·Indoorfireplace</td>\n",
              "      <td>Entire apartment</td>\n",
              "      <td>Las Vegas</td>\n",
              "      <td>10.0</td>\n",
              "      <td>4.7010</td>\n",
              "    </tr>\n",
              "    <tr>\n",
              "      <th>198</th>\n",
              "      <td>https://airbnb.com/rooms/43604623</td>\n",
              "      <td>Beautiful casita , 3.5 mile to  Las Vegas st</td>\n",
              "      <td>2 guests · 1 bedroom · 2 beds · 1 bath</td>\n",
              "      <td>$49 / night</td>\n",
              "      <td>Wifi·Airconditioning·Kitchen·Freeparking</td>\n",
              "      <td>Entire guesthouse</td>\n",
              "      <td>Las Vegas</td>\n",
              "      <td>27.0</td>\n",
              "      <td>4.9327</td>\n",
              "    </tr>\n",
              "  </tbody>\n",
              "</table>\n",
              "</div>"
            ],
            "text/plain": [
              "                                   url  ... avg_rating\n",
              "209  https://airbnb.com/rooms/16964577  ...     4.7010\n",
              "198  https://airbnb.com/rooms/43604623  ...     4.9327\n",
              "\n",
              "[2 rows x 9 columns]"
            ]
          },
          "metadata": {
            "tags": []
          },
          "execution_count": 36
        }
      ]
    },
    {
      "cell_type": "markdown",
      "metadata": {
        "id": "0Iss3QDfXx2z"
      },
      "source": [
        "#### Turning e into price"
      ]
    },
    {
      "cell_type": "code",
      "metadata": {
        "id": "90kq2_bHYPJP",
        "outputId": "aba8bdb0-1e4c-46ac-9a22-223d2666eab2",
        "colab": {
          "base_uri": "https://localhost:8080/",
          "height": 416
        }
      },
      "source": [
        "df.e.str.split(' ', expand=True)"
      ],
      "execution_count": 37,
      "outputs": [
        {
          "output_type": "execute_result",
          "data": {
            "text/html": [
              "<div>\n",
              "<style scoped>\n",
              "    .dataframe tbody tr th:only-of-type {\n",
              "        vertical-align: middle;\n",
              "    }\n",
              "\n",
              "    .dataframe tbody tr th {\n",
              "        vertical-align: top;\n",
              "    }\n",
              "\n",
              "    .dataframe thead th {\n",
              "        text-align: right;\n",
              "    }\n",
              "</style>\n",
              "<table border=\"1\" class=\"dataframe\">\n",
              "  <thead>\n",
              "    <tr style=\"text-align: right;\">\n",
              "      <th></th>\n",
              "      <th>0</th>\n",
              "      <th>1</th>\n",
              "      <th>2</th>\n",
              "    </tr>\n",
              "  </thead>\n",
              "  <tbody>\n",
              "    <tr>\n",
              "      <th>0</th>\n",
              "      <td>$21</td>\n",
              "      <td>/</td>\n",
              "      <td>night</td>\n",
              "    </tr>\n",
              "    <tr>\n",
              "      <th>1</th>\n",
              "      <td>$46</td>\n",
              "      <td>/</td>\n",
              "      <td>night</td>\n",
              "    </tr>\n",
              "    <tr>\n",
              "      <th>2</th>\n",
              "      <td>$31</td>\n",
              "      <td>/</td>\n",
              "      <td>night</td>\n",
              "    </tr>\n",
              "    <tr>\n",
              "      <th>3</th>\n",
              "      <td>$51</td>\n",
              "      <td>/</td>\n",
              "      <td>night</td>\n",
              "    </tr>\n",
              "    <tr>\n",
              "      <th>4</th>\n",
              "      <td>$42</td>\n",
              "      <td>/</td>\n",
              "      <td>night</td>\n",
              "    </tr>\n",
              "    <tr>\n",
              "      <th>...</th>\n",
              "      <td>...</td>\n",
              "      <td>...</td>\n",
              "      <td>...</td>\n",
              "    </tr>\n",
              "    <tr>\n",
              "      <th>295</th>\n",
              "      <td>$59</td>\n",
              "      <td>/</td>\n",
              "      <td>night</td>\n",
              "    </tr>\n",
              "    <tr>\n",
              "      <th>296</th>\n",
              "      <td>$142</td>\n",
              "      <td>/</td>\n",
              "      <td>night</td>\n",
              "    </tr>\n",
              "    <tr>\n",
              "      <th>297</th>\n",
              "      <td>$66</td>\n",
              "      <td>/</td>\n",
              "      <td>night</td>\n",
              "    </tr>\n",
              "    <tr>\n",
              "      <th>298</th>\n",
              "      <td>$20</td>\n",
              "      <td>/</td>\n",
              "      <td>night</td>\n",
              "    </tr>\n",
              "    <tr>\n",
              "      <th>299</th>\n",
              "      <td>$586</td>\n",
              "      <td>/</td>\n",
              "      <td>night</td>\n",
              "    </tr>\n",
              "  </tbody>\n",
              "</table>\n",
              "<p>300 rows × 3 columns</p>\n",
              "</div>"
            ],
            "text/plain": [
              "        0  1      2\n",
              "0     $21  /  night\n",
              "1     $46  /  night\n",
              "2     $31  /  night\n",
              "3     $51  /  night\n",
              "4     $42  /  night\n",
              "..    ... ..    ...\n",
              "295   $59  /  night\n",
              "296  $142  /  night\n",
              "297   $66  /  night\n",
              "298   $20  /  night\n",
              "299  $586  /  night\n",
              "\n",
              "[300 rows x 3 columns]"
            ]
          },
          "metadata": {
            "tags": []
          },
          "execution_count": 37
        }
      ]
    },
    {
      "cell_type": "code",
      "metadata": {
        "id": "aOXTcOQdX1Ic",
        "outputId": "0f29cc8b-57e6-4255-e0f0-dcea6dadab63",
        "colab": {
          "base_uri": "https://localhost:8080/"
        }
      },
      "source": [
        "df.e.str.split(' ', expand=True)[0].str.slice(1)  # use slice to skip the $"
      ],
      "execution_count": 38,
      "outputs": [
        {
          "output_type": "execute_result",
          "data": {
            "text/plain": [
              "0       21\n",
              "1       46\n",
              "2       31\n",
              "3       51\n",
              "4       42\n",
              "      ... \n",
              "295     59\n",
              "296    142\n",
              "297     66\n",
              "298     20\n",
              "299    586\n",
              "Name: 0, Length: 300, dtype: object"
            ]
          },
          "metadata": {
            "tags": []
          },
          "execution_count": 38
        }
      ]
    },
    {
      "cell_type": "code",
      "metadata": {
        "id": "6oaXZAPVYlqY",
        "outputId": "37ff0204-aec8-46a0-cad8-1aebd4d47f0e",
        "colab": {
          "base_uri": "https://localhost:8080/"
        }
      },
      "source": [
        " df.e.str.split(' ', expand=True)[0].str.slice(1).astype(np.float)"
      ],
      "execution_count": 39,
      "outputs": [
        {
          "output_type": "execute_result",
          "data": {
            "text/plain": [
              "0       21.0\n",
              "1       46.0\n",
              "2       31.0\n",
              "3       51.0\n",
              "4       42.0\n",
              "       ...  \n",
              "295     59.0\n",
              "296    142.0\n",
              "297     66.0\n",
              "298     20.0\n",
              "299    586.0\n",
              "Name: 0, Length: 300, dtype: float64"
            ]
          },
          "metadata": {
            "tags": []
          },
          "execution_count": 39
        }
      ]
    },
    {
      "cell_type": "code",
      "metadata": {
        "id": "-WVBsUixYKVK",
        "outputId": "53a75394-3c08-4c82-8adb-3201d96f0cb6",
        "colab": {
          "base_uri": "https://localhost:8080/",
          "height": 416
        }
      },
      "source": [
        "df['e'] = df.e.str.split(' ', expand=True)[0].str.slice(1).astype(np.float)\r\n",
        "\r\n",
        "df = df.rename({'e':'price'}, axis=1)\r\n",
        "\r\n",
        "df"
      ],
      "execution_count": 40,
      "outputs": [
        {
          "output_type": "execute_result",
          "data": {
            "text/html": [
              "<div>\n",
              "<style scoped>\n",
              "    .dataframe tbody tr th:only-of-type {\n",
              "        vertical-align: middle;\n",
              "    }\n",
              "\n",
              "    .dataframe tbody tr th {\n",
              "        vertical-align: top;\n",
              "    }\n",
              "\n",
              "    .dataframe thead th {\n",
              "        text-align: right;\n",
              "    }\n",
              "</style>\n",
              "<table border=\"1\" class=\"dataframe\">\n",
              "  <thead>\n",
              "    <tr style=\"text-align: right;\">\n",
              "      <th></th>\n",
              "      <th>url</th>\n",
              "      <th>title</th>\n",
              "      <th>d</th>\n",
              "      <th>price</th>\n",
              "      <th>f</th>\n",
              "      <th>type</th>\n",
              "      <th>location</th>\n",
              "      <th>n_reviews</th>\n",
              "      <th>avg_rating</th>\n",
              "    </tr>\n",
              "  </thead>\n",
              "  <tbody>\n",
              "    <tr>\n",
              "      <th>0</th>\n",
              "      <td>https://airbnb.com/rooms/45827691</td>\n",
              "      <td>Great Room in a House close to the strip</td>\n",
              "      <td>2 guests · 1 bedroom · 1 bed · 1 shared bath</td>\n",
              "      <td>21.0</td>\n",
              "      <td>Wifi·Airconditioning·Pool·Kitchen</td>\n",
              "      <td>Private room</td>\n",
              "      <td>Las Vegas</td>\n",
              "      <td>5.0</td>\n",
              "      <td>4.80500</td>\n",
              "    </tr>\n",
              "    <tr>\n",
              "      <th>1</th>\n",
              "      <td>https://airbnb.com/rooms/44685536</td>\n",
              "      <td>Cozy Studio with Private Entrance</td>\n",
              "      <td>2 guests · Studio · 1 bed · 1 bath</td>\n",
              "      <td>46.0</td>\n",
              "      <td>Wifi·Airconditioning·Kitchen·Freeparking</td>\n",
              "      <td>Entire house</td>\n",
              "      <td>Las Vegas</td>\n",
              "      <td>45.0</td>\n",
              "      <td>4.91450</td>\n",
              "    </tr>\n",
              "    <tr>\n",
              "      <th>2</th>\n",
              "      <td>https://airbnb.com/rooms/45269857</td>\n",
              "      <td>Upstairs bedroom and private bath in Large House</td>\n",
              "      <td>2 guests · 1 bedroom · 1 bed · 2 shared baths</td>\n",
              "      <td>31.0</td>\n",
              "      <td>Wifi·Airconditioning·Kitchen·Freeparking</td>\n",
              "      <td>Private room</td>\n",
              "      <td>Las Vegas</td>\n",
              "      <td>10.0</td>\n",
              "      <td>4.90100</td>\n",
              "    </tr>\n",
              "    <tr>\n",
              "      <th>3</th>\n",
              "      <td>https://airbnb.com/rooms/44416011</td>\n",
              "      <td>Eggeman 8</td>\n",
              "      <td>4 guests · 2 bedrooms · 3 beds · 1.5 baths</td>\n",
              "      <td>51.0</td>\n",
              "      <td>Wifi·Airconditioning·Pool·Kitchen</td>\n",
              "      <td>Entire condominium</td>\n",
              "      <td>Las Vegas</td>\n",
              "      <td>37.0</td>\n",
              "      <td>4.92370</td>\n",
              "    </tr>\n",
              "    <tr>\n",
              "      <th>4</th>\n",
              "      <td>https://airbnb.com/rooms/40022023</td>\n",
              "      <td>19H#Safe,Gated,Apt,W/Kitchn&amp;Bath,StdioFor2,Old...</td>\n",
              "      <td>2 guests · Studio · 2 beds · 1 bath</td>\n",
              "      <td>42.0</td>\n",
              "      <td>Wifi·Airconditioning·Pool·Kitchen</td>\n",
              "      <td>Entire apartment</td>\n",
              "      <td>Las Vegas</td>\n",
              "      <td>103.0</td>\n",
              "      <td>4.75103</td>\n",
              "    </tr>\n",
              "    <tr>\n",
              "      <th>...</th>\n",
              "      <td>...</td>\n",
              "      <td>...</td>\n",
              "      <td>...</td>\n",
              "      <td>...</td>\n",
              "      <td>...</td>\n",
              "      <td>...</td>\n",
              "      <td>...</td>\n",
              "      <td>...</td>\n",
              "      <td>...</td>\n",
              "    </tr>\n",
              "    <tr>\n",
              "      <th>295</th>\n",
              "      <td>https://airbnb.com/rooms/10660070</td>\n",
              "      <td>Comfort done with style,  $1799 per month</td>\n",
              "      <td>6 guests · 2 bedrooms · 2 beds · 2 baths</td>\n",
              "      <td>59.0</td>\n",
              "      <td>Wifi·Selfcheck-in·Airconditioning·Pool</td>\n",
              "      <td>Entire townhouse</td>\n",
              "      <td>Las Vegas</td>\n",
              "      <td>11.0</td>\n",
              "      <td>4.73110</td>\n",
              "    </tr>\n",
              "    <tr>\n",
              "      <th>296</th>\n",
              "      <td>https://airbnb.com/rooms/20969733</td>\n",
              "      <td>Corner 1bdrm  Posh  Luxury Condo Palms Kitchen U</td>\n",
              "      <td>6 guests · 1 bedroom · 2 beds · 1.5 baths</td>\n",
              "      <td>142.0</td>\n",
              "      <td>Gym·Elevator·Wifi·Selfcheck-in</td>\n",
              "      <td>Entire apartment</td>\n",
              "      <td>Las Vegas</td>\n",
              "      <td>227.0</td>\n",
              "      <td>4.56227</td>\n",
              "    </tr>\n",
              "    <tr>\n",
              "      <th>297</th>\n",
              "      <td>https://airbnb.com/rooms/37427473</td>\n",
              "      <td>Paradise in Las Vegas (near  to the airport)</td>\n",
              "      <td>3 guests · 1 bedroom · 3 beds · 1 bath</td>\n",
              "      <td>66.0</td>\n",
              "      <td>Breakfast·Wifi·Airconditioning·Kitchen</td>\n",
              "      <td>Entire guest suite</td>\n",
              "      <td>Las Vegas</td>\n",
              "      <td>97.0</td>\n",
              "      <td>4.81970</td>\n",
              "    </tr>\n",
              "    <tr>\n",
              "      <th>298</th>\n",
              "      <td>https://airbnb.com/rooms/40331445</td>\n",
              "      <td>#2 cozy room near strip</td>\n",
              "      <td>2 guests · Studio · 1 bed · 1 shared bath</td>\n",
              "      <td>20.0</td>\n",
              "      <td>Wifi·Airconditioning·Kitchen·Freeparking</td>\n",
              "      <td>Private room</td>\n",
              "      <td>Las Vegas</td>\n",
              "      <td>NaN</td>\n",
              "      <td>NaN</td>\n",
              "    </tr>\n",
              "    <tr>\n",
              "      <th>299</th>\n",
              "      <td>https://airbnb.com/rooms/16479650</td>\n",
              "      <td>P 58 Penthouse w/Jacuzzi on Balcony | Sleeps 6</td>\n",
              "      <td>6 guests · 1 bedroom · 3 beds · 1.5 baths</td>\n",
              "      <td>586.0</td>\n",
              "      <td>Gym·Elevator·Wifi·Selfcheck-in</td>\n",
              "      <td>Entire serviced apartment</td>\n",
              "      <td>Las Vegas</td>\n",
              "      <td>103.0</td>\n",
              "      <td>4.76103</td>\n",
              "    </tr>\n",
              "  </tbody>\n",
              "</table>\n",
              "<p>300 rows × 9 columns</p>\n",
              "</div>"
            ],
            "text/plain": [
              "                                   url  ... avg_rating\n",
              "0    https://airbnb.com/rooms/45827691  ...    4.80500\n",
              "1    https://airbnb.com/rooms/44685536  ...    4.91450\n",
              "2    https://airbnb.com/rooms/45269857  ...    4.90100\n",
              "3    https://airbnb.com/rooms/44416011  ...    4.92370\n",
              "4    https://airbnb.com/rooms/40022023  ...    4.75103\n",
              "..                                 ...  ...        ...\n",
              "295  https://airbnb.com/rooms/10660070  ...    4.73110\n",
              "296  https://airbnb.com/rooms/20969733  ...    4.56227\n",
              "297  https://airbnb.com/rooms/37427473  ...    4.81970\n",
              "298  https://airbnb.com/rooms/40331445  ...        NaN\n",
              "299  https://airbnb.com/rooms/16479650  ...    4.76103\n",
              "\n",
              "[300 rows x 9 columns]"
            ]
          },
          "metadata": {
            "tags": []
          },
          "execution_count": 40
        }
      ]
    },
    {
      "cell_type": "markdown",
      "metadata": {
        "id": "W6C3eXbTJJ4p"
      },
      "source": [
        "#### Now what about f?\n",
        "Needs to transform into 19 bool columns..."
      ]
    },
    {
      "cell_type": "code",
      "metadata": {
        "id": "6dBWgV4CJJ4q",
        "colab": {
          "base_uri": "https://localhost:8080/"
        },
        "outputId": "831ebabf-83fe-487b-f487-3aa40e4c5d1d"
      },
      "source": [
        "df.f.str.split('·')"
      ],
      "execution_count": 41,
      "outputs": [
        {
          "output_type": "execute_result",
          "data": {
            "text/plain": [
              "0             [Wifi, Airconditioning, Pool, Kitchen]\n",
              "1      [Wifi, Airconditioning, Kitchen, Freeparking]\n",
              "2      [Wifi, Airconditioning, Kitchen, Freeparking]\n",
              "3             [Wifi, Airconditioning, Pool, Kitchen]\n",
              "4             [Wifi, Airconditioning, Pool, Kitchen]\n",
              "                           ...                      \n",
              "295      [Wifi, Selfcheck-in, Airconditioning, Pool]\n",
              "296              [Gym, Elevator, Wifi, Selfcheck-in]\n",
              "297      [Breakfast, Wifi, Airconditioning, Kitchen]\n",
              "298    [Wifi, Airconditioning, Kitchen, Freeparking]\n",
              "299              [Gym, Elevator, Wifi, Selfcheck-in]\n",
              "Name: f, Length: 300, dtype: object"
            ]
          },
          "metadata": {
            "tags": []
          },
          "execution_count": 41
        }
      ]
    },
    {
      "cell_type": "code",
      "metadata": {
        "id": "8CMrvTGFZgnV",
        "outputId": "d0b9d470-1e08-4c0d-b873-017d50c6bed9",
        "colab": {
          "base_uri": "https://localhost:8080/"
        }
      },
      "source": [
        "df.f.str.split('·').apply(lambda x: 'Freeparking' in x)"
      ],
      "execution_count": 42,
      "outputs": [
        {
          "output_type": "execute_result",
          "data": {
            "text/plain": [
              "0      False\n",
              "1       True\n",
              "2       True\n",
              "3      False\n",
              "4      False\n",
              "       ...  \n",
              "295    False\n",
              "296    False\n",
              "297    False\n",
              "298     True\n",
              "299    False\n",
              "Name: f, Length: 300, dtype: bool"
            ]
          },
          "metadata": {
            "tags": []
          },
          "execution_count": 42
        }
      ]
    },
    {
      "cell_type": "code",
      "metadata": {
        "id": "mjjlMQMUfxXU",
        "outputId": "31d1629f-0d63-4e04-c03f-9cbfefdcd83e",
        "colab": {
          "base_uri": "https://localhost:8080/",
          "height": 1000
        }
      },
      "source": [
        "# replace f column with list version of f column\r\n",
        "df['f'] = df.f.str.split('·')\r\n",
        "\r\n",
        "# lists of possible amenities and their boolean columns\r\n",
        "possible_amenities = ['Gym', 'Wifi', 'Self check-in', 'Air conditioning', 'Pets allowed', 'Indoor fireplace', \r\n",
        "                      'Hot tub', 'Free parking', 'Pool', 'Kitchen', 'Breakfast', 'Elevator', 'Washer', 'Dryer',\r\n",
        "                      'Heating', 'Waterfront', 'Dishwasher', 'Beachfront', 'Ski-in/Ski-out']\r\n",
        "\r\n",
        "bool_column_amenities = [\"gym_bool\", \"wifi_bool\", \"self_check_in_bool\", \"air_conditioning_bool\", \"pets_allowed_bool\", \r\n",
        "                         \"indoor_fireplace_bool\", \"hot_tub_bool\", \"free_parking_bool\", \"pool_bool\", \"kitchen_bool\", \r\n",
        "                         \"breakfast_bool\", \"elevator_bool\", \"washer_bool\", \"dryer_bool\", \"heating_bool\", \"waterfront_bool\", \r\n",
        "                         \"dishwasher_bool\", \"beachfront_bool\", \"ski_in_ski_out_bool\"]\r\n",
        "\r\n",
        "# go through the list of amenities / columns\r\n",
        "for i in range(len(bool_column_amenities)):\r\n",
        "    \r\n",
        "    df[bool_column_amenities[i]] = df['f'].apply(lambda x: possible_amenities[i] in x)\r\n",
        "    \r\n",
        "    \r\n",
        "df"
      ],
      "execution_count": 43,
      "outputs": [
        {
          "output_type": "execute_result",
          "data": {
            "text/html": [
              "<div>\n",
              "<style scoped>\n",
              "    .dataframe tbody tr th:only-of-type {\n",
              "        vertical-align: middle;\n",
              "    }\n",
              "\n",
              "    .dataframe tbody tr th {\n",
              "        vertical-align: top;\n",
              "    }\n",
              "\n",
              "    .dataframe thead th {\n",
              "        text-align: right;\n",
              "    }\n",
              "</style>\n",
              "<table border=\"1\" class=\"dataframe\">\n",
              "  <thead>\n",
              "    <tr style=\"text-align: right;\">\n",
              "      <th></th>\n",
              "      <th>url</th>\n",
              "      <th>title</th>\n",
              "      <th>d</th>\n",
              "      <th>price</th>\n",
              "      <th>f</th>\n",
              "      <th>type</th>\n",
              "      <th>location</th>\n",
              "      <th>n_reviews</th>\n",
              "      <th>avg_rating</th>\n",
              "      <th>gym_bool</th>\n",
              "      <th>wifi_bool</th>\n",
              "      <th>self_check_in_bool</th>\n",
              "      <th>air_conditioning_bool</th>\n",
              "      <th>pets_allowed_bool</th>\n",
              "      <th>indoor_fireplace_bool</th>\n",
              "      <th>hot_tub_bool</th>\n",
              "      <th>free_parking_bool</th>\n",
              "      <th>pool_bool</th>\n",
              "      <th>kitchen_bool</th>\n",
              "      <th>breakfast_bool</th>\n",
              "      <th>elevator_bool</th>\n",
              "      <th>washer_bool</th>\n",
              "      <th>dryer_bool</th>\n",
              "      <th>heating_bool</th>\n",
              "      <th>waterfront_bool</th>\n",
              "      <th>dishwasher_bool</th>\n",
              "      <th>beachfront_bool</th>\n",
              "      <th>ski_in_ski_out_bool</th>\n",
              "    </tr>\n",
              "  </thead>\n",
              "  <tbody>\n",
              "    <tr>\n",
              "      <th>0</th>\n",
              "      <td>https://airbnb.com/rooms/45827691</td>\n",
              "      <td>Great Room in a House close to the strip</td>\n",
              "      <td>2 guests · 1 bedroom · 1 bed · 1 shared bath</td>\n",
              "      <td>21.0</td>\n",
              "      <td>[Wifi, Airconditioning, Pool, Kitchen]</td>\n",
              "      <td>Private room</td>\n",
              "      <td>Las Vegas</td>\n",
              "      <td>5.0</td>\n",
              "      <td>4.80500</td>\n",
              "      <td>False</td>\n",
              "      <td>True</td>\n",
              "      <td>False</td>\n",
              "      <td>False</td>\n",
              "      <td>False</td>\n",
              "      <td>False</td>\n",
              "      <td>False</td>\n",
              "      <td>False</td>\n",
              "      <td>True</td>\n",
              "      <td>True</td>\n",
              "      <td>False</td>\n",
              "      <td>False</td>\n",
              "      <td>False</td>\n",
              "      <td>False</td>\n",
              "      <td>False</td>\n",
              "      <td>False</td>\n",
              "      <td>False</td>\n",
              "      <td>False</td>\n",
              "      <td>False</td>\n",
              "    </tr>\n",
              "    <tr>\n",
              "      <th>1</th>\n",
              "      <td>https://airbnb.com/rooms/44685536</td>\n",
              "      <td>Cozy Studio with Private Entrance</td>\n",
              "      <td>2 guests · Studio · 1 bed · 1 bath</td>\n",
              "      <td>46.0</td>\n",
              "      <td>[Wifi, Airconditioning, Kitchen, Freeparking]</td>\n",
              "      <td>Entire house</td>\n",
              "      <td>Las Vegas</td>\n",
              "      <td>45.0</td>\n",
              "      <td>4.91450</td>\n",
              "      <td>False</td>\n",
              "      <td>True</td>\n",
              "      <td>False</td>\n",
              "      <td>False</td>\n",
              "      <td>False</td>\n",
              "      <td>False</td>\n",
              "      <td>False</td>\n",
              "      <td>False</td>\n",
              "      <td>False</td>\n",
              "      <td>True</td>\n",
              "      <td>False</td>\n",
              "      <td>False</td>\n",
              "      <td>False</td>\n",
              "      <td>False</td>\n",
              "      <td>False</td>\n",
              "      <td>False</td>\n",
              "      <td>False</td>\n",
              "      <td>False</td>\n",
              "      <td>False</td>\n",
              "    </tr>\n",
              "    <tr>\n",
              "      <th>2</th>\n",
              "      <td>https://airbnb.com/rooms/45269857</td>\n",
              "      <td>Upstairs bedroom and private bath in Large House</td>\n",
              "      <td>2 guests · 1 bedroom · 1 bed · 2 shared baths</td>\n",
              "      <td>31.0</td>\n",
              "      <td>[Wifi, Airconditioning, Kitchen, Freeparking]</td>\n",
              "      <td>Private room</td>\n",
              "      <td>Las Vegas</td>\n",
              "      <td>10.0</td>\n",
              "      <td>4.90100</td>\n",
              "      <td>False</td>\n",
              "      <td>True</td>\n",
              "      <td>False</td>\n",
              "      <td>False</td>\n",
              "      <td>False</td>\n",
              "      <td>False</td>\n",
              "      <td>False</td>\n",
              "      <td>False</td>\n",
              "      <td>False</td>\n",
              "      <td>True</td>\n",
              "      <td>False</td>\n",
              "      <td>False</td>\n",
              "      <td>False</td>\n",
              "      <td>False</td>\n",
              "      <td>False</td>\n",
              "      <td>False</td>\n",
              "      <td>False</td>\n",
              "      <td>False</td>\n",
              "      <td>False</td>\n",
              "    </tr>\n",
              "    <tr>\n",
              "      <th>3</th>\n",
              "      <td>https://airbnb.com/rooms/44416011</td>\n",
              "      <td>Eggeman 8</td>\n",
              "      <td>4 guests · 2 bedrooms · 3 beds · 1.5 baths</td>\n",
              "      <td>51.0</td>\n",
              "      <td>[Wifi, Airconditioning, Pool, Kitchen]</td>\n",
              "      <td>Entire condominium</td>\n",
              "      <td>Las Vegas</td>\n",
              "      <td>37.0</td>\n",
              "      <td>4.92370</td>\n",
              "      <td>False</td>\n",
              "      <td>True</td>\n",
              "      <td>False</td>\n",
              "      <td>False</td>\n",
              "      <td>False</td>\n",
              "      <td>False</td>\n",
              "      <td>False</td>\n",
              "      <td>False</td>\n",
              "      <td>True</td>\n",
              "      <td>True</td>\n",
              "      <td>False</td>\n",
              "      <td>False</td>\n",
              "      <td>False</td>\n",
              "      <td>False</td>\n",
              "      <td>False</td>\n",
              "      <td>False</td>\n",
              "      <td>False</td>\n",
              "      <td>False</td>\n",
              "      <td>False</td>\n",
              "    </tr>\n",
              "    <tr>\n",
              "      <th>4</th>\n",
              "      <td>https://airbnb.com/rooms/40022023</td>\n",
              "      <td>19H#Safe,Gated,Apt,W/Kitchn&amp;Bath,StdioFor2,Old...</td>\n",
              "      <td>2 guests · Studio · 2 beds · 1 bath</td>\n",
              "      <td>42.0</td>\n",
              "      <td>[Wifi, Airconditioning, Pool, Kitchen]</td>\n",
              "      <td>Entire apartment</td>\n",
              "      <td>Las Vegas</td>\n",
              "      <td>103.0</td>\n",
              "      <td>4.75103</td>\n",
              "      <td>False</td>\n",
              "      <td>True</td>\n",
              "      <td>False</td>\n",
              "      <td>False</td>\n",
              "      <td>False</td>\n",
              "      <td>False</td>\n",
              "      <td>False</td>\n",
              "      <td>False</td>\n",
              "      <td>True</td>\n",
              "      <td>True</td>\n",
              "      <td>False</td>\n",
              "      <td>False</td>\n",
              "      <td>False</td>\n",
              "      <td>False</td>\n",
              "      <td>False</td>\n",
              "      <td>False</td>\n",
              "      <td>False</td>\n",
              "      <td>False</td>\n",
              "      <td>False</td>\n",
              "    </tr>\n",
              "    <tr>\n",
              "      <th>...</th>\n",
              "      <td>...</td>\n",
              "      <td>...</td>\n",
              "      <td>...</td>\n",
              "      <td>...</td>\n",
              "      <td>...</td>\n",
              "      <td>...</td>\n",
              "      <td>...</td>\n",
              "      <td>...</td>\n",
              "      <td>...</td>\n",
              "      <td>...</td>\n",
              "      <td>...</td>\n",
              "      <td>...</td>\n",
              "      <td>...</td>\n",
              "      <td>...</td>\n",
              "      <td>...</td>\n",
              "      <td>...</td>\n",
              "      <td>...</td>\n",
              "      <td>...</td>\n",
              "      <td>...</td>\n",
              "      <td>...</td>\n",
              "      <td>...</td>\n",
              "      <td>...</td>\n",
              "      <td>...</td>\n",
              "      <td>...</td>\n",
              "      <td>...</td>\n",
              "      <td>...</td>\n",
              "      <td>...</td>\n",
              "      <td>...</td>\n",
              "    </tr>\n",
              "    <tr>\n",
              "      <th>295</th>\n",
              "      <td>https://airbnb.com/rooms/10660070</td>\n",
              "      <td>Comfort done with style,  $1799 per month</td>\n",
              "      <td>6 guests · 2 bedrooms · 2 beds · 2 baths</td>\n",
              "      <td>59.0</td>\n",
              "      <td>[Wifi, Selfcheck-in, Airconditioning, Pool]</td>\n",
              "      <td>Entire townhouse</td>\n",
              "      <td>Las Vegas</td>\n",
              "      <td>11.0</td>\n",
              "      <td>4.73110</td>\n",
              "      <td>False</td>\n",
              "      <td>True</td>\n",
              "      <td>False</td>\n",
              "      <td>False</td>\n",
              "      <td>False</td>\n",
              "      <td>False</td>\n",
              "      <td>False</td>\n",
              "      <td>False</td>\n",
              "      <td>True</td>\n",
              "      <td>False</td>\n",
              "      <td>False</td>\n",
              "      <td>False</td>\n",
              "      <td>False</td>\n",
              "      <td>False</td>\n",
              "      <td>False</td>\n",
              "      <td>False</td>\n",
              "      <td>False</td>\n",
              "      <td>False</td>\n",
              "      <td>False</td>\n",
              "    </tr>\n",
              "    <tr>\n",
              "      <th>296</th>\n",
              "      <td>https://airbnb.com/rooms/20969733</td>\n",
              "      <td>Corner 1bdrm  Posh  Luxury Condo Palms Kitchen U</td>\n",
              "      <td>6 guests · 1 bedroom · 2 beds · 1.5 baths</td>\n",
              "      <td>142.0</td>\n",
              "      <td>[Gym, Elevator, Wifi, Selfcheck-in]</td>\n",
              "      <td>Entire apartment</td>\n",
              "      <td>Las Vegas</td>\n",
              "      <td>227.0</td>\n",
              "      <td>4.56227</td>\n",
              "      <td>True</td>\n",
              "      <td>True</td>\n",
              "      <td>False</td>\n",
              "      <td>False</td>\n",
              "      <td>False</td>\n",
              "      <td>False</td>\n",
              "      <td>False</td>\n",
              "      <td>False</td>\n",
              "      <td>False</td>\n",
              "      <td>False</td>\n",
              "      <td>False</td>\n",
              "      <td>True</td>\n",
              "      <td>False</td>\n",
              "      <td>False</td>\n",
              "      <td>False</td>\n",
              "      <td>False</td>\n",
              "      <td>False</td>\n",
              "      <td>False</td>\n",
              "      <td>False</td>\n",
              "    </tr>\n",
              "    <tr>\n",
              "      <th>297</th>\n",
              "      <td>https://airbnb.com/rooms/37427473</td>\n",
              "      <td>Paradise in Las Vegas (near  to the airport)</td>\n",
              "      <td>3 guests · 1 bedroom · 3 beds · 1 bath</td>\n",
              "      <td>66.0</td>\n",
              "      <td>[Breakfast, Wifi, Airconditioning, Kitchen]</td>\n",
              "      <td>Entire guest suite</td>\n",
              "      <td>Las Vegas</td>\n",
              "      <td>97.0</td>\n",
              "      <td>4.81970</td>\n",
              "      <td>False</td>\n",
              "      <td>True</td>\n",
              "      <td>False</td>\n",
              "      <td>False</td>\n",
              "      <td>False</td>\n",
              "      <td>False</td>\n",
              "      <td>False</td>\n",
              "      <td>False</td>\n",
              "      <td>False</td>\n",
              "      <td>True</td>\n",
              "      <td>True</td>\n",
              "      <td>False</td>\n",
              "      <td>False</td>\n",
              "      <td>False</td>\n",
              "      <td>False</td>\n",
              "      <td>False</td>\n",
              "      <td>False</td>\n",
              "      <td>False</td>\n",
              "      <td>False</td>\n",
              "    </tr>\n",
              "    <tr>\n",
              "      <th>298</th>\n",
              "      <td>https://airbnb.com/rooms/40331445</td>\n",
              "      <td>#2 cozy room near strip</td>\n",
              "      <td>2 guests · Studio · 1 bed · 1 shared bath</td>\n",
              "      <td>20.0</td>\n",
              "      <td>[Wifi, Airconditioning, Kitchen, Freeparking]</td>\n",
              "      <td>Private room</td>\n",
              "      <td>Las Vegas</td>\n",
              "      <td>NaN</td>\n",
              "      <td>NaN</td>\n",
              "      <td>False</td>\n",
              "      <td>True</td>\n",
              "      <td>False</td>\n",
              "      <td>False</td>\n",
              "      <td>False</td>\n",
              "      <td>False</td>\n",
              "      <td>False</td>\n",
              "      <td>False</td>\n",
              "      <td>False</td>\n",
              "      <td>True</td>\n",
              "      <td>False</td>\n",
              "      <td>False</td>\n",
              "      <td>False</td>\n",
              "      <td>False</td>\n",
              "      <td>False</td>\n",
              "      <td>False</td>\n",
              "      <td>False</td>\n",
              "      <td>False</td>\n",
              "      <td>False</td>\n",
              "    </tr>\n",
              "    <tr>\n",
              "      <th>299</th>\n",
              "      <td>https://airbnb.com/rooms/16479650</td>\n",
              "      <td>P 58 Penthouse w/Jacuzzi on Balcony | Sleeps 6</td>\n",
              "      <td>6 guests · 1 bedroom · 3 beds · 1.5 baths</td>\n",
              "      <td>586.0</td>\n",
              "      <td>[Gym, Elevator, Wifi, Selfcheck-in]</td>\n",
              "      <td>Entire serviced apartment</td>\n",
              "      <td>Las Vegas</td>\n",
              "      <td>103.0</td>\n",
              "      <td>4.76103</td>\n",
              "      <td>True</td>\n",
              "      <td>True</td>\n",
              "      <td>False</td>\n",
              "      <td>False</td>\n",
              "      <td>False</td>\n",
              "      <td>False</td>\n",
              "      <td>False</td>\n",
              "      <td>False</td>\n",
              "      <td>False</td>\n",
              "      <td>False</td>\n",
              "      <td>False</td>\n",
              "      <td>True</td>\n",
              "      <td>False</td>\n",
              "      <td>False</td>\n",
              "      <td>False</td>\n",
              "      <td>False</td>\n",
              "      <td>False</td>\n",
              "      <td>False</td>\n",
              "      <td>False</td>\n",
              "    </tr>\n",
              "  </tbody>\n",
              "</table>\n",
              "<p>300 rows × 28 columns</p>\n",
              "</div>"
            ],
            "text/plain": [
              "                                   url  ... ski_in_ski_out_bool\n",
              "0    https://airbnb.com/rooms/45827691  ...               False\n",
              "1    https://airbnb.com/rooms/44685536  ...               False\n",
              "2    https://airbnb.com/rooms/45269857  ...               False\n",
              "3    https://airbnb.com/rooms/44416011  ...               False\n",
              "4    https://airbnb.com/rooms/40022023  ...               False\n",
              "..                                 ...  ...                 ...\n",
              "295  https://airbnb.com/rooms/10660070  ...               False\n",
              "296  https://airbnb.com/rooms/20969733  ...               False\n",
              "297  https://airbnb.com/rooms/37427473  ...               False\n",
              "298  https://airbnb.com/rooms/40331445  ...               False\n",
              "299  https://airbnb.com/rooms/16479650  ...               False\n",
              "\n",
              "[300 rows x 28 columns]"
            ]
          },
          "metadata": {
            "tags": []
          },
          "execution_count": 43
        }
      ]
    },
    {
      "cell_type": "code",
      "metadata": {
        "id": "ZvaSFlIBfyX5",
        "outputId": "62a08fca-ffc4-494a-a5b7-773a59ca3329",
        "colab": {
          "base_uri": "https://localhost:8080/"
        }
      },
      "source": [
        "for c in bool_column_amenities:\r\n",
        "    print(f\"{np.sum(df[c])} {c}\")"
      ],
      "execution_count": 44,
      "outputs": [
        {
          "output_type": "stream",
          "text": [
            "55 gym_bool\n",
            "283 wifi_bool\n",
            "0 self_check_in_bool\n",
            "0 air_conditioning_bool\n",
            "0 pets_allowed_bool\n",
            "0 indoor_fireplace_bool\n",
            "0 hot_tub_bool\n",
            "0 free_parking_bool\n",
            "109 pool_bool\n",
            "82 kitchen_bool\n",
            "11 breakfast_bool\n",
            "19 elevator_bool\n",
            "4 washer_bool\n",
            "10 dryer_bool\n",
            "0 heating_bool\n",
            "0 waterfront_bool\n",
            "0 dishwasher_bool\n",
            "0 beachfront_bool\n",
            "0 ski_in_ski_out_bool\n"
          ],
          "name": "stdout"
        }
      ]
    },
    {
      "cell_type": "code",
      "metadata": {
        "id": "X3543DiVaV1U",
        "outputId": "68854dac-1c1e-4cde-ac6e-86aafa03506b",
        "colab": {
          "base_uri": "https://localhost:8080/",
          "height": 369
        }
      },
      "source": [
        "df = df.drop('f', axis=1)\r\n",
        "\r\n",
        "df.sample(3)"
      ],
      "execution_count": 45,
      "outputs": [
        {
          "output_type": "execute_result",
          "data": {
            "text/html": [
              "<div>\n",
              "<style scoped>\n",
              "    .dataframe tbody tr th:only-of-type {\n",
              "        vertical-align: middle;\n",
              "    }\n",
              "\n",
              "    .dataframe tbody tr th {\n",
              "        vertical-align: top;\n",
              "    }\n",
              "\n",
              "    .dataframe thead th {\n",
              "        text-align: right;\n",
              "    }\n",
              "</style>\n",
              "<table border=\"1\" class=\"dataframe\">\n",
              "  <thead>\n",
              "    <tr style=\"text-align: right;\">\n",
              "      <th></th>\n",
              "      <th>url</th>\n",
              "      <th>title</th>\n",
              "      <th>d</th>\n",
              "      <th>price</th>\n",
              "      <th>type</th>\n",
              "      <th>location</th>\n",
              "      <th>n_reviews</th>\n",
              "      <th>avg_rating</th>\n",
              "      <th>gym_bool</th>\n",
              "      <th>wifi_bool</th>\n",
              "      <th>self_check_in_bool</th>\n",
              "      <th>air_conditioning_bool</th>\n",
              "      <th>pets_allowed_bool</th>\n",
              "      <th>indoor_fireplace_bool</th>\n",
              "      <th>hot_tub_bool</th>\n",
              "      <th>free_parking_bool</th>\n",
              "      <th>pool_bool</th>\n",
              "      <th>kitchen_bool</th>\n",
              "      <th>breakfast_bool</th>\n",
              "      <th>elevator_bool</th>\n",
              "      <th>washer_bool</th>\n",
              "      <th>dryer_bool</th>\n",
              "      <th>heating_bool</th>\n",
              "      <th>waterfront_bool</th>\n",
              "      <th>dishwasher_bool</th>\n",
              "      <th>beachfront_bool</th>\n",
              "      <th>ski_in_ski_out_bool</th>\n",
              "    </tr>\n",
              "  </thead>\n",
              "  <tbody>\n",
              "    <tr>\n",
              "      <th>144</th>\n",
              "      <td>https://airbnb.com/rooms/46157597</td>\n",
              "      <td>luxury tiny guest house smart home</td>\n",
              "      <td>2 guests · Studio · 1 bed · 1 bath</td>\n",
              "      <td>90.0</td>\n",
              "      <td>Tiny house</td>\n",
              "      <td>Las Vegas</td>\n",
              "      <td>15.0</td>\n",
              "      <td>4.0150</td>\n",
              "      <td>False</td>\n",
              "      <td>True</td>\n",
              "      <td>False</td>\n",
              "      <td>False</td>\n",
              "      <td>False</td>\n",
              "      <td>False</td>\n",
              "      <td>False</td>\n",
              "      <td>False</td>\n",
              "      <td>False</td>\n",
              "      <td>True</td>\n",
              "      <td>False</td>\n",
              "      <td>False</td>\n",
              "      <td>False</td>\n",
              "      <td>False</td>\n",
              "      <td>False</td>\n",
              "      <td>False</td>\n",
              "      <td>False</td>\n",
              "      <td>False</td>\n",
              "      <td>False</td>\n",
              "    </tr>\n",
              "    <tr>\n",
              "      <th>234</th>\n",
              "      <td>https://airbnb.com/rooms/42905309</td>\n",
              "      <td>New! Las Vegas, 2b, Cozy Pool, By The Strip(5C15)</td>\n",
              "      <td>6 guests · 2 bedrooms · 2 beds · 2 baths</td>\n",
              "      <td>98.0</td>\n",
              "      <td>Entire apartment</td>\n",
              "      <td>Las Vegas</td>\n",
              "      <td>38.0</td>\n",
              "      <td>4.3938</td>\n",
              "      <td>False</td>\n",
              "      <td>True</td>\n",
              "      <td>False</td>\n",
              "      <td>False</td>\n",
              "      <td>False</td>\n",
              "      <td>False</td>\n",
              "      <td>False</td>\n",
              "      <td>False</td>\n",
              "      <td>True</td>\n",
              "      <td>False</td>\n",
              "      <td>False</td>\n",
              "      <td>False</td>\n",
              "      <td>False</td>\n",
              "      <td>False</td>\n",
              "      <td>False</td>\n",
              "      <td>False</td>\n",
              "      <td>False</td>\n",
              "      <td>False</td>\n",
              "      <td>False</td>\n",
              "    </tr>\n",
              "    <tr>\n",
              "      <th>239</th>\n",
              "      <td>https://airbnb.com/rooms/45848870</td>\n",
              "      <td>Efficient well located 1 bdrm</td>\n",
              "      <td>1 guest · 1 bedroom · 1 bed · 1 bath</td>\n",
              "      <td>58.0</td>\n",
              "      <td>Entire condominium</td>\n",
              "      <td>Las Vegas</td>\n",
              "      <td>NaN</td>\n",
              "      <td>NaN</td>\n",
              "      <td>False</td>\n",
              "      <td>True</td>\n",
              "      <td>False</td>\n",
              "      <td>False</td>\n",
              "      <td>False</td>\n",
              "      <td>False</td>\n",
              "      <td>False</td>\n",
              "      <td>False</td>\n",
              "      <td>False</td>\n",
              "      <td>False</td>\n",
              "      <td>False</td>\n",
              "      <td>False</td>\n",
              "      <td>False</td>\n",
              "      <td>False</td>\n",
              "      <td>False</td>\n",
              "      <td>False</td>\n",
              "      <td>False</td>\n",
              "      <td>False</td>\n",
              "      <td>False</td>\n",
              "    </tr>\n",
              "  </tbody>\n",
              "</table>\n",
              "</div>"
            ],
            "text/plain": [
              "                                   url  ... ski_in_ski_out_bool\n",
              "144  https://airbnb.com/rooms/46157597  ...               False\n",
              "234  https://airbnb.com/rooms/42905309  ...               False\n",
              "239  https://airbnb.com/rooms/45848870  ...               False\n",
              "\n",
              "[3 rows x 27 columns]"
            ]
          },
          "metadata": {
            "tags": []
          },
          "execution_count": 45
        }
      ]
    },
    {
      "cell_type": "markdown",
      "metadata": {
        "id": "1GmH4_VGhH21"
      },
      "source": [
        "#### Turning d into guests, bedrooms, beds, is_studio, baths, half_baths,shared_baths"
      ]
    },
    {
      "cell_type": "code",
      "metadata": {
        "id": "b22s7Pn1gPxJ",
        "outputId": "aa2844e3-e829-487c-feef-fbe3969045cf",
        "colab": {
          "base_uri": "https://localhost:8080/"
        }
      },
      "source": [
        "df.d"
      ],
      "execution_count": 48,
      "outputs": [
        {
          "output_type": "execute_result",
          "data": {
            "text/plain": [
              "0       2 guests · 1 bedroom · 1 bed · 1 shared bath\n",
              "1                 2 guests · Studio · 1 bed · 1 bath\n",
              "2      2 guests · 1 bedroom · 1 bed · 2 shared baths\n",
              "3         4 guests · 2 bedrooms · 3 beds · 1.5 baths\n",
              "4                2 guests · Studio · 2 beds · 1 bath\n",
              "                           ...                      \n",
              "295         6 guests · 2 bedrooms · 2 beds · 2 baths\n",
              "296        6 guests · 1 bedroom · 2 beds · 1.5 baths\n",
              "297           3 guests · 1 bedroom · 3 beds · 1 bath\n",
              "298        2 guests · Studio · 1 bed · 1 shared bath\n",
              "299        6 guests · 1 bedroom · 3 beds · 1.5 baths\n",
              "Name: d, Length: 300, dtype: object"
            ]
          },
          "metadata": {
            "tags": []
          },
          "execution_count": 48
        }
      ]
    },
    {
      "cell_type": "code",
      "metadata": {
        "id": "zwQquYxKgbo8",
        "outputId": "f31535ea-0442-4d06-e2d9-b82dd7b7f03b",
        "colab": {
          "base_uri": "https://localhost:8080/"
        }
      },
      "source": [
        "# how's it look as a list?\r\n",
        "df.d.str.split(' · ')"
      ],
      "execution_count": 55,
      "outputs": [
        {
          "output_type": "execute_result",
          "data": {
            "text/plain": [
              "0       [2 guests, 1 bedroom, 1 bed, 1 shared bath]\n",
              "1                 [2 guests, Studio, 1 bed, 1 bath]\n",
              "2      [2 guests, 1 bedroom, 1 bed, 2 shared baths]\n",
              "3         [4 guests, 2 bedrooms, 3 beds, 1.5 baths]\n",
              "4                [2 guests, Studio, 2 beds, 1 bath]\n",
              "                           ...                     \n",
              "295         [6 guests, 2 bedrooms, 2 beds, 2 baths]\n",
              "296        [6 guests, 1 bedroom, 2 beds, 1.5 baths]\n",
              "297           [3 guests, 1 bedroom, 3 beds, 1 bath]\n",
              "298        [2 guests, Studio, 1 bed, 1 shared bath]\n",
              "299        [6 guests, 1 bedroom, 3 beds, 1.5 baths]\n",
              "Name: d, Length: 300, dtype: object"
            ]
          },
          "metadata": {
            "tags": []
          },
          "execution_count": 55
        }
      ]
    },
    {
      "cell_type": "code",
      "metadata": {
        "id": "2ylEyTgmjAi8",
        "outputId": "ed9158c2-7615-4756-fc5f-58262a3eb310",
        "colab": {
          "base_uri": "https://localhost:8080/"
        }
      },
      "source": [
        "df.d.str.split(' · ').apply(lambda x: '2 guests' in x)  # WIP"
      ],
      "execution_count": 57,
      "outputs": [
        {
          "output_type": "execute_result",
          "data": {
            "text/plain": [
              "0       True\n",
              "1       True\n",
              "2       True\n",
              "3      False\n",
              "4       True\n",
              "       ...  \n",
              "295    False\n",
              "296    False\n",
              "297    False\n",
              "298     True\n",
              "299    False\n",
              "Name: d, Length: 300, dtype: bool"
            ]
          },
          "metadata": {
            "tags": []
          },
          "execution_count": 57
        }
      ]
    }
  ]
}