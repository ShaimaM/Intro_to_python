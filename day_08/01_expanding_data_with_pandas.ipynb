{
  "nbformat": 4,
  "nbformat_minor": 0,
  "metadata": {
    "kernelspec": {
      "display_name": "Python 3",
      "language": "python",
      "name": "python3"
    },
    "language_info": {
      "codemirror_mode": {
        "name": "ipython",
        "version": 3
      },
      "file_extension": ".py",
      "mimetype": "text/x-python",
      "name": "python",
      "nbconvert_exporter": "python",
      "pygments_lexer": "ipython3",
      "version": "3.8.6"
    },
    "colab": {
      "name": "01_expanding_data_with_pandas.ipynb",
      "provenance": [],
      "include_colab_link": true
    }
  },
  "cells": [
    {
      "cell_type": "markdown",
      "metadata": {
        "id": "view-in-github",
        "colab_type": "text"
      },
      "source": [
        "<a href=\"https://colab.research.google.com/github/gumdropsteve/intro_to_python/blob/main/day_08/01_expanding_data_with_pandas.ipynb\" target=\"_parent\"><img src=\"https://colab.research.google.com/assets/colab-badge.svg\" alt=\"Open In Colab\"/></a>"
      ]
    },
    {
      "cell_type": "markdown",
      "metadata": {
        "id": "wbl9EBLZJJ2J"
      },
      "source": [
        "# Going from 8 Columns to 33 Columns and then Joining the Datas Together with Pandas\n",
        "\n",
        "#### Where we are\n",
        "How data collected then looks..."
      ]
    },
    {
      "cell_type": "code",
      "metadata": {
        "id": "UBkM8d1nJJ22",
        "outputId": "55bb679a-1123-4163-8592-2535c2a9fdef",
        "colab": {
          "base_uri": "https://localhost:8080/",
          "height": 141
        }
      },
      "source": [
        "import pandas as pd\n",
        "\n",
        "pd.read_csv('https://github.com/gumdropsteve/intro_to_python/raw/main/day_08/data/las_vegas_2020-12-26.csv').sample(3)"
      ],
      "execution_count": 1,
      "outputs": [
        {
          "output_type": "execute_result",
          "data": {
            "text/html": [
              "<div>\n",
              "<style scoped>\n",
              "    .dataframe tbody tr th:only-of-type {\n",
              "        vertical-align: middle;\n",
              "    }\n",
              "\n",
              "    .dataframe tbody tr th {\n",
              "        vertical-align: top;\n",
              "    }\n",
              "\n",
              "    .dataframe thead th {\n",
              "        text-align: right;\n",
              "    }\n",
              "</style>\n",
              "<table border=\"1\" class=\"dataframe\">\n",
              "  <thead>\n",
              "    <tr style=\"text-align: right;\">\n",
              "      <th></th>\n",
              "      <th>a</th>\n",
              "      <th>b</th>\n",
              "      <th>c</th>\n",
              "      <th>d</th>\n",
              "      <th>e</th>\n",
              "      <th>f</th>\n",
              "      <th>g</th>\n",
              "      <th>h</th>\n",
              "    </tr>\n",
              "  </thead>\n",
              "  <tbody>\n",
              "    <tr>\n",
              "      <th>21</th>\n",
              "      <td>https://airbnb.com/rooms/39870034</td>\n",
              "      <td>Beautiful aparment - null - Las Vegas</td>\n",
              "      <td>Entire house in Las Vegas</td>\n",
              "      <td>2 guests · Studio · 2 beds · 1 bath</td>\n",
              "      <td>$53 / night</td>\n",
              "      <td>Wifi·Freeparking</td>\n",
              "      <td>Rating 4.89 out of 5;4.89164 reviews (164)</td>\n",
              "      <td>164 reviews</td>\n",
              "    </tr>\n",
              "    <tr>\n",
              "      <th>173</th>\n",
              "      <td>https://airbnb.com/rooms/46549836</td>\n",
              "      <td>Relaxing quiet condo  2 bedroom/2bath near Red...</td>\n",
              "      <td>Entire condominium in Las Vegas</td>\n",
              "      <td>4 guests · 2 bedrooms · 2 beds · 2 baths</td>\n",
              "      <td>$69 / night</td>\n",
              "      <td>Wifi·Airconditioning·Pool·Kitchen</td>\n",
              "      <td>NaN</td>\n",
              "      <td>NaN</td>\n",
              "    </tr>\n",
              "    <tr>\n",
              "      <th>84</th>\n",
              "      <td>https://airbnb.com/rooms/31035452</td>\n",
              "      <td>Luxurious, Clean and spacious Condo in Las Veg...</td>\n",
              "      <td>Entire serviced apartment in Las Vegas</td>\n",
              "      <td>4 guests · 1 bedroom · 2 beds · 1 bath</td>\n",
              "      <td>$71 / night</td>\n",
              "      <td>Gym·Elevator·Wifi·Selfcheck-in</td>\n",
              "      <td>Rating 4.89 out of 5;4.8928 reviews (28)</td>\n",
              "      <td>28 reviews</td>\n",
              "    </tr>\n",
              "  </tbody>\n",
              "</table>\n",
              "</div>"
            ],
            "text/plain": [
              "                                     a  ...            h\n",
              "21   https://airbnb.com/rooms/39870034  ...  164 reviews\n",
              "173  https://airbnb.com/rooms/46549836  ...          NaN\n",
              "84   https://airbnb.com/rooms/31035452  ...   28 reviews\n",
              "\n",
              "[3 rows x 8 columns]"
            ]
          },
          "metadata": {
            "tags": []
          },
          "execution_count": 1
        }
      ]
    },
    {
      "cell_type": "markdown",
      "metadata": {
        "id": "e3U8-epfJJ3C"
      },
      "source": [
        "#### Where we want to go\r\n",
        "How data collected now looks..."
      ]
    },
    {
      "cell_type": "code",
      "metadata": {
        "id": "UPZiiucXJJ3D",
        "outputId": "ee9ccb4c-0bab-4c41-fb9a-787fdf05a7d2",
        "colab": {
          "base_uri": "https://localhost:8080/",
          "height": 265
        }
      },
      "source": [
        "pd.read_csv('https://github.com/gumdropsteve/intro_to_python/raw/main/day_08/data/las_vegas_2021-01-11.csv').sample(3)"
      ],
      "execution_count": 2,
      "outputs": [
        {
          "output_type": "execute_result",
          "data": {
            "text/html": [
              "<div>\n",
              "<style scoped>\n",
              "    .dataframe tbody tr th:only-of-type {\n",
              "        vertical-align: middle;\n",
              "    }\n",
              "\n",
              "    .dataframe tbody tr th {\n",
              "        vertical-align: top;\n",
              "    }\n",
              "\n",
              "    .dataframe thead th {\n",
              "        text-align: right;\n",
              "    }\n",
              "</style>\n",
              "<table border=\"1\" class=\"dataframe\">\n",
              "  <thead>\n",
              "    <tr style=\"text-align: right;\">\n",
              "      <th></th>\n",
              "      <th>url</th>\n",
              "      <th>title</th>\n",
              "      <th>type</th>\n",
              "      <th>location</th>\n",
              "      <th>guests</th>\n",
              "      <th>bedrooms</th>\n",
              "      <th>beds</th>\n",
              "      <th>is_studio</th>\n",
              "      <th>baths</th>\n",
              "      <th>half_baths</th>\n",
              "      <th>shared_baths</th>\n",
              "      <th>price</th>\n",
              "      <th>avg_rating</th>\n",
              "      <th>n_reviews</th>\n",
              "      <th>gym_bool</th>\n",
              "      <th>wifi_bool</th>\n",
              "      <th>self_check_in_bool</th>\n",
              "      <th>air_conditioning_bool</th>\n",
              "      <th>pets_allowed_bool</th>\n",
              "      <th>indoor_fireplace_bool</th>\n",
              "      <th>hot_tub_bool</th>\n",
              "      <th>free_parking_bool</th>\n",
              "      <th>pool_bool</th>\n",
              "      <th>kitchen_bool</th>\n",
              "      <th>breakfast_bool</th>\n",
              "      <th>elevator_bool</th>\n",
              "      <th>washer_bool</th>\n",
              "      <th>dryer_bool</th>\n",
              "      <th>heating_bool</th>\n",
              "      <th>waterfront_bool</th>\n",
              "      <th>dishwasher_bool</th>\n",
              "      <th>beachfront_bool</th>\n",
              "      <th>ski_in_ski_out_bool</th>\n",
              "    </tr>\n",
              "  </thead>\n",
              "  <tbody>\n",
              "    <tr>\n",
              "      <th>126</th>\n",
              "      <td>https://airbnb.com/rooms/42905676</td>\n",
              "      <td>2B/2B, Near The Strip, Entire Place,Balcony(3C24)</td>\n",
              "      <td>Entire apartment</td>\n",
              "      <td>Las Vegas</td>\n",
              "      <td>2.0</td>\n",
              "      <td>2</td>\n",
              "      <td>2.0</td>\n",
              "      <td>False</td>\n",
              "      <td>2.0</td>\n",
              "      <td>NaN</td>\n",
              "      <td>NaN</td>\n",
              "      <td>57.0</td>\n",
              "      <td>4.43</td>\n",
              "      <td>23.0</td>\n",
              "      <td>NaN</td>\n",
              "      <td>True</td>\n",
              "      <td>NaN</td>\n",
              "      <td>True</td>\n",
              "      <td>NaN</td>\n",
              "      <td>NaN</td>\n",
              "      <td>NaN</td>\n",
              "      <td>NaN</td>\n",
              "      <td>True</td>\n",
              "      <td>True</td>\n",
              "      <td>NaN</td>\n",
              "      <td>NaN</td>\n",
              "      <td>NaN</td>\n",
              "      <td>NaN</td>\n",
              "      <td>NaN</td>\n",
              "      <td>NaN</td>\n",
              "      <td>NaN</td>\n",
              "      <td>NaN</td>\n",
              "      <td>NaN</td>\n",
              "    </tr>\n",
              "    <tr>\n",
              "      <th>23</th>\n",
              "      <td>https://airbnb.com/rooms/37882812</td>\n",
              "      <td>Private room sleeps up to 6 in cozy Vegas home</td>\n",
              "      <td>Private room</td>\n",
              "      <td>Las Vegas</td>\n",
              "      <td>2.0</td>\n",
              "      <td>1</td>\n",
              "      <td>2.0</td>\n",
              "      <td>False</td>\n",
              "      <td>NaN</td>\n",
              "      <td>NaN</td>\n",
              "      <td>1.5</td>\n",
              "      <td>30.0</td>\n",
              "      <td>NaN</td>\n",
              "      <td>NaN</td>\n",
              "      <td>NaN</td>\n",
              "      <td>True</td>\n",
              "      <td>NaN</td>\n",
              "      <td>True</td>\n",
              "      <td>NaN</td>\n",
              "      <td>NaN</td>\n",
              "      <td>NaN</td>\n",
              "      <td>NaN</td>\n",
              "      <td>True</td>\n",
              "      <td>True</td>\n",
              "      <td>NaN</td>\n",
              "      <td>NaN</td>\n",
              "      <td>NaN</td>\n",
              "      <td>NaN</td>\n",
              "      <td>NaN</td>\n",
              "      <td>NaN</td>\n",
              "      <td>NaN</td>\n",
              "      <td>NaN</td>\n",
              "      <td>NaN</td>\n",
              "    </tr>\n",
              "    <tr>\n",
              "      <th>22</th>\n",
              "      <td>https://airbnb.com/rooms/42906233</td>\n",
              "      <td>2B/2B, By The Strip, Pool View Balcony  (4C19)</td>\n",
              "      <td>Entire apartment</td>\n",
              "      <td>Las Vegas</td>\n",
              "      <td>2.0</td>\n",
              "      <td>2</td>\n",
              "      <td>2.0</td>\n",
              "      <td>False</td>\n",
              "      <td>2.0</td>\n",
              "      <td>NaN</td>\n",
              "      <td>NaN</td>\n",
              "      <td>50.0</td>\n",
              "      <td>4.54</td>\n",
              "      <td>41.0</td>\n",
              "      <td>NaN</td>\n",
              "      <td>True</td>\n",
              "      <td>NaN</td>\n",
              "      <td>True</td>\n",
              "      <td>NaN</td>\n",
              "      <td>NaN</td>\n",
              "      <td>NaN</td>\n",
              "      <td>NaN</td>\n",
              "      <td>True</td>\n",
              "      <td>True</td>\n",
              "      <td>NaN</td>\n",
              "      <td>NaN</td>\n",
              "      <td>NaN</td>\n",
              "      <td>NaN</td>\n",
              "      <td>NaN</td>\n",
              "      <td>NaN</td>\n",
              "      <td>NaN</td>\n",
              "      <td>NaN</td>\n",
              "      <td>NaN</td>\n",
              "    </tr>\n",
              "  </tbody>\n",
              "</table>\n",
              "</div>"
            ],
            "text/plain": [
              "                                   url  ... ski_in_ski_out_bool\n",
              "126  https://airbnb.com/rooms/42905676  ...                 NaN\n",
              "23   https://airbnb.com/rooms/37882812  ...                 NaN\n",
              "22   https://airbnb.com/rooms/42906233  ...                 NaN\n",
              "\n",
              "[3 rows x 33 columns]"
            ]
          },
          "metadata": {
            "tags": []
          },
          "execution_count": 2
        }
      ]
    },
    {
      "cell_type": "code",
      "metadata": {
        "id": "fsH4FH0YJJ3F",
        "outputId": "b69c5c5f-036f-45f1-a290-568ef34ee383",
        "colab": {
          "base_uri": "https://localhost:8080/"
        }
      },
      "source": [
        "pd.read_csv('https://github.com/gumdropsteve/intro_to_python/raw/main/day_08/data/las_vegas_2021-01-11.csv').columns"
      ],
      "execution_count": 3,
      "outputs": [
        {
          "output_type": "execute_result",
          "data": {
            "text/plain": [
              "Index(['url', 'title', 'type', 'location', 'guests', 'bedrooms', 'beds',\n",
              "       'is_studio', 'baths', 'half_baths', 'shared_baths', 'price',\n",
              "       'avg_rating', 'n_reviews', 'gym_bool', 'wifi_bool',\n",
              "       'self_check_in_bool', 'air_conditioning_bool', 'pets_allowed_bool',\n",
              "       'indoor_fireplace_bool', 'hot_tub_bool', 'free_parking_bool',\n",
              "       'pool_bool', 'kitchen_bool', 'breakfast_bool', 'elevator_bool',\n",
              "       'washer_bool', 'dryer_bool', 'heating_bool', 'waterfront_bool',\n",
              "       'dishwasher_bool', 'beachfront_bool', 'ski_in_ski_out_bool'],\n",
              "      dtype='object')"
            ]
          },
          "metadata": {
            "tags": []
          },
          "execution_count": 3
        }
      ]
    },
    {
      "cell_type": "code",
      "metadata": {
        "id": "6DFtfCw8JJ3G",
        "outputId": "998821bc-aaf0-4144-a26b-2eb032652731",
        "colab": {
          "base_uri": "https://localhost:8080/"
        }
      },
      "source": [
        "pd.read_csv('https://github.com/gumdropsteve/intro_to_python/raw/main/day_08/data/las_vegas_2021-01-11.csv').n_reviews"
      ],
      "execution_count": 4,
      "outputs": [
        {
          "output_type": "execute_result",
          "data": {
            "text/plain": [
              "0       NaN\n",
              "1      46.0\n",
              "2       NaN\n",
              "3       NaN\n",
              "4      19.0\n",
              "       ... \n",
              "295     6.0\n",
              "296     4.0\n",
              "297     NaN\n",
              "298    70.0\n",
              "299    12.0\n",
              "Name: n_reviews, Length: 300, dtype: float64"
            ]
          },
          "metadata": {
            "tags": []
          },
          "execution_count": 4
        }
      ]
    },
    {
      "cell_type": "markdown",
      "metadata": {
        "id": "b3cLH40OJJ3H"
      },
      "source": [
        "## Let's get started\n",
        "https://pandas.pydata.org/pandas-docs/stable/reference/api/pandas.Series.str.split.html"
      ]
    },
    {
      "cell_type": "code",
      "metadata": {
        "id": "gRFzExkKJJ3H",
        "outputId": "a7e2dd31-6bbb-47fc-cbe7-74a2fb22e7bc",
        "colab": {
          "base_uri": "https://localhost:8080/",
          "height": 110
        }
      },
      "source": [
        "df = pd.read_csv('https://github.com/gumdropsteve/intro_to_python/raw/main/day_08/data/las_vegas_2020-12-26.csv')\n",
        "\n",
        "df.tail(2)"
      ],
      "execution_count": 5,
      "outputs": [
        {
          "output_type": "execute_result",
          "data": {
            "text/html": [
              "<div>\n",
              "<style scoped>\n",
              "    .dataframe tbody tr th:only-of-type {\n",
              "        vertical-align: middle;\n",
              "    }\n",
              "\n",
              "    .dataframe tbody tr th {\n",
              "        vertical-align: top;\n",
              "    }\n",
              "\n",
              "    .dataframe thead th {\n",
              "        text-align: right;\n",
              "    }\n",
              "</style>\n",
              "<table border=\"1\" class=\"dataframe\">\n",
              "  <thead>\n",
              "    <tr style=\"text-align: right;\">\n",
              "      <th></th>\n",
              "      <th>a</th>\n",
              "      <th>b</th>\n",
              "      <th>c</th>\n",
              "      <th>d</th>\n",
              "      <th>e</th>\n",
              "      <th>f</th>\n",
              "      <th>g</th>\n",
              "      <th>h</th>\n",
              "    </tr>\n",
              "  </thead>\n",
              "  <tbody>\n",
              "    <tr>\n",
              "      <th>298</th>\n",
              "      <td>https://airbnb.com/rooms/40331445</td>\n",
              "      <td>#2 cozy room near strip - null - Las Vegas</td>\n",
              "      <td>Private room in Las Vegas</td>\n",
              "      <td>2 guests · Studio · 1 bed · 1 shared bath</td>\n",
              "      <td>$20 / night</td>\n",
              "      <td>Wifi·Airconditioning·Kitchen·Freeparking</td>\n",
              "      <td>NaN</td>\n",
              "      <td>NaN</td>\n",
              "    </tr>\n",
              "    <tr>\n",
              "      <th>299</th>\n",
              "      <td>https://airbnb.com/rooms/16479650</td>\n",
              "      <td>P 58 Penthouse w/Jacuzzi on Balcony | Sleeps 6...</td>\n",
              "      <td>Entire serviced apartment in Las Vegas</td>\n",
              "      <td>6 guests · 1 bedroom · 3 beds · 1.5 baths</td>\n",
              "      <td>$586 / night</td>\n",
              "      <td>Gym·Elevator·Wifi·Selfcheck-in</td>\n",
              "      <td>Rating 4.76 out of 5;4.76103 reviews (103)</td>\n",
              "      <td>103 reviews</td>\n",
              "    </tr>\n",
              "  </tbody>\n",
              "</table>\n",
              "</div>"
            ],
            "text/plain": [
              "                                     a  ...            h\n",
              "298  https://airbnb.com/rooms/40331445  ...          NaN\n",
              "299  https://airbnb.com/rooms/16479650  ...  103 reviews\n",
              "\n",
              "[2 rows x 8 columns]"
            ]
          },
          "metadata": {
            "tags": []
          },
          "execution_count": 5
        }
      ]
    },
    {
      "cell_type": "markdown",
      "metadata": {
        "id": "iQRECbUXJJ3I"
      },
      "source": [
        "#### Turning c into type & location"
      ]
    },
    {
      "cell_type": "code",
      "metadata": {
        "id": "n52R2XdNJJ3I",
        "outputId": "839c3d2f-f375-4610-e265-d6d3c5715a0f",
        "colab": {
          "base_uri": "https://localhost:8080/"
        }
      },
      "source": [
        "df['c'].str.split()"
      ],
      "execution_count": 6,
      "outputs": [
        {
          "output_type": "execute_result",
          "data": {
            "text/plain": [
              "0                    [Private, room, in, Las, Vegas]\n",
              "1                    [Entire, house, in, Las, Vegas]\n",
              "2                    [Private, room, in, Las, Vegas]\n",
              "3              [Entire, condominium, in, Las, Vegas]\n",
              "4                [Entire, apartment, in, Las, Vegas]\n",
              "                           ...                      \n",
              "295              [Entire, townhouse, in, Las, Vegas]\n",
              "296              [Entire, apartment, in, Las, Vegas]\n",
              "297           [Entire, guest, suite, in, Las, Vegas]\n",
              "298                  [Private, room, in, Las, Vegas]\n",
              "299    [Entire, serviced, apartment, in, Las, Vegas]\n",
              "Name: c, Length: 300, dtype: object"
            ]
          },
          "metadata": {
            "tags": []
          },
          "execution_count": 6
        }
      ]
    },
    {
      "cell_type": "code",
      "metadata": {
        "id": "1flrOdqIJJ3J",
        "outputId": "979228c5-9b04-4c31-99a0-d44cbd4372a2",
        "colab": {
          "base_uri": "https://localhost:8080/"
        }
      },
      "source": [
        "# I only wanted 2 things\n",
        "df['c'].str.split(' in ')"
      ],
      "execution_count": 7,
      "outputs": [
        {
          "output_type": "execute_result",
          "data": {
            "text/plain": [
              "0                   [Private room, Las Vegas]\n",
              "1                   [Entire house, Las Vegas]\n",
              "2                   [Private room, Las Vegas]\n",
              "3             [Entire condominium, Las Vegas]\n",
              "4               [Entire apartment, Las Vegas]\n",
              "                        ...                  \n",
              "295             [Entire townhouse, Las Vegas]\n",
              "296             [Entire apartment, Las Vegas]\n",
              "297           [Entire guest suite, Las Vegas]\n",
              "298                [Private room, Las Vegas ]\n",
              "299    [Entire serviced apartment, Las Vegas]\n",
              "Name: c, Length: 300, dtype: object"
            ]
          },
          "metadata": {
            "tags": []
          },
          "execution_count": 7
        }
      ]
    },
    {
      "cell_type": "code",
      "metadata": {
        "id": "gPsk_JvlJJ3J",
        "outputId": "a01e7c7e-d9df-43ea-d518-2278cb8efdeb",
        "colab": {
          "base_uri": "https://localhost:8080/"
        }
      },
      "source": [
        "df['c'].str.split(' in ')[0]"
      ],
      "execution_count": 8,
      "outputs": [
        {
          "output_type": "execute_result",
          "data": {
            "text/plain": [
              "['Private room', 'Las Vegas']"
            ]
          },
          "metadata": {
            "tags": []
          },
          "execution_count": 8
        }
      ]
    },
    {
      "cell_type": "code",
      "metadata": {
        "id": "LcXwel1jJJ3K",
        "outputId": "111b651d-06b7-4a00-862c-fe4b503951ad",
        "colab": {
          "base_uri": "https://localhost:8080/"
        }
      },
      "source": [
        "# But I wanted 2 columns\n",
        "# https://pandas.pydata.org/pandas-docs/stable/reference/api/pandas.Series.str.split.html#pandas.Series.str.split\n",
        "df['c'].str.split(' in ', expand=True)[0]"
      ],
      "execution_count": 9,
      "outputs": [
        {
          "output_type": "execute_result",
          "data": {
            "text/plain": [
              "0                   Private room\n",
              "1                   Entire house\n",
              "2                   Private room\n",
              "3             Entire condominium\n",
              "4               Entire apartment\n",
              "                 ...            \n",
              "295             Entire townhouse\n",
              "296             Entire apartment\n",
              "297           Entire guest suite\n",
              "298                 Private room\n",
              "299    Entire serviced apartment\n",
              "Name: 0, Length: 300, dtype: object"
            ]
          },
          "metadata": {
            "tags": []
          },
          "execution_count": 9
        }
      ]
    },
    {
      "cell_type": "code",
      "metadata": {
        "id": "DNP5PCHgJJ3L",
        "outputId": "9113b26e-ed90-41f9-aa44-0f05a2894508",
        "colab": {
          "base_uri": "https://localhost:8080/",
          "height": 416
        }
      },
      "source": [
        "df['c'].str.split(' in ', expand=True)"
      ],
      "execution_count": 10,
      "outputs": [
        {
          "output_type": "execute_result",
          "data": {
            "text/html": [
              "<div>\n",
              "<style scoped>\n",
              "    .dataframe tbody tr th:only-of-type {\n",
              "        vertical-align: middle;\n",
              "    }\n",
              "\n",
              "    .dataframe tbody tr th {\n",
              "        vertical-align: top;\n",
              "    }\n",
              "\n",
              "    .dataframe thead th {\n",
              "        text-align: right;\n",
              "    }\n",
              "</style>\n",
              "<table border=\"1\" class=\"dataframe\">\n",
              "  <thead>\n",
              "    <tr style=\"text-align: right;\">\n",
              "      <th></th>\n",
              "      <th>0</th>\n",
              "      <th>1</th>\n",
              "      <th>2</th>\n",
              "    </tr>\n",
              "  </thead>\n",
              "  <tbody>\n",
              "    <tr>\n",
              "      <th>0</th>\n",
              "      <td>Private room</td>\n",
              "      <td>Las Vegas</td>\n",
              "      <td>None</td>\n",
              "    </tr>\n",
              "    <tr>\n",
              "      <th>1</th>\n",
              "      <td>Entire house</td>\n",
              "      <td>Las Vegas</td>\n",
              "      <td>None</td>\n",
              "    </tr>\n",
              "    <tr>\n",
              "      <th>2</th>\n",
              "      <td>Private room</td>\n",
              "      <td>Las Vegas</td>\n",
              "      <td>None</td>\n",
              "    </tr>\n",
              "    <tr>\n",
              "      <th>3</th>\n",
              "      <td>Entire condominium</td>\n",
              "      <td>Las Vegas</td>\n",
              "      <td>None</td>\n",
              "    </tr>\n",
              "    <tr>\n",
              "      <th>4</th>\n",
              "      <td>Entire apartment</td>\n",
              "      <td>Las Vegas</td>\n",
              "      <td>None</td>\n",
              "    </tr>\n",
              "    <tr>\n",
              "      <th>...</th>\n",
              "      <td>...</td>\n",
              "      <td>...</td>\n",
              "      <td>...</td>\n",
              "    </tr>\n",
              "    <tr>\n",
              "      <th>295</th>\n",
              "      <td>Entire townhouse</td>\n",
              "      <td>Las Vegas</td>\n",
              "      <td>None</td>\n",
              "    </tr>\n",
              "    <tr>\n",
              "      <th>296</th>\n",
              "      <td>Entire apartment</td>\n",
              "      <td>Las Vegas</td>\n",
              "      <td>None</td>\n",
              "    </tr>\n",
              "    <tr>\n",
              "      <th>297</th>\n",
              "      <td>Entire guest suite</td>\n",
              "      <td>Las Vegas</td>\n",
              "      <td>None</td>\n",
              "    </tr>\n",
              "    <tr>\n",
              "      <th>298</th>\n",
              "      <td>Private room</td>\n",
              "      <td>Las Vegas</td>\n",
              "      <td>None</td>\n",
              "    </tr>\n",
              "    <tr>\n",
              "      <th>299</th>\n",
              "      <td>Entire serviced apartment</td>\n",
              "      <td>Las Vegas</td>\n",
              "      <td>None</td>\n",
              "    </tr>\n",
              "  </tbody>\n",
              "</table>\n",
              "<p>300 rows × 3 columns</p>\n",
              "</div>"
            ],
            "text/plain": [
              "                             0           1     2\n",
              "0                 Private room   Las Vegas  None\n",
              "1                 Entire house   Las Vegas  None\n",
              "2                 Private room   Las Vegas  None\n",
              "3           Entire condominium   Las Vegas  None\n",
              "4             Entire apartment   Las Vegas  None\n",
              "..                         ...         ...   ...\n",
              "295           Entire townhouse   Las Vegas  None\n",
              "296           Entire apartment   Las Vegas  None\n",
              "297         Entire guest suite   Las Vegas  None\n",
              "298               Private room  Las Vegas   None\n",
              "299  Entire serviced apartment   Las Vegas  None\n",
              "\n",
              "[300 rows x 3 columns]"
            ]
          },
          "metadata": {
            "tags": []
          },
          "execution_count": 10
        }
      ]
    },
    {
      "cell_type": "code",
      "metadata": {
        "id": "y6PWk6spJJ3L",
        "outputId": "a12d7d3d-a0a4-4c15-daaf-554ff51a4ce5",
        "colab": {
          "base_uri": "https://localhost:8080/"
        }
      },
      "source": [
        "df['c'].str.split(' in ', expand=True)[1]"
      ],
      "execution_count": 11,
      "outputs": [
        {
          "output_type": "execute_result",
          "data": {
            "text/plain": [
              "0       Las Vegas\n",
              "1       Las Vegas\n",
              "2       Las Vegas\n",
              "3       Las Vegas\n",
              "4       Las Vegas\n",
              "          ...    \n",
              "295     Las Vegas\n",
              "296     Las Vegas\n",
              "297     Las Vegas\n",
              "298    Las Vegas \n",
              "299     Las Vegas\n",
              "Name: 1, Length: 300, dtype: object"
            ]
          },
          "metadata": {
            "tags": []
          },
          "execution_count": 11
        }
      ]
    },
    {
      "cell_type": "code",
      "metadata": {
        "id": "22Xqvn1oJJ3M",
        "outputId": "fb7479cc-8385-49fd-9e7f-ab6347b3bbca",
        "colab": {
          "base_uri": "https://localhost:8080/",
          "height": 416
        }
      },
      "source": [
        "type_location_values = df['c'].str.split(' in ', expand=True)\n",
        "\n",
        "df['type'] = type_location_values[0]\n",
        "df['location'] = type_location_values[1]\n",
        "\n",
        "df"
      ],
      "execution_count": 12,
      "outputs": [
        {
          "output_type": "execute_result",
          "data": {
            "text/html": [
              "<div>\n",
              "<style scoped>\n",
              "    .dataframe tbody tr th:only-of-type {\n",
              "        vertical-align: middle;\n",
              "    }\n",
              "\n",
              "    .dataframe tbody tr th {\n",
              "        vertical-align: top;\n",
              "    }\n",
              "\n",
              "    .dataframe thead th {\n",
              "        text-align: right;\n",
              "    }\n",
              "</style>\n",
              "<table border=\"1\" class=\"dataframe\">\n",
              "  <thead>\n",
              "    <tr style=\"text-align: right;\">\n",
              "      <th></th>\n",
              "      <th>a</th>\n",
              "      <th>b</th>\n",
              "      <th>c</th>\n",
              "      <th>d</th>\n",
              "      <th>e</th>\n",
              "      <th>f</th>\n",
              "      <th>g</th>\n",
              "      <th>h</th>\n",
              "      <th>type</th>\n",
              "      <th>location</th>\n",
              "    </tr>\n",
              "  </thead>\n",
              "  <tbody>\n",
              "    <tr>\n",
              "      <th>0</th>\n",
              "      <td>https://airbnb.com/rooms/45827691</td>\n",
              "      <td>Great Room in a House close to the strip - nul...</td>\n",
              "      <td>Private room in Las Vegas</td>\n",
              "      <td>2 guests · 1 bedroom · 1 bed · 1 shared bath</td>\n",
              "      <td>$21 / night</td>\n",
              "      <td>Wifi·Airconditioning·Pool·Kitchen</td>\n",
              "      <td>Rating 4.80 out of 5;4.805 reviews (5)</td>\n",
              "      <td>5 reviews</td>\n",
              "      <td>Private room</td>\n",
              "      <td>Las Vegas</td>\n",
              "    </tr>\n",
              "    <tr>\n",
              "      <th>1</th>\n",
              "      <td>https://airbnb.com/rooms/44685536</td>\n",
              "      <td>Cozy Studio with Private Entrance - null - Las...</td>\n",
              "      <td>Entire house in Las Vegas</td>\n",
              "      <td>2 guests · Studio · 1 bed · 1 bath</td>\n",
              "      <td>$46 / night</td>\n",
              "      <td>Wifi·Airconditioning·Kitchen·Freeparking</td>\n",
              "      <td>Rating 4.91 out of 5;4.9145 reviews (45)</td>\n",
              "      <td>45 reviews</td>\n",
              "      <td>Entire house</td>\n",
              "      <td>Las Vegas</td>\n",
              "    </tr>\n",
              "    <tr>\n",
              "      <th>2</th>\n",
              "      <td>https://airbnb.com/rooms/45269857</td>\n",
              "      <td>Upstairs bedroom and private bath in Large Hou...</td>\n",
              "      <td>Private room in Las Vegas</td>\n",
              "      <td>2 guests · 1 bedroom · 1 bed · 2 shared baths</td>\n",
              "      <td>$31 / night</td>\n",
              "      <td>Wifi·Airconditioning·Kitchen·Freeparking</td>\n",
              "      <td>Rating 4.90 out of 5;4.9010 reviews (10)</td>\n",
              "      <td>10 reviews</td>\n",
              "      <td>Private room</td>\n",
              "      <td>Las Vegas</td>\n",
              "    </tr>\n",
              "    <tr>\n",
              "      <th>3</th>\n",
              "      <td>https://airbnb.com/rooms/44416011</td>\n",
              "      <td>Eggeman 8 - null - Las Vegas</td>\n",
              "      <td>Entire condominium in Las Vegas</td>\n",
              "      <td>4 guests · 2 bedrooms · 3 beds · 1.5 baths</td>\n",
              "      <td>$51 / night</td>\n",
              "      <td>Wifi·Airconditioning·Pool·Kitchen</td>\n",
              "      <td>Rating 4.92 out of 5;4.9237 reviews (37)</td>\n",
              "      <td>37 reviews</td>\n",
              "      <td>Entire condominium</td>\n",
              "      <td>Las Vegas</td>\n",
              "    </tr>\n",
              "    <tr>\n",
              "      <th>4</th>\n",
              "      <td>https://airbnb.com/rooms/40022023</td>\n",
              "      <td>19H#Safe,Gated,Apt,W/Kitchn&amp;Bath,StdioFor2,Old...</td>\n",
              "      <td>Entire apartment in Las Vegas</td>\n",
              "      <td>2 guests · Studio · 2 beds · 1 bath</td>\n",
              "      <td>$42 / night</td>\n",
              "      <td>Wifi·Airconditioning·Pool·Kitchen</td>\n",
              "      <td>Rating 4.75 out of 5;4.75103 reviews (103)</td>\n",
              "      <td>103 reviews</td>\n",
              "      <td>Entire apartment</td>\n",
              "      <td>Las Vegas</td>\n",
              "    </tr>\n",
              "    <tr>\n",
              "      <th>...</th>\n",
              "      <td>...</td>\n",
              "      <td>...</td>\n",
              "      <td>...</td>\n",
              "      <td>...</td>\n",
              "      <td>...</td>\n",
              "      <td>...</td>\n",
              "      <td>...</td>\n",
              "      <td>...</td>\n",
              "      <td>...</td>\n",
              "      <td>...</td>\n",
              "    </tr>\n",
              "    <tr>\n",
              "      <th>295</th>\n",
              "      <td>https://airbnb.com/rooms/10660070</td>\n",
              "      <td>Comfort done with style,  $1799 per month - nu...</td>\n",
              "      <td>Entire townhouse in Las Vegas</td>\n",
              "      <td>6 guests · 2 bedrooms · 2 beds · 2 baths</td>\n",
              "      <td>$59 / night</td>\n",
              "      <td>Wifi·Selfcheck-in·Airconditioning·Pool</td>\n",
              "      <td>Rating 4.73 out of 5;4.7311 reviews (11)</td>\n",
              "      <td>11 reviews</td>\n",
              "      <td>Entire townhouse</td>\n",
              "      <td>Las Vegas</td>\n",
              "    </tr>\n",
              "    <tr>\n",
              "      <th>296</th>\n",
              "      <td>https://airbnb.com/rooms/20969733</td>\n",
              "      <td>Corner 1bdrm  Posh  Luxury Condo Palms Kitchen...</td>\n",
              "      <td>Entire apartment in Las Vegas</td>\n",
              "      <td>6 guests · 1 bedroom · 2 beds · 1.5 baths</td>\n",
              "      <td>$142 / night</td>\n",
              "      <td>Gym·Elevator·Wifi·Selfcheck-in</td>\n",
              "      <td>Rating 4.56 out of 5;4.56227 reviews (227)</td>\n",
              "      <td>227 reviews</td>\n",
              "      <td>Entire apartment</td>\n",
              "      <td>Las Vegas</td>\n",
              "    </tr>\n",
              "    <tr>\n",
              "      <th>297</th>\n",
              "      <td>https://airbnb.com/rooms/37427473</td>\n",
              "      <td>Paradise in Las Vegas (near  to the airport) -...</td>\n",
              "      <td>Entire guest suite in Las Vegas</td>\n",
              "      <td>3 guests · 1 bedroom · 3 beds · 1 bath</td>\n",
              "      <td>$66 / night</td>\n",
              "      <td>Breakfast·Wifi·Airconditioning·Kitchen</td>\n",
              "      <td>Rating 4.81 out of 5;4.8197 reviews (97)</td>\n",
              "      <td>97 reviews</td>\n",
              "      <td>Entire guest suite</td>\n",
              "      <td>Las Vegas</td>\n",
              "    </tr>\n",
              "    <tr>\n",
              "      <th>298</th>\n",
              "      <td>https://airbnb.com/rooms/40331445</td>\n",
              "      <td>#2 cozy room near strip - null - Las Vegas</td>\n",
              "      <td>Private room in Las Vegas</td>\n",
              "      <td>2 guests · Studio · 1 bed · 1 shared bath</td>\n",
              "      <td>$20 / night</td>\n",
              "      <td>Wifi·Airconditioning·Kitchen·Freeparking</td>\n",
              "      <td>NaN</td>\n",
              "      <td>NaN</td>\n",
              "      <td>Private room</td>\n",
              "      <td>Las Vegas</td>\n",
              "    </tr>\n",
              "    <tr>\n",
              "      <th>299</th>\n",
              "      <td>https://airbnb.com/rooms/16479650</td>\n",
              "      <td>P 58 Penthouse w/Jacuzzi on Balcony | Sleeps 6...</td>\n",
              "      <td>Entire serviced apartment in Las Vegas</td>\n",
              "      <td>6 guests · 1 bedroom · 3 beds · 1.5 baths</td>\n",
              "      <td>$586 / night</td>\n",
              "      <td>Gym·Elevator·Wifi·Selfcheck-in</td>\n",
              "      <td>Rating 4.76 out of 5;4.76103 reviews (103)</td>\n",
              "      <td>103 reviews</td>\n",
              "      <td>Entire serviced apartment</td>\n",
              "      <td>Las Vegas</td>\n",
              "    </tr>\n",
              "  </tbody>\n",
              "</table>\n",
              "<p>300 rows × 10 columns</p>\n",
              "</div>"
            ],
            "text/plain": [
              "                                     a  ...    location\n",
              "0    https://airbnb.com/rooms/45827691  ...   Las Vegas\n",
              "1    https://airbnb.com/rooms/44685536  ...   Las Vegas\n",
              "2    https://airbnb.com/rooms/45269857  ...   Las Vegas\n",
              "3    https://airbnb.com/rooms/44416011  ...   Las Vegas\n",
              "4    https://airbnb.com/rooms/40022023  ...   Las Vegas\n",
              "..                                 ...  ...         ...\n",
              "295  https://airbnb.com/rooms/10660070  ...   Las Vegas\n",
              "296  https://airbnb.com/rooms/20969733  ...   Las Vegas\n",
              "297  https://airbnb.com/rooms/37427473  ...   Las Vegas\n",
              "298  https://airbnb.com/rooms/40331445  ...  Las Vegas \n",
              "299  https://airbnb.com/rooms/16479650  ...   Las Vegas\n",
              "\n",
              "[300 rows x 10 columns]"
            ]
          },
          "metadata": {
            "tags": []
          },
          "execution_count": 12
        }
      ]
    },
    {
      "cell_type": "code",
      "metadata": {
        "id": "Wkm1JvWfJJ3U",
        "outputId": "b65967ab-9d13-4fcc-9fb7-80b8dd9a74ed",
        "colab": {
          "base_uri": "https://localhost:8080/",
          "height": 110
        }
      },
      "source": [
        "# we no longer need the c column\n",
        "df.drop('c', inplace=True, axis=1)  # inplace for in place (updates the og dataframe), axis=1 for columns\n",
        "\n",
        "df.sample(2)"
      ],
      "execution_count": 13,
      "outputs": [
        {
          "output_type": "execute_result",
          "data": {
            "text/html": [
              "<div>\n",
              "<style scoped>\n",
              "    .dataframe tbody tr th:only-of-type {\n",
              "        vertical-align: middle;\n",
              "    }\n",
              "\n",
              "    .dataframe tbody tr th {\n",
              "        vertical-align: top;\n",
              "    }\n",
              "\n",
              "    .dataframe thead th {\n",
              "        text-align: right;\n",
              "    }\n",
              "</style>\n",
              "<table border=\"1\" class=\"dataframe\">\n",
              "  <thead>\n",
              "    <tr style=\"text-align: right;\">\n",
              "      <th></th>\n",
              "      <th>a</th>\n",
              "      <th>b</th>\n",
              "      <th>d</th>\n",
              "      <th>e</th>\n",
              "      <th>f</th>\n",
              "      <th>g</th>\n",
              "      <th>h</th>\n",
              "      <th>type</th>\n",
              "      <th>location</th>\n",
              "    </tr>\n",
              "  </thead>\n",
              "  <tbody>\n",
              "    <tr>\n",
              "      <th>147</th>\n",
              "      <td>https://airbnb.com/rooms/28127049</td>\n",
              "      <td>50th floor luxury spa suite at Palms Place- CL...</td>\n",
              "      <td>4 guests · 1 bedroom · 2 beds · 1 bath</td>\n",
              "      <td>$159 / night</td>\n",
              "      <td>Wifi·Airconditioning·Pool·Kitchen</td>\n",
              "      <td>Rating 4.83 out of 5;4.83162 reviews (162)</td>\n",
              "      <td>162 reviews</td>\n",
              "      <td>Entire condominium</td>\n",
              "      <td>Las Vegas</td>\n",
              "    </tr>\n",
              "    <tr>\n",
              "      <th>103</th>\n",
              "      <td>https://airbnb.com/rooms/21879012</td>\n",
              "      <td>King Bedroom Kitchen Suite on Las Vegas Strip ...</td>\n",
              "      <td>4 guests · 1 bedroom · 1 bed · 1 shared bath</td>\n",
              "      <td>$ 100 / night</td>\n",
              "      <td>Gym·Elevator·Wifi·Airconditioning</td>\n",
              "      <td>NaN</td>\n",
              "      <td>NaN</td>\n",
              "      <td>Resort room</td>\n",
              "      <td>Las Vegas</td>\n",
              "    </tr>\n",
              "  </tbody>\n",
              "</table>\n",
              "</div>"
            ],
            "text/plain": [
              "                                     a  ...   location\n",
              "147  https://airbnb.com/rooms/28127049  ...  Las Vegas\n",
              "103  https://airbnb.com/rooms/21879012  ...  Las Vegas\n",
              "\n",
              "[2 rows x 9 columns]"
            ]
          },
          "metadata": {
            "tags": []
          },
          "execution_count": 13
        }
      ]
    },
    {
      "cell_type": "markdown",
      "metadata": {
        "id": "E63rgUAsJJ3X"
      },
      "source": [
        "#### Turning h into n_reviews"
      ]
    },
    {
      "cell_type": "code",
      "metadata": {
        "id": "aubnChXOJJ3X",
        "outputId": "3e748afc-7ddd-43fd-9ffa-34bd9bd0794c",
        "colab": {
          "base_uri": "https://localhost:8080/"
        }
      },
      "source": [
        "df.h"
      ],
      "execution_count": 14,
      "outputs": [
        {
          "output_type": "execute_result",
          "data": {
            "text/plain": [
              "0        5 reviews\n",
              "1       45 reviews\n",
              "2       10 reviews\n",
              "3       37 reviews\n",
              "4      103 reviews\n",
              "          ...     \n",
              "295     11 reviews\n",
              "296    227 reviews\n",
              "297     97 reviews\n",
              "298            NaN\n",
              "299    103 reviews\n",
              "Name: h, Length: 300, dtype: object"
            ]
          },
          "metadata": {
            "tags": []
          },
          "execution_count": 14
        }
      ]
    },
    {
      "cell_type": "code",
      "metadata": {
        "id": "5szL6mpuJJ3Y",
        "outputId": "068d6b45-c30e-42b8-f108-31ed0aa354f1",
        "colab": {
          "base_uri": "https://localhost:8080/",
          "height": 416
        }
      },
      "source": [
        "df.h.str.split(expand=True)"
      ],
      "execution_count": 15,
      "outputs": [
        {
          "output_type": "execute_result",
          "data": {
            "text/html": [
              "<div>\n",
              "<style scoped>\n",
              "    .dataframe tbody tr th:only-of-type {\n",
              "        vertical-align: middle;\n",
              "    }\n",
              "\n",
              "    .dataframe tbody tr th {\n",
              "        vertical-align: top;\n",
              "    }\n",
              "\n",
              "    .dataframe thead th {\n",
              "        text-align: right;\n",
              "    }\n",
              "</style>\n",
              "<table border=\"1\" class=\"dataframe\">\n",
              "  <thead>\n",
              "    <tr style=\"text-align: right;\">\n",
              "      <th></th>\n",
              "      <th>0</th>\n",
              "      <th>1</th>\n",
              "    </tr>\n",
              "  </thead>\n",
              "  <tbody>\n",
              "    <tr>\n",
              "      <th>0</th>\n",
              "      <td>5</td>\n",
              "      <td>reviews</td>\n",
              "    </tr>\n",
              "    <tr>\n",
              "      <th>1</th>\n",
              "      <td>45</td>\n",
              "      <td>reviews</td>\n",
              "    </tr>\n",
              "    <tr>\n",
              "      <th>2</th>\n",
              "      <td>10</td>\n",
              "      <td>reviews</td>\n",
              "    </tr>\n",
              "    <tr>\n",
              "      <th>3</th>\n",
              "      <td>37</td>\n",
              "      <td>reviews</td>\n",
              "    </tr>\n",
              "    <tr>\n",
              "      <th>4</th>\n",
              "      <td>103</td>\n",
              "      <td>reviews</td>\n",
              "    </tr>\n",
              "    <tr>\n",
              "      <th>...</th>\n",
              "      <td>...</td>\n",
              "      <td>...</td>\n",
              "    </tr>\n",
              "    <tr>\n",
              "      <th>295</th>\n",
              "      <td>11</td>\n",
              "      <td>reviews</td>\n",
              "    </tr>\n",
              "    <tr>\n",
              "      <th>296</th>\n",
              "      <td>227</td>\n",
              "      <td>reviews</td>\n",
              "    </tr>\n",
              "    <tr>\n",
              "      <th>297</th>\n",
              "      <td>97</td>\n",
              "      <td>reviews</td>\n",
              "    </tr>\n",
              "    <tr>\n",
              "      <th>298</th>\n",
              "      <td>NaN</td>\n",
              "      <td>NaN</td>\n",
              "    </tr>\n",
              "    <tr>\n",
              "      <th>299</th>\n",
              "      <td>103</td>\n",
              "      <td>reviews</td>\n",
              "    </tr>\n",
              "  </tbody>\n",
              "</table>\n",
              "<p>300 rows × 2 columns</p>\n",
              "</div>"
            ],
            "text/plain": [
              "       0        1\n",
              "0      5  reviews\n",
              "1     45  reviews\n",
              "2     10  reviews\n",
              "3     37  reviews\n",
              "4    103  reviews\n",
              "..   ...      ...\n",
              "295   11  reviews\n",
              "296  227  reviews\n",
              "297   97  reviews\n",
              "298  NaN      NaN\n",
              "299  103  reviews\n",
              "\n",
              "[300 rows x 2 columns]"
            ]
          },
          "metadata": {
            "tags": []
          },
          "execution_count": 15
        }
      ]
    },
    {
      "cell_type": "code",
      "metadata": {
        "id": "4mCtMfOBJJ3Z",
        "outputId": "57fe7e73-019a-4c37-8b74-d7b4a5b69493",
        "colab": {
          "base_uri": "https://localhost:8080/"
        }
      },
      "source": [
        "# take just the number of reviews\n",
        "df.h.str.split(expand=True)[0]"
      ],
      "execution_count": 16,
      "outputs": [
        {
          "output_type": "execute_result",
          "data": {
            "text/plain": [
              "0        5\n",
              "1       45\n",
              "2       10\n",
              "3       37\n",
              "4      103\n",
              "      ... \n",
              "295     11\n",
              "296    227\n",
              "297     97\n",
              "298    NaN\n",
              "299    103\n",
              "Name: 0, Length: 300, dtype: object"
            ]
          },
          "metadata": {
            "tags": []
          },
          "execution_count": 16
        }
      ]
    },
    {
      "cell_type": "code",
      "metadata": {
        "id": "ufJawCZvJJ3a",
        "outputId": "f7c45b5f-b73b-4722-9853-a3a40e8145d4",
        "colab": {
          "base_uri": "https://localhost:8080/"
        }
      },
      "source": [
        "import numpy as np\n",
        "\n",
        "# use numpy to make them float values\n",
        "df.h.str.split(expand=True)[0].astype(np.float)"
      ],
      "execution_count": 17,
      "outputs": [
        {
          "output_type": "execute_result",
          "data": {
            "text/plain": [
              "0        5.0\n",
              "1       45.0\n",
              "2       10.0\n",
              "3       37.0\n",
              "4      103.0\n",
              "       ...  \n",
              "295     11.0\n",
              "296    227.0\n",
              "297     97.0\n",
              "298      NaN\n",
              "299    103.0\n",
              "Name: 0, Length: 300, dtype: float64"
            ]
          },
          "metadata": {
            "tags": []
          },
          "execution_count": 17
        }
      ]
    },
    {
      "cell_type": "code",
      "metadata": {
        "id": "ocMsHzUoJJ3f",
        "outputId": "b0cbea77-8aea-40d2-a82e-ec5437e5e328",
        "colab": {
          "base_uri": "https://localhost:8080/",
          "height": 141
        }
      },
      "source": [
        "df['n_reviews'] = df.h.str.split(expand=True)[0].astype(np.float)\n",
        "\n",
        "# drop without inplace returns a dataframe, so overwrite the og\n",
        "df = df.drop('h', axis=1)\n",
        "\n",
        "df.sample(3)"
      ],
      "execution_count": 18,
      "outputs": [
        {
          "output_type": "execute_result",
          "data": {
            "text/html": [
              "<div>\n",
              "<style scoped>\n",
              "    .dataframe tbody tr th:only-of-type {\n",
              "        vertical-align: middle;\n",
              "    }\n",
              "\n",
              "    .dataframe tbody tr th {\n",
              "        vertical-align: top;\n",
              "    }\n",
              "\n",
              "    .dataframe thead th {\n",
              "        text-align: right;\n",
              "    }\n",
              "</style>\n",
              "<table border=\"1\" class=\"dataframe\">\n",
              "  <thead>\n",
              "    <tr style=\"text-align: right;\">\n",
              "      <th></th>\n",
              "      <th>a</th>\n",
              "      <th>b</th>\n",
              "      <th>d</th>\n",
              "      <th>e</th>\n",
              "      <th>f</th>\n",
              "      <th>g</th>\n",
              "      <th>type</th>\n",
              "      <th>location</th>\n",
              "      <th>n_reviews</th>\n",
              "    </tr>\n",
              "  </thead>\n",
              "  <tbody>\n",
              "    <tr>\n",
              "      <th>184</th>\n",
              "      <td>https://airbnb.com/rooms/45753078</td>\n",
              "      <td>La Casita - null - Las Vegas</td>\n",
              "      <td>3 guests · Studio · 1 bed · 1 bath</td>\n",
              "      <td>$71 / night</td>\n",
              "      <td>Wifi·Selfcheck-in·Airconditioning·Petsallowed</td>\n",
              "      <td>Rating 4.60 out of 5;4.605 reviews (5)</td>\n",
              "      <td>Entire guesthouse</td>\n",
              "      <td>Las Vegas</td>\n",
              "      <td>5.0</td>\n",
              "    </tr>\n",
              "    <tr>\n",
              "      <th>262</th>\n",
              "      <td>https://airbnb.com/rooms/43087901</td>\n",
              "      <td>Private/single room, Sharing bath, Near strip(...</td>\n",
              "      <td>2 guests · 1 bedroom · 1 bed · 2.5 shared baths</td>\n",
              "      <td>$21 / night</td>\n",
              "      <td>Wifi·Freeparking</td>\n",
              "      <td>NaN</td>\n",
              "      <td>Private room</td>\n",
              "      <td>Las Vegas</td>\n",
              "      <td>NaN</td>\n",
              "    </tr>\n",
              "    <tr>\n",
              "      <th>58</th>\n",
              "      <td>https://airbnb.com/rooms/46263193</td>\n",
              "      <td>Master bedroom in a new, CLEAN, safe home! - n...</td>\n",
              "      <td>1 guest · 1 bedroom · 1 bed · 1.5 baths</td>\n",
              "      <td>$29 / night</td>\n",
              "      <td>Wifi·Freeparking</td>\n",
              "      <td>NaN</td>\n",
              "      <td>Private room</td>\n",
              "      <td>Las Vegas</td>\n",
              "      <td>NaN</td>\n",
              "    </tr>\n",
              "  </tbody>\n",
              "</table>\n",
              "</div>"
            ],
            "text/plain": [
              "                                     a  ... n_reviews\n",
              "184  https://airbnb.com/rooms/45753078  ...       5.0\n",
              "262  https://airbnb.com/rooms/43087901  ...       NaN\n",
              "58   https://airbnb.com/rooms/46263193  ...       NaN\n",
              "\n",
              "[3 rows x 9 columns]"
            ]
          },
          "metadata": {
            "tags": []
          },
          "execution_count": 18
        }
      ]
    },
    {
      "cell_type": "markdown",
      "metadata": {
        "id": "ELWydknEJJ3l"
      },
      "source": [
        "#### Turn g into avg_rating"
      ]
    },
    {
      "cell_type": "code",
      "metadata": {
        "id": "eJ9Ml55eJJ3n",
        "outputId": "30a11f1e-7b1a-4ada-ebb5-38f4bc412164",
        "colab": {
          "base_uri": "https://localhost:8080/"
        }
      },
      "source": [
        "df['g']"
      ],
      "execution_count": 19,
      "outputs": [
        {
          "output_type": "execute_result",
          "data": {
            "text/plain": [
              "0          Rating 4.80 out of 5;4.805 reviews (5)\n",
              "1        Rating 4.91 out of 5;4.9145 reviews (45)\n",
              "2        Rating 4.90 out of 5;4.9010 reviews (10)\n",
              "3        Rating 4.92 out of 5;4.9237 reviews (37)\n",
              "4      Rating 4.75 out of 5;4.75103 reviews (103)\n",
              "                          ...                    \n",
              "295      Rating 4.73 out of 5;4.7311 reviews (11)\n",
              "296    Rating 4.56 out of 5;4.56227 reviews (227)\n",
              "297      Rating 4.81 out of 5;4.8197 reviews (97)\n",
              "298                                           NaN\n",
              "299    Rating 4.76 out of 5;4.76103 reviews (103)\n",
              "Name: g, Length: 300, dtype: object"
            ]
          },
          "metadata": {
            "tags": []
          },
          "execution_count": 19
        }
      ]
    },
    {
      "cell_type": "code",
      "metadata": {
        "id": "B-cVn2avJJ3t",
        "outputId": "31662b66-828a-4db0-ea58-f28f40340c34",
        "colab": {
          "base_uri": "https://localhost:8080/",
          "height": 416
        }
      },
      "source": [
        "df['g'].str.split(';', expand=True)"
      ],
      "execution_count": 20,
      "outputs": [
        {
          "output_type": "execute_result",
          "data": {
            "text/html": [
              "<div>\n",
              "<style scoped>\n",
              "    .dataframe tbody tr th:only-of-type {\n",
              "        vertical-align: middle;\n",
              "    }\n",
              "\n",
              "    .dataframe tbody tr th {\n",
              "        vertical-align: top;\n",
              "    }\n",
              "\n",
              "    .dataframe thead th {\n",
              "        text-align: right;\n",
              "    }\n",
              "</style>\n",
              "<table border=\"1\" class=\"dataframe\">\n",
              "  <thead>\n",
              "    <tr style=\"text-align: right;\">\n",
              "      <th></th>\n",
              "      <th>0</th>\n",
              "      <th>1</th>\n",
              "    </tr>\n",
              "  </thead>\n",
              "  <tbody>\n",
              "    <tr>\n",
              "      <th>0</th>\n",
              "      <td>Rating 4.80 out of 5</td>\n",
              "      <td>4.805 reviews (5)</td>\n",
              "    </tr>\n",
              "    <tr>\n",
              "      <th>1</th>\n",
              "      <td>Rating 4.91 out of 5</td>\n",
              "      <td>4.9145 reviews (45)</td>\n",
              "    </tr>\n",
              "    <tr>\n",
              "      <th>2</th>\n",
              "      <td>Rating 4.90 out of 5</td>\n",
              "      <td>4.9010 reviews (10)</td>\n",
              "    </tr>\n",
              "    <tr>\n",
              "      <th>3</th>\n",
              "      <td>Rating 4.92 out of 5</td>\n",
              "      <td>4.9237 reviews (37)</td>\n",
              "    </tr>\n",
              "    <tr>\n",
              "      <th>4</th>\n",
              "      <td>Rating 4.75 out of 5</td>\n",
              "      <td>4.75103 reviews (103)</td>\n",
              "    </tr>\n",
              "    <tr>\n",
              "      <th>...</th>\n",
              "      <td>...</td>\n",
              "      <td>...</td>\n",
              "    </tr>\n",
              "    <tr>\n",
              "      <th>295</th>\n",
              "      <td>Rating 4.73 out of 5</td>\n",
              "      <td>4.7311 reviews (11)</td>\n",
              "    </tr>\n",
              "    <tr>\n",
              "      <th>296</th>\n",
              "      <td>Rating 4.56 out of 5</td>\n",
              "      <td>4.56227 reviews (227)</td>\n",
              "    </tr>\n",
              "    <tr>\n",
              "      <th>297</th>\n",
              "      <td>Rating 4.81 out of 5</td>\n",
              "      <td>4.8197 reviews (97)</td>\n",
              "    </tr>\n",
              "    <tr>\n",
              "      <th>298</th>\n",
              "      <td>NaN</td>\n",
              "      <td>NaN</td>\n",
              "    </tr>\n",
              "    <tr>\n",
              "      <th>299</th>\n",
              "      <td>Rating 4.76 out of 5</td>\n",
              "      <td>4.76103 reviews (103)</td>\n",
              "    </tr>\n",
              "  </tbody>\n",
              "</table>\n",
              "<p>300 rows × 2 columns</p>\n",
              "</div>"
            ],
            "text/plain": [
              "                        0                      1\n",
              "0    Rating 4.80 out of 5      4.805 reviews (5)\n",
              "1    Rating 4.91 out of 5    4.9145 reviews (45)\n",
              "2    Rating 4.90 out of 5    4.9010 reviews (10)\n",
              "3    Rating 4.92 out of 5    4.9237 reviews (37)\n",
              "4    Rating 4.75 out of 5  4.75103 reviews (103)\n",
              "..                    ...                    ...\n",
              "295  Rating 4.73 out of 5    4.7311 reviews (11)\n",
              "296  Rating 4.56 out of 5  4.56227 reviews (227)\n",
              "297  Rating 4.81 out of 5    4.8197 reviews (97)\n",
              "298                   NaN                    NaN\n",
              "299  Rating 4.76 out of 5  4.76103 reviews (103)\n",
              "\n",
              "[300 rows x 2 columns]"
            ]
          },
          "metadata": {
            "tags": []
          },
          "execution_count": 20
        }
      ]
    },
    {
      "cell_type": "code",
      "metadata": {
        "id": "jKsYWVF2JJ3w",
        "outputId": "ccc034fc-804b-4a01-cf8e-555888ff5862",
        "colab": {
          "base_uri": "https://localhost:8080/"
        }
      },
      "source": [
        "# take the right side because the number is longer\n",
        "df['g'].str.split(';', expand=True)[1]"
      ],
      "execution_count": 21,
      "outputs": [
        {
          "output_type": "execute_result",
          "data": {
            "text/plain": [
              "0          4.805 reviews (5)\n",
              "1        4.9145 reviews (45)\n",
              "2        4.9010 reviews (10)\n",
              "3        4.9237 reviews (37)\n",
              "4      4.75103 reviews (103)\n",
              "               ...          \n",
              "295      4.7311 reviews (11)\n",
              "296    4.56227 reviews (227)\n",
              "297      4.8197 reviews (97)\n",
              "298                      NaN\n",
              "299    4.76103 reviews (103)\n",
              "Name: 1, Length: 300, dtype: object"
            ]
          },
          "metadata": {
            "tags": []
          },
          "execution_count": 21
        }
      ]
    },
    {
      "cell_type": "code",
      "metadata": {
        "id": "38Hs4hovJJ30",
        "outputId": "5277af85-0c1b-45f2-dd0d-32bd605b6586",
        "colab": {
          "base_uri": "https://localhost:8080/",
          "height": 416
        }
      },
      "source": [
        "df['g'].str.split(';', expand=True)[1].str.split(expand=True)"
      ],
      "execution_count": 22,
      "outputs": [
        {
          "output_type": "execute_result",
          "data": {
            "text/html": [
              "<div>\n",
              "<style scoped>\n",
              "    .dataframe tbody tr th:only-of-type {\n",
              "        vertical-align: middle;\n",
              "    }\n",
              "\n",
              "    .dataframe tbody tr th {\n",
              "        vertical-align: top;\n",
              "    }\n",
              "\n",
              "    .dataframe thead th {\n",
              "        text-align: right;\n",
              "    }\n",
              "</style>\n",
              "<table border=\"1\" class=\"dataframe\">\n",
              "  <thead>\n",
              "    <tr style=\"text-align: right;\">\n",
              "      <th></th>\n",
              "      <th>0</th>\n",
              "      <th>1</th>\n",
              "      <th>2</th>\n",
              "    </tr>\n",
              "  </thead>\n",
              "  <tbody>\n",
              "    <tr>\n",
              "      <th>0</th>\n",
              "      <td>4.805</td>\n",
              "      <td>reviews</td>\n",
              "      <td>(5)</td>\n",
              "    </tr>\n",
              "    <tr>\n",
              "      <th>1</th>\n",
              "      <td>4.9145</td>\n",
              "      <td>reviews</td>\n",
              "      <td>(45)</td>\n",
              "    </tr>\n",
              "    <tr>\n",
              "      <th>2</th>\n",
              "      <td>4.9010</td>\n",
              "      <td>reviews</td>\n",
              "      <td>(10)</td>\n",
              "    </tr>\n",
              "    <tr>\n",
              "      <th>3</th>\n",
              "      <td>4.9237</td>\n",
              "      <td>reviews</td>\n",
              "      <td>(37)</td>\n",
              "    </tr>\n",
              "    <tr>\n",
              "      <th>4</th>\n",
              "      <td>4.75103</td>\n",
              "      <td>reviews</td>\n",
              "      <td>(103)</td>\n",
              "    </tr>\n",
              "    <tr>\n",
              "      <th>...</th>\n",
              "      <td>...</td>\n",
              "      <td>...</td>\n",
              "      <td>...</td>\n",
              "    </tr>\n",
              "    <tr>\n",
              "      <th>295</th>\n",
              "      <td>4.7311</td>\n",
              "      <td>reviews</td>\n",
              "      <td>(11)</td>\n",
              "    </tr>\n",
              "    <tr>\n",
              "      <th>296</th>\n",
              "      <td>4.56227</td>\n",
              "      <td>reviews</td>\n",
              "      <td>(227)</td>\n",
              "    </tr>\n",
              "    <tr>\n",
              "      <th>297</th>\n",
              "      <td>4.8197</td>\n",
              "      <td>reviews</td>\n",
              "      <td>(97)</td>\n",
              "    </tr>\n",
              "    <tr>\n",
              "      <th>298</th>\n",
              "      <td>NaN</td>\n",
              "      <td>NaN</td>\n",
              "      <td>NaN</td>\n",
              "    </tr>\n",
              "    <tr>\n",
              "      <th>299</th>\n",
              "      <td>4.76103</td>\n",
              "      <td>reviews</td>\n",
              "      <td>(103)</td>\n",
              "    </tr>\n",
              "  </tbody>\n",
              "</table>\n",
              "<p>300 rows × 3 columns</p>\n",
              "</div>"
            ],
            "text/plain": [
              "           0        1      2\n",
              "0      4.805  reviews    (5)\n",
              "1     4.9145  reviews   (45)\n",
              "2     4.9010  reviews   (10)\n",
              "3     4.9237  reviews   (37)\n",
              "4    4.75103  reviews  (103)\n",
              "..       ...      ...    ...\n",
              "295   4.7311  reviews   (11)\n",
              "296  4.56227  reviews  (227)\n",
              "297   4.8197  reviews   (97)\n",
              "298      NaN      NaN    NaN\n",
              "299  4.76103  reviews  (103)\n",
              "\n",
              "[300 rows x 3 columns]"
            ]
          },
          "metadata": {
            "tags": []
          },
          "execution_count": 22
        }
      ]
    },
    {
      "cell_type": "code",
      "metadata": {
        "id": "ZHmzJjzkJJ33",
        "outputId": "911a829c-0bd0-4d87-8456-bed81e8f9d57",
        "colab": {
          "base_uri": "https://localhost:8080/"
        }
      },
      "source": [
        "df['g'].str.split(';', expand=True)[1].str.split(expand=True)[0]"
      ],
      "execution_count": 23,
      "outputs": [
        {
          "output_type": "execute_result",
          "data": {
            "text/plain": [
              "0        4.805\n",
              "1       4.9145\n",
              "2       4.9010\n",
              "3       4.9237\n",
              "4      4.75103\n",
              "        ...   \n",
              "295     4.7311\n",
              "296    4.56227\n",
              "297     4.8197\n",
              "298        NaN\n",
              "299    4.76103\n",
              "Name: 0, Length: 300, dtype: object"
            ]
          },
          "metadata": {
            "tags": []
          },
          "execution_count": 23
        }
      ]
    },
    {
      "cell_type": "code",
      "metadata": {
        "id": "01M2i-HvJJ34",
        "outputId": "73ef5dc1-a950-41fa-cc06-6634ef372dde",
        "colab": {
          "base_uri": "https://localhost:8080/"
        }
      },
      "source": [
        "df['g'].str.split(';', expand=True)[1].str.split(expand=True)[0].astype(np.float32)"
      ],
      "execution_count": 24,
      "outputs": [
        {
          "output_type": "execute_result",
          "data": {
            "text/plain": [
              "0      4.80500\n",
              "1      4.91450\n",
              "2      4.90100\n",
              "3      4.92370\n",
              "4      4.75103\n",
              "        ...   \n",
              "295    4.73110\n",
              "296    4.56227\n",
              "297    4.81970\n",
              "298        NaN\n",
              "299    4.76103\n",
              "Name: 0, Length: 300, dtype: float32"
            ]
          },
          "metadata": {
            "tags": []
          },
          "execution_count": 24
        }
      ]
    },
    {
      "cell_type": "code",
      "metadata": {
        "id": "MERU1iOwJJ35",
        "outputId": "ae5184fc-f2c5-4ff7-e680-f0accbf02538",
        "colab": {
          "base_uri": "https://localhost:8080/",
          "height": 141
        }
      },
      "source": [
        "# make the avg_rating\n",
        "df['avg_rating'] = df['g'].str.split(';', expand=True)[1].str.split(expand=True)[0].astype(np.float32)\n",
        "\n",
        "# forget the column it came from\n",
        "df.drop('g', axis=1, inplace=True)\n",
        "\n",
        "# show me a bit of the data\n",
        "df.sample(3)"
      ],
      "execution_count": 25,
      "outputs": [
        {
          "output_type": "execute_result",
          "data": {
            "text/html": [
              "<div>\n",
              "<style scoped>\n",
              "    .dataframe tbody tr th:only-of-type {\n",
              "        vertical-align: middle;\n",
              "    }\n",
              "\n",
              "    .dataframe tbody tr th {\n",
              "        vertical-align: top;\n",
              "    }\n",
              "\n",
              "    .dataframe thead th {\n",
              "        text-align: right;\n",
              "    }\n",
              "</style>\n",
              "<table border=\"1\" class=\"dataframe\">\n",
              "  <thead>\n",
              "    <tr style=\"text-align: right;\">\n",
              "      <th></th>\n",
              "      <th>a</th>\n",
              "      <th>b</th>\n",
              "      <th>d</th>\n",
              "      <th>e</th>\n",
              "      <th>f</th>\n",
              "      <th>type</th>\n",
              "      <th>location</th>\n",
              "      <th>n_reviews</th>\n",
              "      <th>avg_rating</th>\n",
              "    </tr>\n",
              "  </thead>\n",
              "  <tbody>\n",
              "    <tr>\n",
              "      <th>129</th>\n",
              "      <td>https://airbnb.com/rooms/39168993</td>\n",
              "      <td>Nasalga's Place, room #2 - null - Las Vegas</td>\n",
              "      <td>2 guests · 1 bedroom · 1 bed · 1 private bath</td>\n",
              "      <td>$25 / night</td>\n",
              "      <td>Wifi·Airconditioning·Pool·Kitchen</td>\n",
              "      <td>Private room</td>\n",
              "      <td>Las Vegas</td>\n",
              "      <td>33.0</td>\n",
              "      <td>4.8733</td>\n",
              "    </tr>\n",
              "    <tr>\n",
              "      <th>265</th>\n",
              "      <td>https://airbnb.com/rooms/46475048</td>\n",
              "      <td>A place of your own | Studio in Las Vegas - nu...</td>\n",
              "      <td>1 guest · Studio · 1 bed · 1 bath</td>\n",
              "      <td>$87 / night</td>\n",
              "      <td>Pool·Wifi</td>\n",
              "      <td>Entire serviced apartment</td>\n",
              "      <td>Las Vegas</td>\n",
              "      <td>NaN</td>\n",
              "      <td>NaN</td>\n",
              "    </tr>\n",
              "    <tr>\n",
              "      <th>179</th>\n",
              "      <td>https://airbnb.com/rooms/14383804</td>\n",
              "      <td>SALT WATER POOL * MID CENTURY LUXE * SLEEPS 6 ...</td>\n",
              "      <td>6 guests · 3 bedrooms · 4 beds · 2 baths</td>\n",
              "      <td>$117 / night</td>\n",
              "      <td>Wifi·Selfcheck-in·Airconditioning·Petsallowed</td>\n",
              "      <td>Entire house</td>\n",
              "      <td>Las Vegas</td>\n",
              "      <td>55.0</td>\n",
              "      <td>4.9455</td>\n",
              "    </tr>\n",
              "  </tbody>\n",
              "</table>\n",
              "</div>"
            ],
            "text/plain": [
              "                                     a  ... avg_rating\n",
              "129  https://airbnb.com/rooms/39168993  ...     4.8733\n",
              "265  https://airbnb.com/rooms/46475048  ...        NaN\n",
              "179  https://airbnb.com/rooms/14383804  ...     4.9455\n",
              "\n",
              "[3 rows x 9 columns]"
            ]
          },
          "metadata": {
            "tags": []
          },
          "execution_count": 25
        }
      ]
    },
    {
      "cell_type": "code",
      "metadata": {
        "id": "gLs10A6oJJ39",
        "outputId": "0b345906-f54f-45c2-f457-c392b63844dd",
        "colab": {
          "base_uri": "https://localhost:8080/"
        }
      },
      "source": [
        "# are they all 4.902? \n",
        "df.avg_rating.unique()"
      ],
      "execution_count": 26,
      "outputs": [
        {
          "output_type": "execute_result",
          "data": {
            "text/plain": [
              "array([4.805  , 4.9145 , 4.901  , 4.9237 , 4.75103, 5.04   , 4.93176,\n",
              "       4.7431 , 4.74152, 4.9416 , 4.9626 , 4.8513 , 5.019  , 5.07   ,\n",
              "       4.9111 ,     nan, 4.8733 , 4.5522 , 4.81409, 4.94172, 4.89164,\n",
              "       4.90183, 4.852  , 4.8457 , 4.8271 , 4.867  , 4.4992 , 4.6316 ,\n",
              "       4.7246 , 4.82103, 4.96104, 4.70183, 4.33168, 5.011  , 4.80399,\n",
              "       5.03   , 4.91363, 4.6488 , 4.676  , 4.03   , 4.9455 , 5.09   ,\n",
              "       4.5538 , 4.9155 , 4.4896 , 5.029  , 4.8962 , 4.801  , 4.9522 ,\n",
              "       3.336  , 5.05   , 4.95113, 4.836  , 4.8928 , 4.4821 , 4.86392,\n",
              "       4.577  , 4.9213 , 4.388  , 4.6713 , 4.63165, 4.72177, 4.56546,\n",
              "       4.5549 , 4.673  , 4.9272 , 4.5413 , 4.8313 , 4.9166 , 4.333  ,\n",
              "       4.77146, 4.8244 , 4.73146, 4.437  , 4.015  , 4.8148 , 4.72286,\n",
              "       4.83162, 4.7929 , 4.18182, 5.024  , 4.8348 , 4.63209, 4.9135 ,\n",
              "       4.54198, 4.1119 , 4.902  , 4.6496 , 4.7879 , 4.7754 , 5.06   ,\n",
              "       4.90101, 4.605  , 5.016  , 4.3271 , 4.6365 , 4.96328, 5.031  ,\n",
              "       4.8015 , 4.82247, 4.9251 , 4.9327 , 4.8238 , 4.701  , 3.805  ,\n",
              "       4.3165 , 4.53244, 4.8312 , 4.7649 , 4.504  , 4.51285, 4.254  ,\n",
              "       4.3938 , 4.74123, 5.041  , 4.7294 , 4.3711 , 4.75106, 4.4717 ,\n",
              "       4.62218, 4.71173, 4.508  , 4.7311 , 4.5018 , 4.88437, 4.603  ,\n",
              "       4.9526 , 4.2917 , 5.013  , 4.9541 , 4.899  , 4.7713 , 4.55144,\n",
              "       4.9031 , 4.55104, 4.56227, 4.8197 , 4.76103], dtype=float32)"
            ]
          },
          "metadata": {
            "tags": []
          },
          "execution_count": 26
        }
      ]
    },
    {
      "cell_type": "markdown",
      "metadata": {
        "id": "dytCOZsIJJ3-"
      },
      "source": [
        "#### Turn a into url"
      ]
    },
    {
      "cell_type": "code",
      "metadata": {
        "id": "NiFyM2giJJ4A",
        "outputId": "05e2daba-946f-477d-aad8-038c104ddfc7",
        "colab": {
          "base_uri": "https://localhost:8080/",
          "height": 141
        }
      },
      "source": [
        "df['url'] = df['a']\n",
        "\n",
        "df.sample(3)"
      ],
      "execution_count": 27,
      "outputs": [
        {
          "output_type": "execute_result",
          "data": {
            "text/html": [
              "<div>\n",
              "<style scoped>\n",
              "    .dataframe tbody tr th:only-of-type {\n",
              "        vertical-align: middle;\n",
              "    }\n",
              "\n",
              "    .dataframe tbody tr th {\n",
              "        vertical-align: top;\n",
              "    }\n",
              "\n",
              "    .dataframe thead th {\n",
              "        text-align: right;\n",
              "    }\n",
              "</style>\n",
              "<table border=\"1\" class=\"dataframe\">\n",
              "  <thead>\n",
              "    <tr style=\"text-align: right;\">\n",
              "      <th></th>\n",
              "      <th>a</th>\n",
              "      <th>b</th>\n",
              "      <th>d</th>\n",
              "      <th>e</th>\n",
              "      <th>f</th>\n",
              "      <th>type</th>\n",
              "      <th>location</th>\n",
              "      <th>n_reviews</th>\n",
              "      <th>avg_rating</th>\n",
              "      <th>url</th>\n",
              "    </tr>\n",
              "  </thead>\n",
              "  <tbody>\n",
              "    <tr>\n",
              "      <th>238</th>\n",
              "      <td>https://airbnb.com/rooms/46755027</td>\n",
              "      <td>All-inclusive apartment home | 2BR in Henderso...</td>\n",
              "      <td>5 guests · 2 bedrooms · 2 beds · 2 baths</td>\n",
              "      <td>$105 / night</td>\n",
              "      <td>Pool·Wifi</td>\n",
              "      <td>Entire serviced apartment</td>\n",
              "      <td>Henderson</td>\n",
              "      <td>NaN</td>\n",
              "      <td>NaN</td>\n",
              "      <td>https://airbnb.com/rooms/46755027</td>\n",
              "    </tr>\n",
              "    <tr>\n",
              "      <th>168</th>\n",
              "      <td>https://airbnb.com/rooms/44450374</td>\n",
              "      <td>Executive Suite - null - Las Vegas</td>\n",
              "      <td>2 guests · 1 bedroom · 1 bed · 1 bath</td>\n",
              "      <td>$50 / night</td>\n",
              "      <td>Gym·Breakfast·Wifi·Airconditioning</td>\n",
              "      <td>Entire condominium</td>\n",
              "      <td>Las Vegas</td>\n",
              "      <td>20.0</td>\n",
              "      <td>4.902</td>\n",
              "      <td>https://airbnb.com/rooms/44450374</td>\n",
              "    </tr>\n",
              "    <tr>\n",
              "      <th>16</th>\n",
              "      <td>https://airbnb.com/rooms/37003280</td>\n",
              "      <td>Comfy Room in a Great House. Close to Downtown...</td>\n",
              "      <td>2 guests · 1 bedroom · 1 bed · 1 shared bath</td>\n",
              "      <td>$23 / night</td>\n",
              "      <td>Wifi·Airconditioning·Pool·Kitchen</td>\n",
              "      <td>Private room</td>\n",
              "      <td>Las Vegas</td>\n",
              "      <td>NaN</td>\n",
              "      <td>NaN</td>\n",
              "      <td>https://airbnb.com/rooms/37003280</td>\n",
              "    </tr>\n",
              "  </tbody>\n",
              "</table>\n",
              "</div>"
            ],
            "text/plain": [
              "                                     a  ...                                url\n",
              "238  https://airbnb.com/rooms/46755027  ...  https://airbnb.com/rooms/46755027\n",
              "168  https://airbnb.com/rooms/44450374  ...  https://airbnb.com/rooms/44450374\n",
              "16   https://airbnb.com/rooms/37003280  ...  https://airbnb.com/rooms/37003280\n",
              "\n",
              "[3 rows x 10 columns]"
            ]
          },
          "metadata": {
            "tags": []
          },
          "execution_count": 27
        }
      ]
    },
    {
      "cell_type": "code",
      "metadata": {
        "id": "DyKkexEbJJ4B"
      },
      "source": [
        "df.drop('url', axis=1, inplace=True)"
      ],
      "execution_count": 28,
      "outputs": []
    },
    {
      "cell_type": "markdown",
      "metadata": {
        "id": "9QURtmNUJJ4E"
      },
      "source": [
        "Or try [.rename()](https://pandas.pydata.org/pandas-docs/stable/reference/api/pandas.DataFrame.rename.html)"
      ]
    },
    {
      "cell_type": "code",
      "metadata": {
        "id": "OlLuW-r1JJ4G",
        "outputId": "cae527d9-bf61-4c28-b3cd-8210650d0199",
        "colab": {
          "base_uri": "https://localhost:8080/",
          "height": 141
        }
      },
      "source": [
        "# first argument of .rename() is mapper which should be a dict\n",
        "df = df.rename({'a':'url'}, axis=1)  # you could turn on inplace=True for this\n",
        "\n",
        "df.sample(3)"
      ],
      "execution_count": 29,
      "outputs": [
        {
          "output_type": "execute_result",
          "data": {
            "text/html": [
              "<div>\n",
              "<style scoped>\n",
              "    .dataframe tbody tr th:only-of-type {\n",
              "        vertical-align: middle;\n",
              "    }\n",
              "\n",
              "    .dataframe tbody tr th {\n",
              "        vertical-align: top;\n",
              "    }\n",
              "\n",
              "    .dataframe thead th {\n",
              "        text-align: right;\n",
              "    }\n",
              "</style>\n",
              "<table border=\"1\" class=\"dataframe\">\n",
              "  <thead>\n",
              "    <tr style=\"text-align: right;\">\n",
              "      <th></th>\n",
              "      <th>url</th>\n",
              "      <th>b</th>\n",
              "      <th>d</th>\n",
              "      <th>e</th>\n",
              "      <th>f</th>\n",
              "      <th>type</th>\n",
              "      <th>location</th>\n",
              "      <th>n_reviews</th>\n",
              "      <th>avg_rating</th>\n",
              "    </tr>\n",
              "  </thead>\n",
              "  <tbody>\n",
              "    <tr>\n",
              "      <th>95</th>\n",
              "      <td>https://airbnb.com/rooms/43060255</td>\n",
              "      <td>The Bonnie, a Bed and Bay Inn (31 days min) - ...</td>\n",
              "      <td>6 guests · 3 bedrooms · 4 beds · 2 baths</td>\n",
              "      <td>$130 / night</td>\n",
              "      <td>Wifi·Selfcheck-in·Airconditioning·Petsallowed</td>\n",
              "      <td>Entire house</td>\n",
              "      <td>Las Vegas</td>\n",
              "      <td>NaN</td>\n",
              "      <td>NaN</td>\n",
              "    </tr>\n",
              "    <tr>\n",
              "      <th>261</th>\n",
              "      <td>https://airbnb.com/rooms/46462113</td>\n",
              "      <td>Convenient Room 6 - null - Las Vegas</td>\n",
              "      <td>2 guests · 1 bedroom · 0 beds · 0 shared baths</td>\n",
              "      <td>$25 / night</td>\n",
              "      <td>Wifi·Freeparking</td>\n",
              "      <td>Private room</td>\n",
              "      <td>Las Vegas</td>\n",
              "      <td>NaN</td>\n",
              "      <td>NaN</td>\n",
              "    </tr>\n",
              "    <tr>\n",
              "      <th>6</th>\n",
              "      <td>https://airbnb.com/rooms/33911967</td>\n",
              "      <td>suite, private, economical and comfortable - n...</td>\n",
              "      <td>2 guests · 1 bedroom · 1 bed · 1 bath</td>\n",
              "      <td>$61 / night</td>\n",
              "      <td>Wifi·Airconditioning·Kitchen·Freeparking</td>\n",
              "      <td>Entire guest suite</td>\n",
              "      <td>Las Vegas</td>\n",
              "      <td>176.0</td>\n",
              "      <td>4.93176</td>\n",
              "    </tr>\n",
              "  </tbody>\n",
              "</table>\n",
              "</div>"
            ],
            "text/plain": [
              "                                   url  ... avg_rating\n",
              "95   https://airbnb.com/rooms/43060255  ...        NaN\n",
              "261  https://airbnb.com/rooms/46462113  ...        NaN\n",
              "6    https://airbnb.com/rooms/33911967  ...    4.93176\n",
              "\n",
              "[3 rows x 9 columns]"
            ]
          },
          "metadata": {
            "tags": []
          },
          "execution_count": 29
        }
      ]
    },
    {
      "cell_type": "markdown",
      "metadata": {
        "id": "Peb-z-REJJ4H"
      },
      "source": [
        "#### Turning b into title"
      ]
    },
    {
      "cell_type": "code",
      "metadata": {
        "id": "3yfj7PqYJJ4I",
        "outputId": "e73d2bdc-1527-4b2c-d4df-2e8d866a647a",
        "colab": {
          "base_uri": "https://localhost:8080/"
        }
      },
      "source": [
        "df.b"
      ],
      "execution_count": 30,
      "outputs": [
        {
          "output_type": "execute_result",
          "data": {
            "text/plain": [
              "0      Great Room in a House close to the strip - nul...\n",
              "1      Cozy Studio with Private Entrance - null - Las...\n",
              "2      Upstairs bedroom and private bath in Large Hou...\n",
              "3                           Eggeman 8 - null - Las Vegas\n",
              "4      19H#Safe,Gated,Apt,W/Kitchn&Bath,StdioFor2,Old...\n",
              "                             ...                        \n",
              "295    Comfort done with style,  $1799 per month - nu...\n",
              "296    Corner 1bdrm  Posh  Luxury Condo Palms Kitchen...\n",
              "297    Paradise in Las Vegas (near  to the airport) -...\n",
              "298          #2 cozy room near strip - null - Las Vegas \n",
              "299    P 58 Penthouse w/Jacuzzi on Balcony | Sleeps 6...\n",
              "Name: b, Length: 300, dtype: object"
            ]
          },
          "metadata": {
            "tags": []
          },
          "execution_count": 30
        }
      ]
    },
    {
      "cell_type": "code",
      "metadata": {
        "id": "3VwEcIupJJ4b",
        "outputId": "040bbd3c-9163-4ff2-fac0-6c92363d1650",
        "colab": {
          "base_uri": "https://localhost:8080/"
        }
      },
      "source": [
        "# split of the - null - \n",
        "df.b.str.split(' - null - ')"
      ],
      "execution_count": 31,
      "outputs": [
        {
          "output_type": "execute_result",
          "data": {
            "text/plain": [
              "0      [Great Room in a House close to the strip, Las...\n",
              "1         [Cozy Studio with Private Entrance, Las Vegas]\n",
              "2      [Upstairs bedroom and private bath in Large Ho...\n",
              "3                                 [Eggeman 8, Las Vegas]\n",
              "4      [19H#Safe,Gated,Apt,W/Kitchn&Bath,StdioFor2,Ol...\n",
              "                             ...                        \n",
              "295    [Comfort done with style,  $1799 per month, La...\n",
              "296    [Corner 1bdrm  Posh  Luxury Condo Palms Kitche...\n",
              "297    [Paradise in Las Vegas (near  to the airport),...\n",
              "298                [#2 cozy room near strip, Las Vegas ]\n",
              "299    [P 58 Penthouse w/Jacuzzi on Balcony | Sleeps ...\n",
              "Name: b, Length: 300, dtype: object"
            ]
          },
          "metadata": {
            "tags": []
          },
          "execution_count": 31
        }
      ]
    },
    {
      "cell_type": "code",
      "metadata": {
        "id": "RiEUEMIjJJ4d",
        "outputId": "70a788df-fa27-48ad-ad7d-9dd044e3479c",
        "colab": {
          "base_uri": "https://localhost:8080/",
          "height": 416
        }
      },
      "source": [
        "df.b.str.split(' - null - ', expand=True)"
      ],
      "execution_count": 32,
      "outputs": [
        {
          "output_type": "execute_result",
          "data": {
            "text/html": [
              "<div>\n",
              "<style scoped>\n",
              "    .dataframe tbody tr th:only-of-type {\n",
              "        vertical-align: middle;\n",
              "    }\n",
              "\n",
              "    .dataframe tbody tr th {\n",
              "        vertical-align: top;\n",
              "    }\n",
              "\n",
              "    .dataframe thead th {\n",
              "        text-align: right;\n",
              "    }\n",
              "</style>\n",
              "<table border=\"1\" class=\"dataframe\">\n",
              "  <thead>\n",
              "    <tr style=\"text-align: right;\">\n",
              "      <th></th>\n",
              "      <th>0</th>\n",
              "      <th>1</th>\n",
              "    </tr>\n",
              "  </thead>\n",
              "  <tbody>\n",
              "    <tr>\n",
              "      <th>0</th>\n",
              "      <td>Great Room in a House close to the strip</td>\n",
              "      <td>Las Vegas</td>\n",
              "    </tr>\n",
              "    <tr>\n",
              "      <th>1</th>\n",
              "      <td>Cozy Studio with Private Entrance</td>\n",
              "      <td>Las Vegas</td>\n",
              "    </tr>\n",
              "    <tr>\n",
              "      <th>2</th>\n",
              "      <td>Upstairs bedroom and private bath in Large House</td>\n",
              "      <td>Las Vegas</td>\n",
              "    </tr>\n",
              "    <tr>\n",
              "      <th>3</th>\n",
              "      <td>Eggeman 8</td>\n",
              "      <td>Las Vegas</td>\n",
              "    </tr>\n",
              "    <tr>\n",
              "      <th>4</th>\n",
              "      <td>19H#Safe,Gated,Apt,W/Kitchn&amp;Bath,StdioFor2,Old...</td>\n",
              "      <td>Las Vegas</td>\n",
              "    </tr>\n",
              "    <tr>\n",
              "      <th>...</th>\n",
              "      <td>...</td>\n",
              "      <td>...</td>\n",
              "    </tr>\n",
              "    <tr>\n",
              "      <th>295</th>\n",
              "      <td>Comfort done with style,  $1799 per month</td>\n",
              "      <td>Las Vegas</td>\n",
              "    </tr>\n",
              "    <tr>\n",
              "      <th>296</th>\n",
              "      <td>Corner 1bdrm  Posh  Luxury Condo Palms Kitchen U</td>\n",
              "      <td>Las Vegas</td>\n",
              "    </tr>\n",
              "    <tr>\n",
              "      <th>297</th>\n",
              "      <td>Paradise in Las Vegas (near  to the airport)</td>\n",
              "      <td>Las Vegas</td>\n",
              "    </tr>\n",
              "    <tr>\n",
              "      <th>298</th>\n",
              "      <td>#2 cozy room near strip</td>\n",
              "      <td>Las Vegas</td>\n",
              "    </tr>\n",
              "    <tr>\n",
              "      <th>299</th>\n",
              "      <td>P 58 Penthouse w/Jacuzzi on Balcony | Sleeps 6</td>\n",
              "      <td>Las Vegas</td>\n",
              "    </tr>\n",
              "  </tbody>\n",
              "</table>\n",
              "<p>300 rows × 2 columns</p>\n",
              "</div>"
            ],
            "text/plain": [
              "                                                     0           1\n",
              "0             Great Room in a House close to the strip   Las Vegas\n",
              "1                    Cozy Studio with Private Entrance   Las Vegas\n",
              "2     Upstairs bedroom and private bath in Large House   Las Vegas\n",
              "3                                            Eggeman 8   Las Vegas\n",
              "4    19H#Safe,Gated,Apt,W/Kitchn&Bath,StdioFor2,Old...   Las Vegas\n",
              "..                                                 ...         ...\n",
              "295          Comfort done with style,  $1799 per month   Las Vegas\n",
              "296   Corner 1bdrm  Posh  Luxury Condo Palms Kitchen U   Las Vegas\n",
              "297       Paradise in Las Vegas (near  to the airport)   Las Vegas\n",
              "298                            #2 cozy room near strip  Las Vegas \n",
              "299     P 58 Penthouse w/Jacuzzi on Balcony | Sleeps 6   Las Vegas\n",
              "\n",
              "[300 rows x 2 columns]"
            ]
          },
          "metadata": {
            "tags": []
          },
          "execution_count": 32
        }
      ]
    },
    {
      "cell_type": "code",
      "metadata": {
        "id": "NTypFQDzJJ4e",
        "outputId": "db00835c-569d-4065-9fcb-fec1a20cd94f",
        "colab": {
          "base_uri": "https://localhost:8080/",
          "height": 416
        }
      },
      "source": [
        "# another way to rename columns\n",
        "thing = df.b.str.split(' - null - ', expand=True)\n",
        "\n",
        "thing.columns = ['title', 'location']\n",
        "\n",
        "thing"
      ],
      "execution_count": 33,
      "outputs": [
        {
          "output_type": "execute_result",
          "data": {
            "text/html": [
              "<div>\n",
              "<style scoped>\n",
              "    .dataframe tbody tr th:only-of-type {\n",
              "        vertical-align: middle;\n",
              "    }\n",
              "\n",
              "    .dataframe tbody tr th {\n",
              "        vertical-align: top;\n",
              "    }\n",
              "\n",
              "    .dataframe thead th {\n",
              "        text-align: right;\n",
              "    }\n",
              "</style>\n",
              "<table border=\"1\" class=\"dataframe\">\n",
              "  <thead>\n",
              "    <tr style=\"text-align: right;\">\n",
              "      <th></th>\n",
              "      <th>title</th>\n",
              "      <th>location</th>\n",
              "    </tr>\n",
              "  </thead>\n",
              "  <tbody>\n",
              "    <tr>\n",
              "      <th>0</th>\n",
              "      <td>Great Room in a House close to the strip</td>\n",
              "      <td>Las Vegas</td>\n",
              "    </tr>\n",
              "    <tr>\n",
              "      <th>1</th>\n",
              "      <td>Cozy Studio with Private Entrance</td>\n",
              "      <td>Las Vegas</td>\n",
              "    </tr>\n",
              "    <tr>\n",
              "      <th>2</th>\n",
              "      <td>Upstairs bedroom and private bath in Large House</td>\n",
              "      <td>Las Vegas</td>\n",
              "    </tr>\n",
              "    <tr>\n",
              "      <th>3</th>\n",
              "      <td>Eggeman 8</td>\n",
              "      <td>Las Vegas</td>\n",
              "    </tr>\n",
              "    <tr>\n",
              "      <th>4</th>\n",
              "      <td>19H#Safe,Gated,Apt,W/Kitchn&amp;Bath,StdioFor2,Old...</td>\n",
              "      <td>Las Vegas</td>\n",
              "    </tr>\n",
              "    <tr>\n",
              "      <th>...</th>\n",
              "      <td>...</td>\n",
              "      <td>...</td>\n",
              "    </tr>\n",
              "    <tr>\n",
              "      <th>295</th>\n",
              "      <td>Comfort done with style,  $1799 per month</td>\n",
              "      <td>Las Vegas</td>\n",
              "    </tr>\n",
              "    <tr>\n",
              "      <th>296</th>\n",
              "      <td>Corner 1bdrm  Posh  Luxury Condo Palms Kitchen U</td>\n",
              "      <td>Las Vegas</td>\n",
              "    </tr>\n",
              "    <tr>\n",
              "      <th>297</th>\n",
              "      <td>Paradise in Las Vegas (near  to the airport)</td>\n",
              "      <td>Las Vegas</td>\n",
              "    </tr>\n",
              "    <tr>\n",
              "      <th>298</th>\n",
              "      <td>#2 cozy room near strip</td>\n",
              "      <td>Las Vegas</td>\n",
              "    </tr>\n",
              "    <tr>\n",
              "      <th>299</th>\n",
              "      <td>P 58 Penthouse w/Jacuzzi on Balcony | Sleeps 6</td>\n",
              "      <td>Las Vegas</td>\n",
              "    </tr>\n",
              "  </tbody>\n",
              "</table>\n",
              "<p>300 rows × 2 columns</p>\n",
              "</div>"
            ],
            "text/plain": [
              "                                                 title    location\n",
              "0             Great Room in a House close to the strip   Las Vegas\n",
              "1                    Cozy Studio with Private Entrance   Las Vegas\n",
              "2     Upstairs bedroom and private bath in Large House   Las Vegas\n",
              "3                                            Eggeman 8   Las Vegas\n",
              "4    19H#Safe,Gated,Apt,W/Kitchn&Bath,StdioFor2,Old...   Las Vegas\n",
              "..                                                 ...         ...\n",
              "295          Comfort done with style,  $1799 per month   Las Vegas\n",
              "296   Corner 1bdrm  Posh  Luxury Condo Palms Kitchen U   Las Vegas\n",
              "297       Paradise in Las Vegas (near  to the airport)   Las Vegas\n",
              "298                            #2 cozy room near strip  Las Vegas \n",
              "299     P 58 Penthouse w/Jacuzzi on Balcony | Sleeps 6   Las Vegas\n",
              "\n",
              "[300 rows x 2 columns]"
            ]
          },
          "metadata": {
            "tags": []
          },
          "execution_count": 33
        }
      ]
    },
    {
      "cell_type": "code",
      "metadata": {
        "id": "gri8x_CLJJ4i",
        "outputId": "5aeb4408-55f4-4bae-a61b-b746db95c829",
        "colab": {
          "base_uri": "https://localhost:8080/"
        }
      },
      "source": [
        "# how you'd do it in 1 line\n",
        "df['obnoxious_title'] = df.b.str.split(' - null - ', expand=True).rename({0:'title', 1:'location'}, axis=1)['title']\n",
        "\n",
        "df['obnoxious_title']"
      ],
      "execution_count": 34,
      "outputs": [
        {
          "output_type": "execute_result",
          "data": {
            "text/plain": [
              "0               Great Room in a House close to the strip\n",
              "1                      Cozy Studio with Private Entrance\n",
              "2       Upstairs bedroom and private bath in Large House\n",
              "3                                              Eggeman 8\n",
              "4      19H#Safe,Gated,Apt,W/Kitchn&Bath,StdioFor2,Old...\n",
              "                             ...                        \n",
              "295            Comfort done with style,  $1799 per month\n",
              "296     Corner 1bdrm  Posh  Luxury Condo Palms Kitchen U\n",
              "297         Paradise in Las Vegas (near  to the airport)\n",
              "298                              #2 cozy room near strip\n",
              "299       P 58 Penthouse w/Jacuzzi on Balcony | Sleeps 6\n",
              "Name: obnoxious_title, Length: 300, dtype: object"
            ]
          },
          "metadata": {
            "tags": []
          },
          "execution_count": 34
        }
      ]
    },
    {
      "cell_type": "code",
      "metadata": {
        "id": "7XDmJE_iJh4b"
      },
      "source": [
        "df.drop('obnoxious_title', axis=1, inplace=True)"
      ],
      "execution_count": 35,
      "outputs": []
    },
    {
      "cell_type": "code",
      "metadata": {
        "id": "A7B_aRcFJJ4n",
        "outputId": "b7320d9d-70b1-47b0-b403-8a62b96368a0",
        "colab": {
          "base_uri": "https://localhost:8080/",
          "height": 110
        }
      },
      "source": [
        "# a more readable way to do it\n",
        "thing = df.b.str.split(' - null - ', expand=True)\n",
        "\n",
        "thing.columns = ['title', 'location']\n",
        "\n",
        "df['b'] = thing['title']\n",
        "\n",
        "df.rename({'b':'title'}, axis=1, inplace=True)\n",
        "\n",
        "df.sample(2)"
      ],
      "execution_count": 36,
      "outputs": [
        {
          "output_type": "execute_result",
          "data": {
            "text/html": [
              "<div>\n",
              "<style scoped>\n",
              "    .dataframe tbody tr th:only-of-type {\n",
              "        vertical-align: middle;\n",
              "    }\n",
              "\n",
              "    .dataframe tbody tr th {\n",
              "        vertical-align: top;\n",
              "    }\n",
              "\n",
              "    .dataframe thead th {\n",
              "        text-align: right;\n",
              "    }\n",
              "</style>\n",
              "<table border=\"1\" class=\"dataframe\">\n",
              "  <thead>\n",
              "    <tr style=\"text-align: right;\">\n",
              "      <th></th>\n",
              "      <th>url</th>\n",
              "      <th>title</th>\n",
              "      <th>d</th>\n",
              "      <th>e</th>\n",
              "      <th>f</th>\n",
              "      <th>type</th>\n",
              "      <th>location</th>\n",
              "      <th>n_reviews</th>\n",
              "      <th>avg_rating</th>\n",
              "    </tr>\n",
              "  </thead>\n",
              "  <tbody>\n",
              "    <tr>\n",
              "      <th>161</th>\n",
              "      <td>https://airbnb.com/rooms/41270385</td>\n",
              "      <td>Vegas Affordable guest house close to everything.</td>\n",
              "      <td>2 guests · 1 bedroom · 1 bed · 1 bath</td>\n",
              "      <td>$71 / night</td>\n",
              "      <td>Wifi·Airconditioning·Petsallowed·Kitchen</td>\n",
              "      <td>Entire apartment</td>\n",
              "      <td>Las Vegas</td>\n",
              "      <td>35.0</td>\n",
              "      <td>4.9135</td>\n",
              "    </tr>\n",
              "    <tr>\n",
              "      <th>5</th>\n",
              "      <td>https://airbnb.com/rooms/45840505</td>\n",
              "      <td>Tahiti Village Moorea 1 BR Suite FRIDAY Check-In</td>\n",
              "      <td>4 guests · 1 bedroom · 2 beds · 1 bath</td>\n",
              "      <td>$56 / night</td>\n",
              "      <td>Wifi·Airconditioning·Pool·Freeparking</td>\n",
              "      <td>Entire condominium</td>\n",
              "      <td>Las Vegas</td>\n",
              "      <td>4.0</td>\n",
              "      <td>5.0400</td>\n",
              "    </tr>\n",
              "  </tbody>\n",
              "</table>\n",
              "</div>"
            ],
            "text/plain": [
              "                                   url  ... avg_rating\n",
              "161  https://airbnb.com/rooms/41270385  ...     4.9135\n",
              "5    https://airbnb.com/rooms/45840505  ...     5.0400\n",
              "\n",
              "[2 rows x 9 columns]"
            ]
          },
          "metadata": {
            "tags": []
          },
          "execution_count": 36
        }
      ]
    },
    {
      "cell_type": "markdown",
      "metadata": {
        "id": "W6C3eXbTJJ4p"
      },
      "source": [
        "#### Now what about f?\n",
        "Needs to transform into 19 bool columns..."
      ]
    },
    {
      "cell_type": "code",
      "metadata": {
        "id": "6dBWgV4CJJ4q",
        "outputId": "1bd12deb-91ce-4be8-eaa8-c5e16ef97228",
        "colab": {
          "base_uri": "https://localhost:8080/"
        }
      },
      "source": [
        "df.f.str.split('·')"
      ],
      "execution_count": 37,
      "outputs": [
        {
          "output_type": "execute_result",
          "data": {
            "text/plain": [
              "0             [Wifi, Airconditioning, Pool, Kitchen]\n",
              "1      [Wifi, Airconditioning, Kitchen, Freeparking]\n",
              "2      [Wifi, Airconditioning, Kitchen, Freeparking]\n",
              "3             [Wifi, Airconditioning, Pool, Kitchen]\n",
              "4             [Wifi, Airconditioning, Pool, Kitchen]\n",
              "                           ...                      \n",
              "295      [Wifi, Selfcheck-in, Airconditioning, Pool]\n",
              "296              [Gym, Elevator, Wifi, Selfcheck-in]\n",
              "297      [Breakfast, Wifi, Airconditioning, Kitchen]\n",
              "298    [Wifi, Airconditioning, Kitchen, Freeparking]\n",
              "299              [Gym, Elevator, Wifi, Selfcheck-in]\n",
              "Name: f, Length: 300, dtype: object"
            ]
          },
          "metadata": {
            "tags": []
          },
          "execution_count": 37
        }
      ]
    }
  ]
}