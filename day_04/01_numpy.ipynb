{
  "nbformat": 4,
  "nbformat_minor": 0,
  "metadata": {
    "colab": {
      "name": "01_numpy_linear_algebra.ipynb",
      "provenance": [],
      "authorship_tag": "ABX9TyPFOrt3ReE9mLT6h/EI01OF",
      "include_colab_link": true
    },
    "kernelspec": {
      "name": "python3",
      "display_name": "Python 3"
    }
  },
  "cells": [
    {
      "cell_type": "markdown",
      "metadata": {
        "id": "view-in-github",
        "colab_type": "text"
      },
      "source": [
        "<a href=\"https://colab.research.google.com/github/gumdropsteve/intro_to_python/blob/day_04/day_04/01_numpy.ipynb\" target=\"_parent\"><img src=\"https://colab.research.google.com/assets/colab-badge.svg\" alt=\"Open In Colab\"/></a>"
      ]
    },
    {
      "cell_type": "code",
      "metadata": {
        "id": "TLbxSC5y9stQ"
      },
      "source": [
        "import numpy as np"
      ],
      "execution_count": 9,
      "outputs": []
    },
    {
      "cell_type": "code",
      "metadata": {
        "colab": {
          "base_uri": "https://localhost:8080/"
        },
        "id": "x65oi3tO-gcN",
        "outputId": "b39c9a70-1c2f-4210-c62c-4e703c87bb13"
      },
      "source": [
        "np.random"
      ],
      "execution_count": 10,
      "outputs": [
        {
          "output_type": "execute_result",
          "data": {
            "text/plain": [
              "<module 'numpy.random' from '/usr/local/lib/python3.6/dist-packages/numpy/random/__init__.py'>"
            ]
          },
          "metadata": {
            "tags": []
          },
          "execution_count": 10
        }
      ]
    },
    {
      "cell_type": "code",
      "metadata": {
        "colab": {
          "base_uri": "https://localhost:8080/"
        },
        "id": "swsqtIp_-4LN",
        "outputId": "db80dda4-d649-4b50-87f5-4f25580be65a"
      },
      "source": [
        "# random array 3x3\r\n",
        "np.random.rand(3, 3)"
      ],
      "execution_count": 11,
      "outputs": [
        {
          "output_type": "execute_result",
          "data": {
            "text/plain": [
              "array([[0.89357444, 0.68223078, 0.90056958],\n",
              "       [0.61821118, 0.18866134, 0.02322307],\n",
              "       [0.59293357, 0.52425738, 0.09050618]])"
            ]
          },
          "metadata": {
            "tags": []
          },
          "execution_count": 11
        }
      ]
    },
    {
      "cell_type": "code",
      "metadata": {
        "colab": {
          "base_uri": "https://localhost:8080/"
        },
        "id": "J23ZEel4-mWs",
        "outputId": "ca7dd824-1a09-4af1-922d-600eef3ce6e8"
      },
      "source": [
        "np.random.rand(3, 3).shape"
      ],
      "execution_count": 12,
      "outputs": [
        {
          "output_type": "execute_result",
          "data": {
            "text/plain": [
              "(3, 3)"
            ]
          },
          "metadata": {
            "tags": []
          },
          "execution_count": 12
        }
      ]
    },
    {
      "cell_type": "code",
      "metadata": {
        "colab": {
          "base_uri": "https://localhost:8080/"
        },
        "id": "qGcFfJG-_JBE",
        "outputId": "a7986eaf-c5bb-4748-e525-7e26de73246e"
      },
      "source": [
        "np.random.rand(3, 3).size"
      ],
      "execution_count": 13,
      "outputs": [
        {
          "output_type": "execute_result",
          "data": {
            "text/plain": [
              "9"
            ]
          },
          "metadata": {
            "tags": []
          },
          "execution_count": 13
        }
      ]
    },
    {
      "cell_type": "code",
      "metadata": {
        "colab": {
          "base_uri": "https://localhost:8080/"
        },
        "id": "LSV11Ee0_LUS",
        "outputId": "0a05a467-8c00-4eb5-8224-f9d987453509"
      },
      "source": [
        "np.random.randint(4, 10, (3))"
      ],
      "execution_count": 33,
      "outputs": [
        {
          "output_type": "execute_result",
          "data": {
            "text/plain": [
              "array([7, 9, 4])"
            ]
          },
          "metadata": {
            "tags": []
          },
          "execution_count": 33
        }
      ]
    },
    {
      "cell_type": "code",
      "metadata": {
        "colab": {
          "base_uri": "https://localhost:8080/"
        },
        "id": "XOOWdkbJ_hqr",
        "outputId": "6cfc9ff7-995c-4a97-a11f-a663e68091e9"
      },
      "source": [
        "a = np.random.rand(3, 3)\r\n",
        "\r\n",
        "b = np.random.randint(4, 10, (3))\r\n",
        "\r\n",
        "a * b"
      ],
      "execution_count": 34,
      "outputs": [
        {
          "output_type": "execute_result",
          "data": {
            "text/plain": [
              "array([[2.36989935, 2.19589952, 4.37163559],\n",
              "       [3.98278529, 2.9364996 , 2.32700047],\n",
              "       [2.03056366, 1.52340606, 4.503763  ]])"
            ]
          },
          "metadata": {
            "tags": []
          },
          "execution_count": 34
        }
      ]
    },
    {
      "cell_type": "markdown",
      "metadata": {
        "id": "0bLe975hBe6F"
      },
      "source": [
        "## Matrix Multiplication with Numpy"
      ]
    },
    {
      "cell_type": "code",
      "metadata": {
        "colab": {
          "base_uri": "https://localhost:8080/"
        },
        "id": "XdledL19AFgt",
        "outputId": "713e5b75-5645-4572-b251-43f5a4191d9a"
      },
      "source": [
        "a = np.matrix(np.random.rand(3, 3))\r\n",
        "\r\n",
        "a"
      ],
      "execution_count": 35,
      "outputs": [
        {
          "output_type": "execute_result",
          "data": {
            "text/plain": [
              "matrix([[0.50620257, 0.15289366, 0.56367934],\n",
              "        [0.5716325 , 0.70817103, 0.06063075],\n",
              "        [0.3075915 , 0.89570286, 0.06963805]])"
            ]
          },
          "metadata": {
            "tags": []
          },
          "execution_count": 35
        }
      ]
    },
    {
      "cell_type": "code",
      "metadata": {
        "colab": {
          "base_uri": "https://localhost:8080/"
        },
        "id": "oAdgxPmXBREj",
        "outputId": "db10d1bb-635e-4ec6-da76-c49b3399d775"
      },
      "source": [
        "b = np.matrix(np.random.rand(3, 1))\r\n",
        "\r\n",
        "b"
      ],
      "execution_count": 36,
      "outputs": [
        {
          "output_type": "execute_result",
          "data": {
            "text/plain": [
              "matrix([[0.35359449],\n",
              "        [0.30346556],\n",
              "        [0.44600272]])"
            ]
          },
          "metadata": {
            "tags": []
          },
          "execution_count": 36
        }
      ]
    },
    {
      "cell_type": "code",
      "metadata": {
        "colab": {
          "base_uri": "https://localhost:8080/"
        },
        "id": "KIhhbEhaBZAj",
        "outputId": "0a1be2cc-2da9-4555-b7e5-06ff921d1882"
      },
      "source": [
        "a * b"
      ],
      "execution_count": 37,
      "outputs": [
        {
          "output_type": "execute_result",
          "data": {
            "text/plain": [
              "matrix([[0.47679092],\n",
              "        [0.4440731 ],\n",
              "        [0.41163639]])"
            ]
          },
          "metadata": {
            "tags": []
          },
          "execution_count": 37
        }
      ]
    },
    {
      "cell_type": "code",
      "metadata": {
        "id": "y3TqUDBMBZ3K"
      },
      "source": [
        ""
      ],
      "execution_count": null,
      "outputs": []
    },
    {
      "cell_type": "markdown",
      "metadata": {
        "id": "aiC2LO0LCtpw"
      },
      "source": [
        "### Computation on NumPy Arrays"
      ]
    },
    {
      "cell_type": "code",
      "metadata": {
        "colab": {
          "base_uri": "https://localhost:8080/"
        },
        "id": "A9yQ96A7C_Q7",
        "outputId": "23d0c9de-f313-4ca1-c455-6cf58ec6e8c8"
      },
      "source": [
        "w = np.random.randint(1, 10, size=(2, 3))\r\n",
        "w"
      ],
      "execution_count": 49,
      "outputs": [
        {
          "output_type": "execute_result",
          "data": {
            "text/plain": [
              "array([[8, 1, 6],\n",
              "       [7, 5, 1]])"
            ]
          },
          "metadata": {
            "tags": []
          },
          "execution_count": 49
        }
      ]
    },
    {
      "cell_type": "code",
      "metadata": {
        "colab": {
          "base_uri": "https://localhost:8080/"
        },
        "id": "c0cF5FReC_UE",
        "outputId": "90a13fce-0596-41be-b4c9-030ac1fe4340"
      },
      "source": [
        "np.add.reduce(w)"
      ],
      "execution_count": 50,
      "outputs": [
        {
          "output_type": "execute_result",
          "data": {
            "text/plain": [
              "array([15,  6,  7])"
            ]
          },
          "metadata": {
            "tags": []
          },
          "execution_count": 50
        }
      ]
    },
    {
      "cell_type": "code",
      "metadata": {
        "colab": {
          "base_uri": "https://localhost:8080/"
        },
        "id": "m6sDL1IgDVok",
        "outputId": "4aab2165-a5af-4400-ee3b-13f89392f31b"
      },
      "source": [
        "np.multiply.reduce(w)"
      ],
      "execution_count": 51,
      "outputs": [
        {
          "output_type": "execute_result",
          "data": {
            "text/plain": [
              "array([56,  5,  6])"
            ]
          },
          "metadata": {
            "tags": []
          },
          "execution_count": 51
        }
      ]
    },
    {
      "cell_type": "markdown",
      "metadata": {
        "id": "av-aDUcCDnx5"
      },
      "source": [
        "### Compairsons "
      ]
    },
    {
      "cell_type": "code",
      "metadata": {
        "colab": {
          "base_uri": "https://localhost:8080/"
        },
        "id": "PUEl53C4Cooj",
        "outputId": "b44a11a3-89e7-4cae-e952-36c3eb7fa125"
      },
      "source": [
        "np.random.rand(3, 3) > np.random.rand(3, 3)"
      ],
      "execution_count": 52,
      "outputs": [
        {
          "output_type": "execute_result",
          "data": {
            "text/plain": [
              "array([[ True, False, False],\n",
              "       [False, False, False],\n",
              "       [False,  True, False]])"
            ]
          },
          "metadata": {
            "tags": []
          },
          "execution_count": 52
        }
      ]
    },
    {
      "cell_type": "code",
      "metadata": {
        "colab": {
          "base_uri": "https://localhost:8080/"
        },
        "id": "jZIruabODnIq",
        "outputId": "de9c55f4-d44f-4ba1-e3c0-823c2a658dbd"
      },
      "source": [
        "np.random.rand(3, 3) <= np.random.rand(3, 3)"
      ],
      "execution_count": 53,
      "outputs": [
        {
          "output_type": "execute_result",
          "data": {
            "text/plain": [
              "array([[False, False,  True],\n",
              "       [ True,  True,  True],\n",
              "       [False,  True, False]])"
            ]
          },
          "metadata": {
            "tags": []
          },
          "execution_count": 53
        }
      ]
    },
    {
      "cell_type": "code",
      "metadata": {
        "colab": {
          "base_uri": "https://localhost:8080/"
        },
        "id": "DTrDiNKUDrn7",
        "outputId": "6aadc172-8319-4c8b-8e8a-9d721b99c577"
      },
      "source": [
        "np.random.rand(3, 3) != np.random.rand(3, 3)"
      ],
      "execution_count": 54,
      "outputs": [
        {
          "output_type": "execute_result",
          "data": {
            "text/plain": [
              "array([[ True,  True,  True],\n",
              "       [ True,  True,  True],\n",
              "       [ True,  True,  True]])"
            ]
          },
          "metadata": {
            "tags": []
          },
          "execution_count": 54
        }
      ]
    },
    {
      "cell_type": "code",
      "metadata": {
        "colab": {
          "base_uri": "https://localhost:8080/"
        },
        "id": "IVkCpZl4DtbD",
        "outputId": "482b2e24-e95d-4c33-9da4-a4502528a4cb"
      },
      "source": [
        "np.random.rand(3, 3) == np.random.rand(3, 3)"
      ],
      "execution_count": 55,
      "outputs": [
        {
          "output_type": "execute_result",
          "data": {
            "text/plain": [
              "array([[False, False, False],\n",
              "       [False, False, False],\n",
              "       [False, False, False]])"
            ]
          },
          "metadata": {
            "tags": []
          },
          "execution_count": 55
        }
      ]
    },
    {
      "cell_type": "code",
      "metadata": {
        "colab": {
          "base_uri": "https://localhost:8080/"
        },
        "id": "CWILpHBwDu6S",
        "outputId": "b1c115be-93e1-4f1c-b647-b0ad3761be0b"
      },
      "source": [
        "# reduce possible outcomes to integers 1 & 2\r\n",
        "np.random.randint(1, 3, size=(3, 3)) == np.random.randint(1, 3, size=(3, 3))"
      ],
      "execution_count": 60,
      "outputs": [
        {
          "output_type": "execute_result",
          "data": {
            "text/plain": [
              "array([[ True,  True, False],\n",
              "       [False, False,  True],\n",
              "       [ True, False,  True]])"
            ]
          },
          "metadata": {
            "tags": []
          },
          "execution_count": 60
        }
      ]
    },
    {
      "cell_type": "code",
      "metadata": {
        "id": "0VuxO73gD14b"
      },
      "source": [
        ""
      ],
      "execution_count": null,
      "outputs": []
    }
  ]
}